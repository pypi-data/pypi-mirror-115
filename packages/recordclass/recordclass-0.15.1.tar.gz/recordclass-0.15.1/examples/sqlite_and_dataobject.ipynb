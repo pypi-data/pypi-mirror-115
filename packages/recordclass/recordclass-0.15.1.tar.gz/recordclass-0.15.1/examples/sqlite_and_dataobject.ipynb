{
 "cells": [
  {
   "cell_type": "code",
   "execution_count": 1,
   "metadata": {},
   "outputs": [],
   "source": [
    "import sqlite3\n",
    "from random import random, randint\n",
    "import sys"
   ]
  },
  {
   "cell_type": "code",
   "execution_count": 2,
   "metadata": {},
   "outputs": [],
   "source": [
    "# !rm example.db\n",
    "\n",
    "# N = 3000000\n",
    "# conn = sqlite3.connect('example.db')\n",
    "# c = conn.cursor()\n",
    "# c.execute('''CREATE TABLE test\n",
    "#              (id int, x real, y real, p int, q int)''')\n",
    "# gen = ((i, random(), random(), randint(0,N), randint(0,N)) for i in range(N))\n",
    "# c.executemany(\"INSERT INTO test VALUES (?,?,?,?,?)\", gen)\n",
    "\n",
    "# conn.commit()\n",
    "# conn.close()"
   ]
  },
  {
   "cell_type": "code",
   "execution_count": 3,
   "metadata": {},
   "outputs": [
    {
     "name": "stdout",
     "output_type": "stream",
     "text": [
      "CPU times: user 2.83 s, sys: 284 ms, total: 3.11 s\n",
      "Wall time: 3.16 s\n",
      "264 Mb\n"
     ]
    }
   ],
   "source": [
    "conn = sqlite3.connect('example.db')\n",
    "c = conn.cursor()\n",
    "%time res_raw = [row for row in c.execute(\"SELECT id,x,y,p,q FROM test\")]\n",
    "conn.close()\n",
    "print(sum(sys.getsizeof(r) for r in res_raw) // 1000000, 'Mb')\n",
    "del res_raw"
   ]
  },
  {
   "cell_type": "code",
   "execution_count": 4,
   "metadata": {},
   "outputs": [
    {
     "name": "stdout",
     "output_type": "stream",
     "text": [
      "CPU times: user 4.94 s, sys: 208 ms, total: 5.15 s\n",
      "Wall time: 5.15 s\n",
      "240 Mb\n"
     ]
    }
   ],
   "source": [
    "class RowSlot:\n",
    "    __slots__ = 'id', 'x', 'y', 'p', 'q'\n",
    "    def __init__(self, id, x, y, p, q):\n",
    "        self.id = id\n",
    "        self.x = x\n",
    "        self.y = y\n",
    "        self.p = p\n",
    "        self.q = q\n",
    "\n",
    "conn = sqlite3.connect('example.db')\n",
    "c = conn.cursor()\n",
    "%time res_slots = [RowSlot(*row) for row in c.execute(\"SELECT id,x,y,p,q FROM test\")]\n",
    "conn.close()\n",
    "print(sum(sys.getsizeof(r) for r in res_slots) // 1000000, 'Mb')\n",
    "del res_slots"
   ]
  },
  {
   "cell_type": "code",
   "execution_count": 5,
   "metadata": {},
   "outputs": [
    {
     "name": "stdout",
     "output_type": "stream",
     "text": [
      "CPU times: user 2.96 s, sys: 176 ms, total: 3.14 s\n",
      "Wall time: 3.14 s\n",
      "168 Mb\n"
     ]
    }
   ],
   "source": [
    "from recordclass import make_class\n",
    "from recordclass.dataobject import new_dataobject\n",
    "\n",
    "Row = make_class(\"Row\", \"id x y p q\")\n",
    "conn = sqlite3.connect('example.db')\n",
    "c = conn.cursor()\n",
    "%time res = [new_dataobject(Row, row) for row in c.execute(\"SELECT id,x,y,p,q FROM test\")]\n",
    "conn.close()\n",
    "print(sum(sys.getsizeof(r) for r in res) // 1000000, 'Mb')\n",
    "del res"
   ]
  },
  {
   "cell_type": "code",
   "execution_count": null,
   "metadata": {},
   "outputs": [],
   "source": []
  }
 ],
 "metadata": {
  "kernelspec": {
   "display_name": "Python 3",
   "language": "python",
   "name": "python3"
  },
  "language_info": {
   "codemirror_mode": {
    "name": "ipython",
    "version": 3
   },
   "file_extension": ".py",
   "mimetype": "text/x-python",
   "name": "python",
   "nbconvert_exporter": "python",
   "pygments_lexer": "ipython3",
   "version": "3.7.3"
  }
 },
 "nbformat": 4,
 "nbformat_minor": 2
}
