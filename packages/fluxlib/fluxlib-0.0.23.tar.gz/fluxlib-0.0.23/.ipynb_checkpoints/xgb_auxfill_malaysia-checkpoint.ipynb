{
 "cells": [
  {
   "cell_type": "code",
   "execution_count": 2,
   "metadata": {},
   "outputs": [],
   "source": [
    "import sys\n",
    "import numpy as np\n",
    "from fluxlib import *\n",
    "from scitbx import Yaml\n",
    "from pathlib import Path\n",
    "from sklearn.model_selection import train_test_split"
   ]
  },
  {
   "cell_type": "code",
   "execution_count": 3,
   "metadata": {},
   "outputs": [],
   "source": [
    "cfg = Yaml(\"xgb_auxfill_malaysia_cfg.yaml\").load()\n",
    "\n",
    "drivers = cfg[\"drivers\"]\n",
    "timestamp_name = cfg[\"timestamp_name\"]\n",
    "timestamp_format = cfg[\"timestamp_format\"]\n",
    "data_path = cfg[\"source\"]"
   ]
  },
  {
   "cell_type": "code",
   "execution_count": 4,
   "metadata": {},
   "outputs": [],
   "source": [
    "filler = Filler()\n",
    "loader = Loader(data_path)\n",
    "df = loader.load_lowcost(drivers, timestamp_format).copy()"
   ]
  },
  {
   "cell_type": "code",
   "execution_count": 5,
   "metadata": {},
   "outputs": [],
   "source": [
    "# train & test & apply\n",
    "auxfiller = AuxFiller(df)\n",
    "auxfiller()"
   ]
  },
  {
   "cell_type": "code",
   "execution_count": 31,
   "metadata": {},
   "outputs": [],
   "source": [
    "import pickle\n",
    "\n",
    "with open(\"aux_fill_model.pkl\", \"rb\") as f:\n",
    "    xgb_model = pickle.load(f)"
   ]
  },
  {
   "cell_type": "code",
   "execution_count": 32,
   "metadata": {},
   "outputs": [],
   "source": [
    "import pandas as pd\n",
    "reverse_date = 10\n",
    "reverse_length = np.int(reverse_date * 48)\n",
    "df_ori = df\n",
    "df = df.interpolate(method = \"linear\", limit = 2)\n",
    "maxv = df.max().values[0]\n",
    "minv = df.min().values[0]\n",
    "\n",
    "gap_idxs = np.where(np.isfinite(df.values.ravel()) == False)[0]\n",
    "for idx in gap_idxs:\n",
    "    # print(idx)\n",
    "    if idx < reverse_length:\n",
    "        X = df.iloc[0: idx, :].values.ravel()\n",
    "        reps = np.ceil(reverse_length / idx).astype(np.int)\n",
    "        X = np.tile(X, reps)[0: reverse_length].reshape(1, -1)\n",
    "    else:\n",
    "        X = df.iloc[idx - reverse_length: idx, :].values.reshape(1, -1)\n",
    "    pred_val = xgb_model.predict(X)[0]\n",
    "    # print(df.iloc[idx, :])\n",
    "    if (pred_val > maxv) or (pred_val < minv):\n",
    "        if idx == len(df) - 1:\n",
    "            pred_val = df.interpolate().values[-1, 0]\n",
    "        else:\n",
    "            pred_val = df.iloc[0: idx + 1, :].interpolate().values[-1, 0]\n",
    "    df.iloc[idx, :] = pred_val\n",
    "#     print(pred_val, df.iloc[idx - 1, :].values[0])\n",
    "    \n",
    "#     break\n",
    "\n",
    "# print(df)"
   ]
  },
  {
   "cell_type": "code",
   "execution_count": 83,
   "metadata": {},
   "outputs": [],
   "source": [
    "df1 = df"
   ]
  },
  {
   "cell_type": "code",
   "execution_count": 34,
   "metadata": {},
   "outputs": [
    {
     "data": {
      "text/plain": [
       "[<matplotlib.lines.Line2D at 0x2065b667208>]"
      ]
     },
     "execution_count": 34,
     "metadata": {},
     "output_type": "execute_result"
    },
    {
     "data": {
      "image/png": "[encoded data removed]",
      "text/plain": [
       "<Figure size 432x288 with 1 Axes>"
      ]
     },
     "metadata": {
      "needs_background": "light"
     },
     "output_type": "display_data"
    }
   ],
   "source": [
    "from matplotlib import pyplot as plt\n",
    "# plt.plot(df.index, df)\n",
    "plt.plot(df_ori.index, df_ori)"
   ]
  }
 ],
 "metadata": {
  "kernelspec": {
   "display_name": "Python 3",
   "language": "python",
   "name": "python3"
  },
  "language_info": {
   "codemirror_mode": {
    "name": "ipython",
    "version": 3
   },
   "file_extension": ".py",
   "mimetype": "text/x-python",
   "name": "python",
   "nbconvert_exporter": "python",
   "pygments_lexer": "ipython3",
   "version": "3.7.4"
  }
 },
 "nbformat": 4,
 "nbformat_minor": 4
}
