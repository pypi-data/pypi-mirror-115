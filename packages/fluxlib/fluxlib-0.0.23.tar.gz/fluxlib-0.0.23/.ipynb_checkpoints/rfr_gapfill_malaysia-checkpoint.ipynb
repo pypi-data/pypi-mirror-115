{
 "cells": [
  {
   "cell_type": "code",
   "execution_count": 1,
   "metadata": {},
   "outputs": [],
   "source": [
    "import numpy as np\n",
    "from fluxlib import *\n",
    "from scitbx import Yaml\n",
    "from pathlib import Path\n",
    "from sklearn.model_selection import train_test_split"
   ]
  },
  {
   "cell_type": "code",
   "execution_count": 6,
   "metadata": {},
   "outputs": [],
   "source": [
    "cfg = Yaml(\"gapfill_malaysia_cfg.yaml\").load()\n",
    "\n",
    "drivers = cfg[\"drivers\"]\n",
    "flux = cfg[\"flux\"]\n",
    "rg = cfg[\"rg\"]\n",
    "timestamp_format = cfg[\"timestamp_format\"]\n",
    "bench_flux = cfg[\"bench_flux\"]\n",
    "qc = cfg[\"qc\"]\n",
    "timestamp_name = cfg[\"timestamp_name\"]\n",
    "timestamp_format = cfg[\"timestamp_format\"]\n",
    "data_path = cfg[\"source\"]"
   ]
  },
  {
   "cell_type": "code",
   "execution_count": 9,
   "metadata": {},
   "outputs": [
    {
     "name": "stdout",
     "output_type": "stream",
     "text": [
      "test results=> r2: 0.7641, rmse: 6.8726\n",
      "apply results=> r2:0.8508\n"
     ]
    }
   ],
   "source": [
    "# run for Sebungan and Sabaju\n",
    "filler = Filler()\n",
    "loader = Loader(data_path)\n",
    "#------------------------------------------------------------------------------------\n",
    "# load data:\n",
    "df = loader.load_lowcost(drivers + flux + qc + bench_flux, timestamp_format)\n",
    "#-------------------------------------------------\n",
    "# set tags:\n",
    "df, stat_tags = filler.set_stats(df, flux)\n",
    "df, season_tag = filler.set_season_tag(df)\n",
    "df, rg_tag = filler.set_rg_tag(df, rg)\n",
    "df, doy_year_tag = filler.set_doy_year_tag(df)\n",
    "#-------------------------------------------------\n",
    "# prepare and split data for RFR\n",
    "param_columns = drivers + stat_tags + season_tag + rg_tag + doy_year_tag\n",
    "X = df.dropna()[param_columns]\n",
    "y = df.dropna()[flux]\n",
    "X_train, X_test, y_train, y_test = train_test_split(\n",
    "    X, y, \n",
    "    test_size=0.33, \n",
    "    random_state=42\n",
    ")\n",
    "X_apply = df[param_columns].dropna()\n",
    "#--------------------------------------------------\n",
    "# train and test/apply RFR\n",
    "regr = filler.train_rfr(X_train, y_train, n_estimators = 500)\n",
    "result_df, r2, rmse = filler.test_rfr(regr, X_test, y_test)\n",
    "print(f\"test results=> r2: {np.round(r2, 4)}, rmse: {np.round(rmse, 4)}\")\n",
    "applied_df, r2 = filler.apply_rfr(regr, X_apply, df, flux, bench_flux)\n",
    "print(f\"apply results=> r2:{np.round(r2, 4)}\")\n",
    "result_df.to_csv(\"sebungan_test_0613.csv\")\n",
    "applied_df.to_csv(\"sebungan_apply_0613.csv\")"
   ]
  }
 ],
 "metadata": {
  "kernelspec": {
   "display_name": "Python 3",
   "language": "python",
   "name": "python3"
  },
  "language_info": {
   "codemirror_mode": {
    "name": "ipython",
    "version": 3
   },
   "file_extension": ".py",
   "mimetype": "text/x-python",
   "name": "python",
   "nbconvert_exporter": "python",
   "pygments_lexer": "ipython3",
   "version": "3.7.4"
  }
 },
 "nbformat": 4,
 "nbformat_minor": 4
}
