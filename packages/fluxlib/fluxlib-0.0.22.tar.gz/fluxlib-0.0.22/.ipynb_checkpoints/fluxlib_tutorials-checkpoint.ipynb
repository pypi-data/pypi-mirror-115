{
 "cells": [
  {
   "cell_type": "code",
   "execution_count": 1,
   "metadata": {},
   "outputs": [],
   "source": [
    "%load_ext autoreload\n",
    "%autoreload\n",
    "from pathlib import Path\n",
    "import numpy as np\n",
    "import pandas as pd\n",
    "from datetime import datetime\n",
    "import importlib\n",
    "import fluxlib\n",
    "importlib.reload(fluxlib)\n",
    "from fluxlib import *\n",
    "from scitbx import *"
   ]
  },
  {
   "cell_type": "code",
   "execution_count": 6,
   "metadata": {},
   "outputs": [
    {
     "name": "stdout",
     "output_type": "stream",
     "text": [
      "griffin\n"
     ]
    }
   ],
   "source": [
    "## Formatting flux data\n",
    "\n",
    "cfg_path = r\"C:\\workspace\\repositories\\fluxlib\\fluxlib\\preprocessing\\config.yaml\"\n",
    "# Can use ERA5 parameters\n",
    "formatter = Formatter(cfg_path)\n",
    "# save formatted df into csv and mds txt\n",
    "formatter()"
   ]
  },
  {
   "cell_type": "code",
   "execution_count": 8,
   "metadata": {},
   "outputs": [],
   "source": [
    "## Borrow aux from other sites\n",
    "\n",
    "# Roth LiCOR\n",
    "lender_path = r\"C:\\workspace\\fmt_roth\\Red_EddyPro_2017-2018_fmt.csv\"\n",
    "flux = \"NEE\"\n",
    "scale = \"15T\"\n",
    "# Roth Lowcost\n",
    "loader = Loader(r\"C:\\workspace\\fmt_roth_lowcost\\Roth_N_fmt.csv\")\n",
    "df = loader()\n",
    "df = borrow(df, lender_path, \"NEE\",scale = scale)\n",
    "# print(df)"
   ]
  },
  {
   "cell_type": "code",
   "execution_count": null,
   "metadata": {},
   "outputs": [],
   "source": [
    "# fill drivers\n",
    "loader = Loader(r\"C:\\workspace\\fmt_griffin\\griffin_fmt.csv\")\n",
    "drivers = [\"VPD\", \"Rg\", \"Tair\"]\n",
    "df = loader()\n",
    "df_new = find_start(df, drivers = drivers)\n",
    "for driver in drivers:\n",
    "    filler = AuxFiller(df_new[[driver]])\n",
    "    filled = filler()\n",
    "    print(filled)\n",
    "    df_new[driver] = filled[driver]\n",
    "df_new.to_csv(r\"C:\\workspace\\fmt_griffin\\griffin_fmt_aux_filled.csv\")"
   ]
  },
  {
   "cell_type": "code",
   "execution_count": 10,
   "metadata": {},
   "outputs": [],
   "source": [
    "# Make artificial gaps\n",
    "\n",
    "%autoreload\n",
    "loader = Loader(r\"C:\\workspace\\fmt_griffin\\griffin_fmt_aux_filled.csv\")\n",
    "drivers = [\"VPD\", \"Rg\", \"Tair\"]\n",
    "flux = [\"NEE\"]\n",
    "df = loader()\n",
    "\n",
    "# make gaps\n",
    "config_path = r\"C:\\workspace\\repositories\\fluxlib\\fluxlib\\gapfill\\make_gaps_cfg.yaml\"\n",
    "\n",
    "train_idx, test_idx = utils.make_gap_pipeline(config_path, df, \"NEE\")\n",
    "\n",
    "# print(len(train_idx))\n",
    "# print(len(test_idx))\n",
    "# print(df.__len__())\n",
    "\n",
    "# print(df[[\"NEE\"]].iloc[test_idx])"
   ]
  },
  {
   "cell_type": "code",
   "execution_count": 11,
   "metadata": {},
   "outputs": [
    {
     "name": "stdout",
     "output_type": "stream",
     "text": [
      "===============================================================\n",
      "using input train & test\n",
      "test_site, 0.6693, 3.9494\n",
      "===============================================================\n"
     ]
    }
   ],
   "source": [
    "# Filling gaps\n",
    "\n",
    "# %load_ext autoreload\n",
    "%autoreload\n",
    "\n",
    "df_orig = df.copy()\n",
    "# ===========================================================================\n",
    "cfg_path = r\"C:\\workspace\\repositories\\fluxlib\\fluxlib\\gapfill\\ggapfill.yaml\"\n",
    "filler = GFiller(cfg_path)\n",
    "\n",
    "print(\"===============================================================\")\n",
    "res, app = filler.run_filling_pipeline(df, itrain = train_idx, itest = test_idx)\n",
    "print(\"===============================================================\")\n",
    "# print(res)\n",
    "\n",
    "filler.save_mds_txt(df, test_idx, r\"C:\\workspace\\fmt_griffin\", \"griffin\")\n",
    "# df.iloc[test_idx, :]\n",
    "df_orig[\"NEE\"] = app[\"estimates\"]\n",
    "\n",
    "df_orig.to_csv(r\"C:\\workspace\\fmt_griffin\\griffin_filled.csv\")"
   ]
  },
  {
   "cell_type": "code",
   "execution_count": 12,
   "metadata": {},
   "outputs": [
    {
     "name": "stdout",
     "output_type": "stream",
     "text": [
      "[ 0.39600708 -0.05227558  0.03859189 ...  0.57024802  0.57745428\n",
      "  0.7015265 ]\n",
      "[0.51959058 0.35654076 0.34411587 ... 0.74546853 0.74659298 0.74539359]\n"
     ]
    }
   ],
   "source": [
    "# partitioning\n",
    "loader = Loader(r\"C:\\workspace\\fmt_griffin\\griffin_filled.csv\")\n",
    "drivers = [\"VPD\", \"Rg\", \"Tair\"]\n",
    "flux = [\"NEE\"]\n",
    "\n",
    "df = loader()\n",
    "\n",
    "GPP, Reco = neepart_wrapper(nee2gpp, df, method = \"global\")\n",
    "\n",
    "print(GPP)\n",
    "print(Reco)"
   ]
  },
  {
   "cell_type": "code",
   "execution_count": 1,
   "metadata": {},
   "outputs": [
    {
     "name": "stdout",
     "output_type": "stream",
     "text": [
      "[ 0.39600708 -0.05227558  0.03859189 ...  0.57024802  0.57745428\n",
      "  0.7015265 ]\n",
      "[0.51959058 0.35654076 0.34411587 ... 0.74546853 0.74659298 0.74539359]\n"
     ]
    },
    {
     "data": {
      "image/png": "[encoded data removed]",
      "text/plain": [
       "<Figure size 432x288 with 1 Axes>"
      ]
     },
     "metadata": {
      "needs_background": "light"
     },
     "output_type": "display_data"
    }
   ],
   "source": [
    "# # DRAFT\n",
    "\n",
    "# %reload_ext autoreload\n",
    "# %autoreload\n",
    "# from fluxlib import *\n",
    "# from matplotlib import pyplot as plt\n",
    "# import numpy as np\n",
    "\n",
    "# def neepart_wrapper(func_part, df, undef = -9999, method = \"global\"):\n",
    "#     df[\"Tair\"] += 273.15\n",
    "#     df[\"VPD\"] *= 100\n",
    "#     df = df.rename(\n",
    "#         columns = {\n",
    "#             'NEE': 'FC', 'Rg': 'SW_IN', 'Tair': 'TA', 'VPD': 'VPD'\n",
    "#         }\n",
    "#     )\n",
    "#     df = df.loc[:, ['FC', 'SW_IN', 'TA', 'VPD']]\n",
    "#     df = df.replace(np.nan, undef)\n",
    "#     dates = df.index\n",
    "#     df = df.values.T\n",
    "#     flag = np.where(df == undef, 2, 0)\n",
    "#     colhead = ['FC', 'SW_IN', 'TA', 'VPD']\n",
    "#     GPP, Reco = func_part(df, flag = flag, date = dates, colhead = colhead, undef = undef, method = method)\n",
    "#     return GPP, Reco\n",
    "\n",
    "\n",
    "# # partitioning\n",
    "# loader = Loader(r\"C:\\workspace\\fmt_griffin\\griffin_filled.csv\")\n",
    "# drivers = [\"VPD\", \"Rg\", \"Tair\"]\n",
    "# flux = [\"NEE\"]\n",
    "\n",
    "# df = loader()\n",
    "\n",
    "# GPP, Reco = neepart_wrapper(nee2gpp, df, method = \"global\")\n",
    "# plt.plot(GPP)\n",
    "# plt.plot(Reco)\n",
    "# print(GPP)\n",
    "# print(Reco)\n",
    "# plt.show()\n",
    "    \n",
    "\n",
    "# # # undef = -9999\n",
    "# # # df = df.replace(np.nan, undef)\n",
    "# # # adate = df.index\n",
    "# # # df = df.rename(\n",
    "# # #     columns = {\n",
    "# # #         'NEE': 'FC', 'Rg': 'SW_IN', 'Tair': 'TA', 'VPD': 'VPD'\n",
    "# # #     }\n",
    "# # # )\n",
    "# # # # print(df)\n",
    "# # # df = df.loc[:, ['FC', 'SW_IN', 'TA', 'VPD']]\n",
    "# # # # print(flag.shape)\n",
    "# # # print(df.values.T.shape)\n",
    "# # # flag = np.where(df.values.T == undef, 2, 0)\n",
    "# # # print(flag.shape)\n",
    "# # # colhead = df.columns.tolist()\n",
    "# # # GPP, Reco = nee2gpp(df.values.T, flag=flag, date=adate, colhead=colhead, undef=undef, method='global')\n",
    "\n",
    "# # # print(GPP.shape)\n",
    "# # # print(Reco.shape)\n",
    "\n",
    "# # # # parter = Partitioner(df)\n",
    "\n",
    "# # import numpy as np\n",
    "# # from hesseflux.fread import fread\n",
    "# # from hesseflux.date2dec import date2dec\n",
    "# # from hesseflux.dec2date import dec2date\n",
    "# # from hesseflux import nee2gpp\n",
    "# # ifile = r'C:\\Users\\sz394\\Downloads\\hesseflux-master\\hesseflux\\test_nee2gpp.csv'\n",
    "# # undef = -9999.\n",
    "# # dat   = fread(ifile, skip=2, transpose=True)\n",
    "# # ndat  = dat.shape[1]\n",
    "# # head  = fread(ifile, skip=2, header=True)\n",
    "# # print(f\"head: {head}\")\n",
    "# # head1 = head[0]\n",
    "# # print(f\"head1: {head1}\")\n",
    "# # # date\n",
    "# # jdate = date2dec(dy=dat[0,:], mo=dat[1,:], yr=dat[2,:], hr=dat[3,:], mi=dat[4,:])\n",
    "# # print(f\"jdate: {jdate}\")\n",
    "# # adate = dec2date(jdate, eng=True)\n",
    "# # print(f\"adate: {adate}\")\n",
    "# # # colhead\n",
    "# # idx   = []\n",
    "# # for i in head1:\n",
    "# #     if i in ['NEE', 'rg', 'Tair', 'VPD']: idx.append(head1.index(i))\n",
    "# # colhead = ['FC', 'SW_IN', 'TA', 'VPD']\n",
    "# # print(f\"idx: {idx}\")\n",
    "# # # data\n",
    "# # dfin = dat[idx,:]\n",
    "# # print(f\"dfin1: {dfin}\")\n",
    "# # dfin[2,:] = np.where(dfin[2,:] == undef, undef, dfin[2,:]+273.15)\n",
    "# # dfin[3,:] = np.where(dfin[3,:] == undef, undef, dfin[3,:]*100.)\n",
    "# # print(f\"dfin2: {dfin}\")\n",
    "# # # flag\n",
    "# # flag = np.where(dfin == undef, 2, 0)\n",
    "# # print(f\"flag: {flag.shape}\")\n",
    "# # print(np.where(dfin == undef))\n",
    "# # # partition\n",
    "# # print(dfin.shape)\n",
    "# # GPP, Reco = nee2gpp(dfin, flag=flag, date=adate, colhead=colhead, undef=undef, method='global')\n",
    "# # # print(GPP[1120:1128])\n",
    "# # print(GPP)\n",
    "# # print(Reco)"
   ]
  }
 ],
 "metadata": {
  "kernelspec": {
   "display_name": "Python 3",
   "language": "python",
   "name": "python3"
  },
  "language_info": {
   "codemirror_mode": {
    "name": "ipython",
    "version": 3
   },
   "file_extension": ".py",
   "mimetype": "text/x-python",
   "name": "python",
   "nbconvert_exporter": "python",
   "pygments_lexer": "ipython3",
   "version": "3.7.4"
  }
 },
 "nbformat": 4,
 "nbformat_minor": 4
}
