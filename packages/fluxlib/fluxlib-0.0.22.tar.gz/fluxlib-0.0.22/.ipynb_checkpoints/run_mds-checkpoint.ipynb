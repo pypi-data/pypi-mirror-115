{
 "cells": [
  {
   "cell_type": "code",
   "execution_count": 15,
   "metadata": {},
   "outputs": [
    {
     "name": "stderr",
     "output_type": "stream",
     "text": [
      "also installing the dependency 'rappdirs'\n",
      "\n"
     ]
    },
    {
     "name": "stdout",
     "output_type": "stream",
     "text": [
      "package 'rappdirs' successfully unpacked and MD5 sums checked\n",
      "package 'reticulate' successfully unpacked and MD5 sums checked\n",
      "\n",
      "The downloaded binary packages are in\n",
      "\tC:\\Users\\sz394\\AppData\\Local\\Temp\\Rtmps9WhoC\\downloaded_packages\n"
     ]
    }
   ],
   "source": [
    "install.packages(\"REddyProc\")\n",
    "install.packages(\"tidyverse\")\n",
    "update.packages(oldPkgs=\"dplyr\")\n",
    "install.packages(\"reticulate\")"
   ]
  },
  {
   "cell_type": "code",
   "execution_count": 3,
   "metadata": {},
   "outputs": [],
   "source": [
    "library(REddyProc)\n",
    "#+++ Input data from csv (example needs to be downloaded)\n",
    "examplePath <- getExamplePath('Example_DETha98.txt', isTryDownload = TRUE)\n",
    "if (length(examplePath)) {\n",
    "  EddyData <- fLoadTXTIntoDataframe(examplePath)\n",
    "} else {\n",
    "  warning(\n",
    "      \"Could not find example text data file.\"\n",
    "      ,\" In order to execute this example code,\"\n",
    "      ,\" please, allow downloading it from github. \" \n",
    "      ,\" Type '?getExamplePath' for more information.\")\n",
    "  # using RData version distributed with the package instead\n",
    "  EddyData <- Example_DETha98\n",
    "}\n",
    "#+++ If not provided, calculate VPD from Tair and rH\n",
    "EddyData$VPD <- fCalcVPDfromRHandTair(EddyData$rH, EddyData$Tair)\n",
    "#+++ Add time stamp in POSIX time format\n",
    "EddyDataWithPosix <- EddyData %>% \n",
    "  filterLongRuns(\"NEE\") %>% \n",
    "  fConvertTimeToPosix('YDH', Year = 'Year', Day = 'DoY', Hour = 'Hour')\n",
    "#+++ Initalize R5 reference class sEddyProc for processing of eddy data\n",
    "#+++ with all variables needed for processing later\n",
    "EProc <- sEddyProc$new(\n",
    "  'DE-Tha', EddyDataWithPosix, c('NEE','Rg','Tair','VPD', 'Ustar'))\n",
    "#Location of DE-Tharandt\n",
    "EProc$sSetLocationInfo(LatDeg = 51.0, LongDeg = 13.6, TimeZoneHour = 1)  \n",
    "#\n",
    "#++ Fill NEE gaps with MDS gap filling algorithm (without prior ustar filtering)\n",
    "EProc$sMDSGapFill('NEE', FillAll = FALSE)\n",
    "#\n",
    "#++ Export gap filled and partitioned data to standard data frame\n",
    "FilledEddyData <- EProc$sExportResults()\n",
    "#\n",
    "#++ Example plots of filled data to screen or to directory \\plots\n",
    "EProc$sPlotFingerprintY('NEE_f', Year = 1998)"
   ]
  },
  {
   "cell_type": "code",
   "execution_count": 1,
   "metadata": {},
   "outputs": [
    {
     "name": "stdout",
     "output_type": "stream",
     "text": [
      "[1] NA\n"
     ]
    },
    {
     "ename": "ERROR",
     "evalue": "Error in fSetFile(FileName, Dir, T, \"fLoadTXTIntoDataframe\"): fLoadTXTIntoDataframe:::fSetFile::: File does not exist or has no read permission: NA\n",
     "output_type": "error",
     "traceback": [
      "Error in fSetFile(FileName, Dir, T, \"fLoadTXTIntoDataframe\"): fLoadTXTIntoDataframe:::fSetFile::: File does not exist or has no read permission: NA\nTraceback:\n",
      "1. fLoadTXTIntoDataframe(p)",
      "2. fSetFile(FileName, Dir, T, \"fLoadTXTIntoDataframe\")",
      "3. stop(CallFunction.s, \":::fSetFile::: File does not exist or has no read permission: \", \n .     File.s)"
     ]
    }
   ],
   "source": [
    "# for fluxnet\n",
    "library(REddyProc)\n",
    "library(reticulate)\n",
    "Path <- import(\"pathlib\")\n",
    "\n",
    "paths <- Sys.glob(\"C:\\\\workspace\\\\repositories\\\\fluxlib\\\\data\\\\fluxnet4mds\\\\*.txt\")\n",
    "# paths <- Sys.glob(\"C:\\\\workspace\\\\repositories\\\\fluxlib\\\\data\\\\groth4mds\\\\*.txt\")\n",
    "# files <- list.files(\"C:\\\\workspace\\\\repositories\\\\fluxlib\\\\data\\\\fluxnet4mds\", pattern= \"*.txt\")\n",
    "# print(length(files))\n",
    "\n",
    "for (p in paths[194: length(paths)])\n",
    "{\n",
    "    name = basename(p)\n",
    "    print(name)\n",
    "    save_file <- paste(substr(name, start=0, stop=nchar(name) - 4), \"_mds.txt\")\n",
    "    \n",
    "    EddyData <- fLoadTXTIntoDataframe(p)\n",
    "\n",
    "    #+++ Add time stamp in POSIX time format\n",
    "    EddyDataWithPosix <- EddyData %>% \n",
    "      filterLongRuns(\"NEE\") %>% \n",
    "      fConvertTimeToPosix('YDH', Year = 'Year', Day = 'DoY', Hour = 'Hour')\n",
    "    #+++ Initalize R5 reference class sEddyProc for processing of eddy data\n",
    "    #+++ with all variables needed for processing later\n",
    "    EProc <- sEddyProc$new(\n",
    "      name, EddyDataWithPosix, c('NEE','Rg','Tair','VPD'))\n",
    "\n",
    "    #++ Fill NEE gaps with MDS gap filling algorithm (without prior ustar filtering)\n",
    "    EProc$sMDSGapFill('NEE', FillAll = FALSE)\n",
    "    #\n",
    "    #++ Export gap filled and partitioned data to standard data frame\n",
    "    FilledEddyData <- EProc$sExportResults()\n",
    "    fWriteDataframeToFile(FilledEddyData, save_file, 'out')\n",
    "}\n"
   ]
  },
  {
   "cell_type": "code",
   "execution_count": 10,
   "metadata": {},
   "outputs": [
    {
     "name": "stdout",
     "output_type": "stream",
     "text": [
      "[1] \"griffin.txt\"\n"
     ]
    },
    {
     "name": "stderr",
     "output_type": "stream",
     "text": [
      "Loaded file C:\\workspace\\repositories\\fluxlib\\data\\groth4mds\\griffin.txt with the following variables (units):\n",
      " *** Year(-) DoY(-) Hour(-) NEE(umolm-2s-1) Rg(Wm-2) Tair(degC) VPD(hPa)\n",
      "Number of '-9999' convertered to NA: 19538\n",
      "Converted time format 'YDH' to POSIX with column name 'DateTime'.\n",
      "Warning message in fCheckHHTimeSeries(Data[, ColPOSIXTime], DTS = DTS, \"sEddyProc.initialize\"):\n",
      "\"sEddyProc.initialize:::fCheckHHTimeSeries::: Data not provided in full days (multiple of daily time step). One day only has 8 (half-)hours!\"Warning message in fCheckHHTimeSeries(Data[, ColPOSIXTime], DTS = DTS, \"sEddyProc.initialize\"):\n",
      "\"sEddyProc.initialize:::fCheckHHTimeSeries::: Time stamp of first data row is not at the end of the first half-hour: 00:00 instead of 00:30!\"Warning message in fCheckHHTimeSeries(Data[, ColPOSIXTime], DTS = DTS, \"sEddyProc.initialize\"):\n",
      "\"sEddyProc.initialize:::fCheckHHTimeSeries::: The last time stamp is not midnight: 0:00!\"Warning message in fCheckOutsideRange(Data.F, VarName.V.s[v.i], c(\">\", 100), SubCallFunc.s):\n",
      "\"sEddyProc.initialize:::fCheckColPlausibility:::fCheckOutsideRange::: Variable outside (plausible) range in 1056 cases! Invalid values with 'NEE > 100': 112, 136, 115, 163, 178, 133, 153, 117, 132, 137, 117, 113, 125, 130, 110, 119, 115, 154, 103, 147, 123, 152, 102, 145, 145, 122, 143, 135, 102, 127, 250, 209, 169, 198, 173, 186, 109, 159, 116, 120, 105, 163, 155, 199, 173, 156, 146, 167, 136, 114 ...\"Warning message in fCheckOutsideRange(Data.F, VarName.V.s[v.i], c(\"<\", 0), SubCallFunc.s):\n",
      "\"sEddyProc.initialize:::fCheckColPlausibility:::fCheckOutsideRange::: Variable outside (plausible) range in 3125 cases! Invalid values with 'Rg < 0': -0.1045, -0.0773, -1.0437, -3.6905, -7.6859, -0.5824, -0.8769, -1.2667, -0.8333, -1.6500, -0.0467, -1.0786, -0.4443, -0.0075, -0.0755, -0.0746, -0.1818, -0.1072, -1.3191, -0.6092, -1.6119, -0.0179, -0.1144, -0.4505, -0.3479, -0.4840, -0.7972, -0.9096, -1.0299, -0.7135, -0.6688, -0.5474, -0.3740, -0.2363, -0.0624, -0.0792, -0.0074, -0.0211, -0.0749, -0.1242, -0.1562, -0.1363, -0.0375, -0.0138, -0.0001, -0.0808, -0.0808, -0.1283, -0.1882, -0.2382 ...\"Warning message in fCheckOutsideRange(Data.F, VarName.V.s[v.i], c(\"<\", 0), SubCallFunc.s):\n",
      "\"sEddyProc.initialize:::fCheckColPlausibility:::fCheckOutsideRange::: Variable outside (plausible) range in 111 cases! Invalid values with 'VPD < 0': -2.4e-02, -3.2e-02, -1.3e-02, -5.2e-03, -6.6e-03, -2.4e-02, -1.5e-02, -1.4e-04, -2.2e-03, -2.6e-03, -5.6e-02, -2.1e-02, -2.8e-02, -1.9e-02, -1.2e-03, -1.8e-03, -4.3e-02, -1.3e-03, -1.3e-03, -1.5e-02, -5.3e-03, -4.3e-07, -2.7e-03, -6.2e-02, -5.0e-02, -1.4e-02, -2.7e-03, -4.1e-03, -1.8e-02, -1.8e-02, -1.8e-02, -5.0e-04, -8.7e-03, -2.1e-02, -6.0e-03, -2.3e-02, -9.5e-03, -1.1e-02, -1.1e-03, -4.0e-05, -1.4e-03, -2.7e-03, -7.5e-03, -7.1e-04, -3.7e-05, -4.1e-03, -5.5e-03, -5.5e-03, -2.7e-03, -4.8e-04 ...\"New sEddyProc class for site 'griffin.txt'\n",
      "Initialized variable 'NEE' with 19538 real gaps for gap filling.\n",
      "Full MDS algorithm for gap filling of 'NEE' with LUT(Rg, VPD, Tair) and MDC.\n",
      "Look up table with window size of 7 days with Rg VPD Tair\n",
      "............................................................\n",
      ".............................................................\n",
      ".............................................................\n",
      "................12392\n",
      "Look up table with window size of 14 days with Rg VPD Tair\n",
      "............................................................\n",
      "............3589\n",
      "Look up table with window size of 7 days with Rg\n",
      "...................................3283\n",
      "Mean diurnal course with window size of 0 days: .\n",
      "..8\n",
      "Mean diurnal course with window size of 1 days: .\n",
      "..51\n",
      "Mean diurnal course with window size of 2 days: .\n",
      "..22\n",
      "Look up table with window size of 21 days with Rg VPD Tair\n",
      ".155\n",
      "Look up table with window size of 28 days with Rg VPD Tair\n",
      "28\n",
      "Look up table with window size of 35 days with Rg VPD Tair\n",
      "5\n",
      "Look up table with window size of 42 days with Rg VPD Tair\n",
      "2\n",
      "Look up table with window size of 49 days with Rg VPD Tair\n",
      "0\n",
      "Look up table with window size of 56 days with Rg VPD Tair\n",
      "1\n",
      "Look up table with window size of 63 days with Rg VPD Tair\n",
      "0\n",
      "Look up table with window size of 70 days with Rg VPD Tair\n",
      "1\n",
      "Look up table with window size of 14 days with Rg\n",
      "0\n",
      "Look up table with window size of 21 days with Rg\n",
      "1\n",
      "Finished gap filling of 'NEE' in 13 seconds. Artificial gaps filled: 88568, real gaps filled: 19538, unfilled (long) gaps: 0.\n",
      "Number of NA convertered to '-9999': 364688\n",
      "Wrote tab separated textfile: out/griffin _mds.txt\n"
     ]
    }
   ],
   "source": [
    "# for malaysia\n",
    "library(REddyProc)\n",
    "p = \"C:\\\\workspace\\\\repositories\\\\fluxlib\\\\data\\\\malaysia4mds\\\\Sabaju_gapfilled_Ustar_005.txt\"\n",
    "# p = \"C:\\\\workspace\\\\repositories\\\\fluxlib\\\\data\\\\groth4mds\\\\griffin.txt\"\n",
    "# Sabaju_gapfilled_Ustar_005.txt\n",
    "# Sebungan_gapfilled_Ustar_01.txt\n",
    "name = basename(p)\n",
    "print(name)\n",
    "save_file <- paste(substr(name, start=0, stop=nchar(name) - 4), \"_mds.txt\")\n",
    "\n",
    "EddyData <- fLoadTXTIntoDataframe(p)\n",
    "\n",
    "#+++ Add time stamp in POSIX time format\n",
    "EddyDataWithPosix <- EddyData %>% \n",
    "  filterLongRuns(\"NEE\") %>% \n",
    "  fConvertTimeToPosix('YDH', Year = 'Year', Day = 'DoY', Hour = 'Hour')\n",
    "#+++ Initalize R5 reference class sEddyProc for processing of eddy data\n",
    "#+++ with all variables needed for processing later\n",
    "EProc <- sEddyProc$new(\n",
    "  name, EddyDataWithPosix, c('NEE','Rg','Tair','VPD'))\n",
    "\n",
    "#++ Fill NEE gaps with MDS gap filling algorithm (without prior ustar filtering)\n",
    "EProc$sMDSGapFill('NEE', FillAll = FALSE)\n",
    "#\n",
    "#++ Export gap filled and partitioned data to standard data frame\n",
    "FilledEddyData <- EProc$sExportResults()\n",
    "fWriteDataframeToFile(FilledEddyData, save_file, 'out')"
   ]
  }
 ],
 "metadata": {
  "kernelspec": {
   "display_name": "R",
   "language": "R",
   "name": "ir"
  },
  "language_info": {
   "codemirror_mode": "r",
   "file_extension": ".r",
   "mimetype": "text/x-r-source",
   "name": "R",
   "pygments_lexer": "r",
   "version": "3.6.3"
  }
 },
 "nbformat": 4,
 "nbformat_minor": 4
}
