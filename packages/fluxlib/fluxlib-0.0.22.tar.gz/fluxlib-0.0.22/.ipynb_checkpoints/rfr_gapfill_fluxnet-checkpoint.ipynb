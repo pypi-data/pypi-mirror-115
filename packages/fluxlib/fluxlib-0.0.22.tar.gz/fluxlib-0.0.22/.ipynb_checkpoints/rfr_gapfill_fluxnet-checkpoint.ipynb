{
 "cells": [
  {
   "cell_type": "code",
   "execution_count": 1,
   "metadata": {},
   "outputs": [],
   "source": [
    "import numpy as np\n",
    "from fluxlib import *\n",
    "from scitbx import Yaml\n",
    "from pathlib import Path\n",
    "from sklearn.model_selection import train_test_split"
   ]
  },
  {
   "cell_type": "code",
   "execution_count": 3,
   "metadata": {},
   "outputs": [],
   "source": [
    "cfg = Yaml(\"rfr_gapfill_fluxnet_cfg.yaml\").load()\n",
    "\n",
    "drivers = cfg[\"drivers\"]\n",
    "flux = cfg[\"flux\"]\n",
    "rg = cfg[\"rg\"]\n",
    "timestamp_format = cfg[\"timestamp_format\"]\n",
    "paths = Path(cfg[\"source\"]).glob(r\"*.csv\")"
   ]
  },
  {
   "cell_type": "code",
   "execution_count": 5,
   "metadata": {},
   "outputs": [],
   "source": [
    "filler = Filler()\n",
    "for data_path in paths:\n",
    "    loader = Loader(data_path)\n",
    "    df = loader.load_fluxnet(drivers + flux, timestamp_format)\n",
    "    #-------------------------------------------------\n",
    "    # set tags:\n",
    "    df, stat_tags = filler.set_stats(df, flux)\n",
    "    df, season_tag = filler.set_season_tag(df)\n",
    "    df, rg_tag = filler.set_rg_tag(df, rg)\n",
    "    df, doy_year_tag = filler.set_doy_year_tag(df)\n",
    "    #-------------------------------------------------\n",
    "    # prepare and split data for RFR\n",
    "    param_columns = drivers + stat_tags + season_tag + rg_tag + doy_year_tag\n",
    "    X = df.dropna()[param_columns]\n",
    "    y = df.dropna()[flux]\n",
    "    X_train, X_test, y_train, y_test = train_test_split(\n",
    "        X, y, \n",
    "        test_size=0.33, \n",
    "        random_state=42\n",
    "    )\n",
    "    X_apply = df[param_columns].dropna()\n",
    "    y_apply = df[flux].dropna()\n",
    "    #--------------------------------------------------\n",
    "    # train and test/apply RFR\n",
    "    regr = filler.train_rfr(X_train, y_train, n_estimators = 100)\n",
    "    result_df, r2, rmse = filler.test_rfr(regr, X_test, y_test)\n",
    "    print(f\"{data_path.stem}, {np.round(r2, 4)}, {np.round(rmse, 4)}\")\n",
    "    # applied_df, r2, rmse = test_rfr(regr, X_apply, y_apply)\n",
    "    # print(f\"apply results=> r2:{np.round(r2, 4)}, rmse: {np.round(rmse, 4)}\")\n",
    "    # sys.exit(0)"
   ]
  }
 ],
 "metadata": {
  "kernelspec": {
   "display_name": "Python 3",
   "language": "python",
   "name": "python3"
  },
  "language_info": {
   "codemirror_mode": {
    "name": "ipython",
    "version": 3
   },
   "file_extension": ".py",
   "mimetype": "text/x-python",
   "name": "python",
   "nbconvert_exporter": "python",
   "pygments_lexer": "ipython3",
   "version": "3.7.4"
  }
 },
 "nbformat": 4,
 "nbformat_minor": 4
}
