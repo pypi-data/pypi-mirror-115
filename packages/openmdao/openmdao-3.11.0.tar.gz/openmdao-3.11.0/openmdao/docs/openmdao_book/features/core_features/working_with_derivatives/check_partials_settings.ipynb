{
 "cells": [
  {
   "cell_type": "code",
   "execution_count": null,
   "metadata": {
    "tags": [
     "remove-input",
     "remove-output",
     "active-ipynb"
    ]
   },
   "outputs": [],
   "source": [
    "try:\n",
    "    from openmdao.utils.notebook_utils import notebook_mode\n",
    "except ImportError:\n",
    "    !python -m pip install openmdao[notebooks]"
   ]
  },
  {
   "cell_type": "markdown",
   "metadata": {},
   "source": [
    "# Changing Check Settings for FD or CS\n",
    "\n",
    "## Changing Settings for Inputs on a Specific Component\n",
    "\n",
    "You can change the settings for the approximation schemes that will be used to compare with your component’s derivatives by calling the `set_check_partial_options` method."
   ]
  },
  {
   "cell_type": "markdown",
   "metadata": {},
   "source": [
    "```{eval-rst}\n",
    "    .. automethod:: openmdao.core.component.Component.set_check_partial_options\n",
    "        :noindex:\n",
    "```"
   ]
  },
  {
   "cell_type": "markdown",
   "metadata": {},
   "source": [
    "```{Note}\n",
    "If you want to use method=”cs”, then you must also pass `force_alloc_complex`=True to setup. See the example below.\n",
    "``` "
   ]
  },
  {
   "cell_type": "markdown",
   "metadata": {},
   "source": [
    "This allows custom tailoring of the approximation settings on a variable basis."
   ]
  },
  {
   "cell_type": "markdown",
   "metadata": {},
   "source": [
    "## Usage Examples"
   ]
  },
  {
   "cell_type": "code",
   "execution_count": null,
   "metadata": {
    "tags": [
     "remove-input",
     "remove-output"
    ]
   },
   "outputs": [],
   "source": [
    "from openmdao.utils.notebook_utils import get_code\n",
    "from myst_nb import glue\n",
    "glue(\"code_src59\", get_code(\"openmdao.test_suite.components.paraboloid_mat_vec.ParaboloidMatVec\"), display=False)"
   ]
  },
  {
   "cell_type": "markdown",
   "metadata": {},
   "source": [
    ":::{Admonition} `ParaboloidMatVec` class definition \n",
    ":class: dropdown\n",
    "\n",
    "{glue:}`code_src59`\n",
    ":::"
   ]
  },
  {
   "cell_type": "code",
   "execution_count": null,
   "metadata": {
    "tags": [
     "remove-input",
     "remove-output"
    ]
   },
   "outputs": [],
   "source": [
    "from openmdao.utils.notebook_utils import get_code\n",
    "from myst_nb import glue\n",
    "glue(\"code_src60\", get_code(\"openmdao.core.tests.test_check_derivs.ParaboloidTricky\"), display=False)"
   ]
  },
  {
   "cell_type": "markdown",
   "metadata": {},
   "source": [
    ":::{Admonition} `ParaboloidTricky` class definition \n",
    ":class: dropdown\n",
    "\n",
    "{glue:}`code_src60`\n",
    ":::"
   ]
  },
  {
   "cell_type": "code",
   "execution_count": null,
   "metadata": {
    "scrolled": true
   },
   "outputs": [],
   "source": [
    "import openmdao.api as om\n",
    "from openmdao.core.tests.test_check_derivs import ParaboloidTricky\n",
    "from openmdao.test_suite.components.paraboloid_mat_vec import ParaboloidMatVec\n",
    "\n",
    "prob = om.Problem()\n",
    "\n",
    "comp = prob.model.add_subsystem('comp', ParaboloidTricky())\n",
    "prob.model.add_subsystem('comp2', ParaboloidMatVec())\n",
    "\n",
    "prob.model.connect('comp.f_xy', 'comp2.x')\n",
    "\n",
    "prob.set_solver_print(level=0)\n",
    "\n",
    "comp.set_check_partial_options(wrt='*', step=1e-2)\n",
    "\n",
    "prob.setup()\n",
    "prob.run_model()\n",
    "\n",
    "prob.check_partials(compact_print=True)"
   ]
  },
  {
   "cell_type": "markdown",
   "metadata": {},
   "source": [
    "Here, we show how to set the method. In this case, we use complex step on TrickyParaboloid because the finite difference is less accurate."
   ]
  },
  {
   "cell_type": "markdown",
   "metadata": {},
   "source": [
    "---"
   ]
  },
  {
   "cell_type": "markdown",
   "metadata": {},
   "source": [
    "```{Note}\n",
    "You need to `set force_alloc_complex` to True during setup to utilize complex step during a check.\n",
    "```"
   ]
  },
  {
   "cell_type": "code",
   "execution_count": null,
   "metadata": {},
   "outputs": [],
   "source": [
    "import openmdao.api as om\n",
    "from openmdao.core.tests.test_check_derivs import ParaboloidTricky\n",
    "from openmdao.test_suite.components.paraboloid_mat_vec import ParaboloidMatVec\n",
    "\n",
    "prob = om.Problem()\n",
    "\n",
    "comp = prob.model.add_subsystem('comp', ParaboloidTricky())\n",
    "prob.model.add_subsystem('comp2', ParaboloidMatVec())\n",
    "\n",
    "prob.model.connect('comp.f_xy', 'comp2.x')\n",
    "\n",
    "prob.set_solver_print(level=0)\n",
    "\n",
    "comp.set_check_partial_options(wrt='*', method='cs')\n",
    "\n",
    "prob.setup(force_alloc_complex=True)\n",
    "prob.run_model()\n",
    "\n",
    "prob.check_partials(compact_print=True)"
   ]
  },
  {
   "cell_type": "markdown",
   "metadata": {},
   "source": [
    "## Directional Derivatives\n",
    "You can also specify that an input or set of inputs be checked using a directional derivative. For vector inputs, this means that, instead of calculating the derivative with respect to each element of the array, we calculate the derivative with respect to a linear combination of all array indices. For finite difference and complex step, the step value is applied simultaneously to all elements of the vector. This is a much quicker check because it only requires a single execution of the component for the variable rather than one for each element of the array."
   ]
  },
  {
   "cell_type": "code",
   "execution_count": null,
   "metadata": {
    "tags": [
     "remove-input",
     "remove-output"
    ]
   },
   "outputs": [],
   "source": [
    "from openmdao.utils.notebook_utils import get_code\n",
    "from myst_nb import glue\n",
    "glue(\"code_src61\", get_code(\"openmdao.test_suite.components.array_comp.ArrayComp\"), display=False)"
   ]
  },
  {
   "cell_type": "markdown",
   "metadata": {},
   "source": [
    ":::{Admonition} `ArrayComp` class definition \n",
    ":class: dropdown\n",
    "\n",
    "{glue:}`code_src61`\n",
    ":::"
   ]
  },
  {
   "cell_type": "code",
   "execution_count": null,
   "metadata": {
    "scrolled": true
   },
   "outputs": [],
   "source": [
    "import openmdao.api as om\n",
    "from openmdao.test_suite.components.array_comp import ArrayComp\n",
    "\n",
    "prob = om.Problem()\n",
    "model = prob.model\n",
    "mycomp = model.add_subsystem('mycomp', ArrayComp(), promotes=['*'])\n",
    "\n",
    "prob.setup()\n",
    "prob.run_model()\n",
    "\n",
    "data = prob.check_partials()"
   ]
  },
  {
   "cell_type": "markdown",
   "metadata": {},
   "source": [
    "If your component is matrix-free and you request directional derivatives, then your reverse mode derivatives will be verified using the dot product test described [here](http://www.reproducibility.org/RSF/book/gee/ajt/paper_html/node20.html)."
   ]
  },
  {
   "cell_type": "code",
   "execution_count": null,
   "metadata": {
    "scrolled": true
   },
   "outputs": [],
   "source": [
    "import numpy as np\n",
    "\n",
    "import openmdao.api as om\n",
    "\n",
    "class ArrayCompMatrixFree(om.ExplicitComponent):\n",
    "\n",
    "    def setup(self):\n",
    "\n",
    "        J1 = np.array([[1.0, 3.0, -2.0, 7.0],\n",
    "                        [6.0, 2.5, 2.0, 4.0],\n",
    "                        [-1.0, 0.0, 8.0, 1.0],\n",
    "                        [1.0, 4.0, -5.0, 6.0]])\n",
    "\n",
    "        self.J1 = J1\n",
    "        self.J2 = J1 * 3.3\n",
    "        self.Jb = J1.T\n",
    "\n",
    "        # Inputs\n",
    "        self.add_input('x1', np.zeros([4]))\n",
    "        self.add_input('x2', np.zeros([4]))\n",
    "        self.add_input('bb', np.zeros([4]))\n",
    "\n",
    "        # Outputs\n",
    "        self.add_output('y1', np.zeros([4]))\n",
    "\n",
    "        self.set_check_partial_options('*', directional=True)\n",
    "\n",
    "    def compute(self, inputs, outputs):\n",
    "        \"\"\"\n",
    "        Execution.\n",
    "        \"\"\"\n",
    "        outputs['y1'] = self.J1.dot(inputs['x1']) + self.J2.dot(inputs['x2']) + self.Jb.dot(inputs['bb'])\n",
    "\n",
    "    def compute_jacvec_product(self, inputs, dinputs, doutputs, mode):\n",
    "        \"\"\"Returns the product of the incoming vector with the Jacobian.\"\"\"\n",
    "\n",
    "        if mode == 'fwd':\n",
    "            if 'x1' in dinputs:\n",
    "                doutputs['y1'] += self.J1.dot(dinputs['x1'])\n",
    "            if 'x2' in dinputs:\n",
    "                doutputs['y1'] += self.J2.dot(dinputs['x2'])\n",
    "            if 'bb' in dinputs:\n",
    "                doutputs['y1'] += self.Jb.dot(dinputs['bb'])\n",
    "\n",
    "        elif mode == 'rev':\n",
    "            if 'x1' in dinputs:\n",
    "                dinputs['x1'] += self.J1.T.dot(doutputs['y1'])\n",
    "            if 'x2' in dinputs:\n",
    "                dinputs['x2'] += self.J2.T.dot(doutputs['y1'])\n",
    "            if 'bb' in dinputs:\n",
    "                dinputs['bb'] += self.Jb.T.dot(doutputs['y1'])\n",
    "\n",
    "prob = om.Problem()\n",
    "model = prob.model\n",
    "model.add_subsystem('mycomp', ArrayCompMatrixFree(), promotes=['*'])\n",
    "\n",
    "prob.setup()\n",
    "prob.run_model()\n",
    "\n",
    "data = prob.check_partials()"
   ]
  },
  {
   "cell_type": "markdown",
   "metadata": {},
   "source": [
    "## Changing Global Settings For Whole Model"
   ]
  },
  {
   "cell_type": "markdown",
   "metadata": {},
   "source": [
    "You can change the settings globally for all approximations used for all components. This is done by passing in a value for any of the following arguments:"
   ]
  },
  {
   "cell_type": "markdown",
   "metadata": {},
   "source": [
    "| Name      | Description                                                                                    |\n",
    "|-----------|------------------------------------------------------------------------------------------------|\n",
    "| method    | Method for check: “fd” for finite difference, “cs” for complex step.                           |\n",
    "| form      | Finite difference form for check, can be “forward”, “central”, or backward.                    |\n",
    "| step      | Step size for finite difference check.                                                         |\n",
    "| step_calc | Type of step calculation for check, can be “abs” for absolute (default) or “rel” for relative. |\n"
   ]
  },
  {
   "cell_type": "markdown",
   "metadata": {},
   "source": [
    "```{Note}\n",
    "The global check options take precedence over the ones defined on a component.\n",
    "``` "
   ]
  },
  {
   "cell_type": "markdown",
   "metadata": {},
   "source": [
    "## Usage Examples"
   ]
  },
  {
   "cell_type": "code",
   "execution_count": null,
   "metadata": {
    "scrolled": true
   },
   "outputs": [],
   "source": [
    "import openmdao.api as om\n",
    "from openmdao.core.tests.test_check_derivs import ParaboloidTricky\n",
    "from openmdao.test_suite.components.paraboloid_mat_vec import ParaboloidMatVec\n",
    "\n",
    "prob = om.Problem()\n",
    "\n",
    "prob.model.add_subsystem('comp', ParaboloidTricky())\n",
    "prob.model.add_subsystem('comp2', ParaboloidMatVec())\n",
    "\n",
    "prob.model.connect('comp.f_xy', 'comp2.x')\n",
    "\n",
    "prob.set_solver_print(level=0)\n",
    "\n",
    "prob.setup()\n",
    "prob.run_model()\n",
    "\n",
    "prob.check_partials(step=1e-2, compact_print=True)"
   ]
  },
  {
   "cell_type": "markdown",
   "metadata": {},
   "source": [
    "```{Note}\n",
    "You need to set `force_alloc_complex` to True during setup to utilize complex step during a check.\n",
    "```"
   ]
  },
  {
   "cell_type": "code",
   "execution_count": null,
   "metadata": {},
   "outputs": [],
   "source": [
    "import openmdao.api as om\n",
    "from openmdao.core.tests.test_check_derivs import ParaboloidTricky\n",
    "from openmdao.test_suite.components.paraboloid_mat_vec import ParaboloidMatVec\n",
    "\n",
    "prob = om.Problem()\n",
    "\n",
    "prob.model.add_subsystem('comp', ParaboloidTricky())\n",
    "prob.model.add_subsystem('comp2', ParaboloidMatVec())\n",
    "\n",
    "prob.model.connect('comp.f_xy', 'comp2.x')\n",
    "\n",
    "prob.set_solver_print(level=0)\n",
    "\n",
    "prob.setup(force_alloc_complex=True)\n",
    "prob.run_model()\n",
    "\n",
    "prob.check_partials(method='cs', compact_print=True)"
   ]
  },
  {
   "cell_type": "markdown",
   "metadata": {},
   "source": [
    "---"
   ]
  },
  {
   "cell_type": "code",
   "execution_count": null,
   "metadata": {
    "scrolled": true
   },
   "outputs": [],
   "source": [
    "import openmdao.api as om\n",
    "from openmdao.core.tests.test_check_derivs import ParaboloidTricky\n",
    "from openmdao.test_suite.components.paraboloid_mat_vec import ParaboloidMatVec\n",
    "\n",
    "prob = om.Problem()\n",
    "\n",
    "prob.model.add_subsystem('comp', ParaboloidTricky())\n",
    "prob.model.add_subsystem('comp2', ParaboloidMatVec())\n",
    "\n",
    "prob.model.connect('comp.f_xy', 'comp2.x')\n",
    "\n",
    "prob.set_solver_print(level=0)\n",
    "\n",
    "prob.setup()\n",
    "prob.run_model()\n",
    "\n",
    "prob.check_partials(form='central', compact_print=True)"
   ]
  },
  {
   "cell_type": "markdown",
   "metadata": {},
   "source": [
    "---"
   ]
  },
  {
   "cell_type": "code",
   "execution_count": null,
   "metadata": {},
   "outputs": [],
   "source": [
    "import openmdao.api as om\n",
    "from openmdao.core.tests.test_check_derivs import ParaboloidTricky\n",
    "\n",
    "prob = om.Problem()\n",
    "\n",
    "prob.model.add_subsystem('comp', ParaboloidTricky())\n",
    "\n",
    "prob.set_solver_print(level=0)\n",
    "\n",
    "prob.setup()\n",
    "prob.run_model()\n",
    "\n",
    "prob.check_partials(step_calc='rel', compact_print=True)"
   ]
  }
 ],
 "metadata": {
  "celltoolbar": "Tags",
  "kernelspec": {
   "display_name": "Python 3",
   "language": "python",
   "name": "python3"
  },
  "language_info": {
   "codemirror_mode": {
    "name": "ipython",
    "version": 3
   },
   "file_extension": ".py",
   "mimetype": "text/x-python",
   "name": "python",
   "nbconvert_exporter": "python",
   "pygments_lexer": "ipython3",
   "version": "3.8.1"
  },
  "orphan": true
 },
 "nbformat": 4,
 "nbformat_minor": 5
}
