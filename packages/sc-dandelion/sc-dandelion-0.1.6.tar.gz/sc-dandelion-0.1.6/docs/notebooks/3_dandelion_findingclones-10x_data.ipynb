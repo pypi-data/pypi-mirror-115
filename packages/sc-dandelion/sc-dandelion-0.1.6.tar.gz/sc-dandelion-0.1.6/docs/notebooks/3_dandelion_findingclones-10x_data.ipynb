{
 "cells": [
  {
   "cell_type": "markdown",
   "metadata": {},
   "source": [
    "# BCR clustering\n",
    "\n",
    "![dandelion_logo](img/dandelion_logo_illustration.png)\n",
    "\n",
    "On the topic of finding clones/clonotypes, there are many ways used for clustering BCRs, almost all involving some measure based on sequence similarity. There are also a lot of very well established guidelines and criterias maintained by the BCR community. For example, *immcantation* uses a number of model-based [methods](https://changeo.readthedocs.io/en/stable/methods/clustering.html) to group clones based on the distribution of length-normalised junctional hamming distance while others use the whole BCR V(D)J sequence to define clones as shown in this recent [paper](https://www.nature.com/articles/s41586-019-1595-3.pdf)."
   ]
  },
  {
   "cell_type": "markdown",
   "metadata": {},
   "source": [
    "***Import modules***"
   ]
  },
  {
   "cell_type": "code",
   "execution_count": 1,
   "metadata": {
    "scrolled": true
   },
   "outputs": [
    {
     "name": "stdout",
     "output_type": "stream",
     "text": [
      "dandelion==0.1.5.dev40 pandas==1.2.3 numpy==1.21.0 matplotlib==3.3.4 networkx==2.6 scipy==1.7.0 skbio==0.5.6\n"
     ]
    }
   ],
   "source": [
    "import os\n",
    "import pandas as pd\n",
    "import dandelion as ddl\n",
    "ddl.logging.print_header()"
   ]
  },
  {
   "cell_type": "code",
   "execution_count": 2,
   "metadata": {
    "scrolled": true
   },
   "outputs": [
    {
     "name": "stdout",
     "output_type": "stream",
     "text": [
      "scanpy==1.6.0 anndata==0.7.6 umap==0.4.6 numpy==1.21.0 scipy==1.7.0 pandas==1.2.3 scikit-learn==0.24.1 statsmodels==0.12.1 python-igraph==0.8.3 leidenalg==0.8.3\n"
     ]
    }
   ],
   "source": [
    "# change directory to somewhere more workable\n",
    "os.chdir(os.path.expanduser('/Users/kt16/Downloads/dandelion_tutorial/'))\n",
    "# I'm importing scanpy here to make use of its logging module.\n",
    "import scanpy as sc\n",
    "sc.settings.verbosity = 3\n",
    "import warnings\n",
    "warnings.filterwarnings('ignore')\n",
    "sc.logging.print_header()"
   ]
  },
  {
   "cell_type": "markdown",
   "metadata": {},
   "source": [
    "***Read in the previously saved files***\n",
    "\n",
    "I will work with the same example from the previous section since I have the filtered V(D)J data stored in a `Dandelion` class."
   ]
  },
  {
   "cell_type": "code",
   "execution_count": 3,
   "metadata": {
    "scrolled": true
   },
   "outputs": [
    {
     "data": {
      "text/plain": [
       "Dandelion class object with n_obs = 560 and n_contigs = 1127\n",
       "    data: 'sequence_id', 'sequence', 'rev_comp', 'productive', 'v_call', 'd_call', 'j_call', 'sequence_alignment', 'germline_alignment', 'junction', 'junction_aa', 'v_cigar', 'd_cigar', 'j_cigar', 'stop_codon', 'vj_in_frame', 'locus', 'junction_length', 'np1_length', 'np2_length', 'v_sequence_start', 'v_sequence_end', 'v_germline_start', 'v_germline_end', 'd_sequence_start', 'd_sequence_end', 'd_germline_start', 'd_germline_end', 'j_sequence_start', 'j_sequence_end', 'j_germline_start', 'j_germline_end', 'v_score', 'v_identity', 'v_support', 'd_score', 'd_identity', 'd_support', 'j_score', 'j_identity', 'j_support', 'fwr1', 'fwr2', 'fwr3', 'fwr4', 'cdr1', 'cdr2', 'cdr3', 'cell_id', 'c_call', 'consensus_count', 'umi_count', 'v_call_10x', 'd_call_10x', 'j_call_10x', 'junction_10x', 'junction_10x_aa', 'v_call_genotyped', 'germline_alignment_d_mask', 'sample_id', 'c_sequence_alignment', 'c_germline_alignment', 'c_sequence_start', 'c_sequence_end', 'c_score', 'c_identity', 'c_support', 'c_call_10x', 'junction_aa_length', 'fwr1_aa', 'fwr2_aa', 'fwr3_aa', 'fwr4_aa', 'cdr1_aa', 'cdr2_aa', 'cdr3_aa', 'sequence_alignment_aa', 'v_sequence_alignment_aa', 'd_sequence_alignment_aa', 'j_sequence_alignment_aa', 'mu_count', 'duplicate_count'\n",
       "    metadata: 'sample_id', 'locus_VDJ', 'locus_VJ', 'productive_VDJ', 'productive_VJ', 'v_call_genotyped_VDJ', 'v_call_genotyped_VJ', 'j_call_VDJ', 'j_call_VJ', 'c_call_VDJ', 'c_call_VJ', 'duplicate_count_VDJ_0', 'duplicate_count_VDJ_1', 'duplicate_count_VDJ_2', 'duplicate_count_VJ_0', 'duplicate_count_VJ_1', 'junction_aa_VDJ', 'junction_aa_VJ', 'status', 'status_summary', 'productive', 'productive_summary', 'isotype', 'isotype_summary', 'vdj_status', 'vdj_status_summary', 'constant_status_summary'\n",
       "    distance: None\n",
       "    edges: None\n",
       "    layout: None\n",
       "    graph: None"
      ]
     },
     "execution_count": 3,
     "metadata": {},
     "output_type": "execute_result"
    }
   ],
   "source": [
    "vdj = ddl.read_h5('dandelion_results.h5')\n",
    "vdj"
   ]
  },
  {
   "cell_type": "markdown",
   "metadata": {},
   "source": [
    "## Finding clones\n",
    "\n",
    "The following is *dandelion*'s implementation of a rather conventional method to define clones, `tl.find_clones`. \n",
    "\n",
    "Clone definition is based on the following criterias:\n",
    "\n",
    "    (1) Identical IGH V-J gene usage.\n",
    "\n",
    "    (2) Identical CDR3 junctional sequence length.\n",
    "\n",
    "    (3) CDR3 Junctional sequences attains a minimum of % sequence similarity, based on hamming distance. The similarity cut-off is tunable (default is 85%).\n",
    "\n",
    "    (4) Light chain usage. If cells within clones use different light chains, the clone will be splitted following the same conditions for heavy chains in (1-3) as above. \n",
    "\n",
    "The 'clone_id' name follows a `{A}_{B}_{C}_{D}` format and largely reflects the conditions above where:\n",
    "\n",
    "    {A} indicates if the contigs use the same IGH V/J genes.\n",
    "    \n",
    "    {B} indicates if IGH junctional sequences are equal in length.\n",
    "    \n",
    "    {C} indicates if clones are splitted based on junctional hamming distance threshold\n",
    "    \n",
    "    {D} indicates light chain pairing. \n",
    "\n",
    "The last position will not be annotated if there's only one group of light chains usage detected in the clone."
   ]
  },
  {
   "cell_type": "markdown",
   "metadata": {},
   "source": [
    "### Running `tl.find_clones`\n",
    "The function will take a file path, a pandas `DataFrame` (for example if you've used pandas to read in the filtered file already), or a `Dandelion` class object. The default mode for calculation of junctional hamming distance is to use the CDR3 junction amino acid sequences, specified via the `key` option (`None` defaults to `junction_aa`). You can switch it to using CDR3 junction nucleotide sequences (`key = 'junction'`, or even the full V(D)J amino acid sequence (`key = 'sequence_alignment_aa`), as long as the column name exists in the `.data` slot.\n",
    "\n",
    "If you want to use the alleles for defining V-J gene usuage, specify:\n",
    "```python\n",
    "by_alleles = True\n",
    "```\n",
    "\n",
    "Clustering TCR is potentially possible with the same setup, although some parameters may need to be tweaked."
   ]
  },
  {
   "cell_type": "code",
   "execution_count": 4,
   "metadata": {
    "scrolled": false
   },
   "outputs": [
    {
     "name": "stdout",
     "output_type": "stream",
     "text": [
      "Finding clonotypes\n"
     ]
    },
    {
     "name": "stderr",
     "output_type": "stream",
     "text": [
      "Finding clones based on VDJ chains : 100%|██████████| 153/153 [00:00<00:00, 3372.64it/s]\n",
      "Refining clone assignment based on VJ chain pairing : 100%|██████████| 560/560 [00:00<00:00, 580383.06it/s]\n"
     ]
    },
    {
     "name": "stdout",
     "output_type": "stream",
     "text": [
      " finished: Updated Dandelion object: \n",
      "   'data', contig-indexed clone table\n",
      "   'metadata', cell-indexed clone table\n",
      " (0:00:00)\n"
     ]
    },
    {
     "data": {
      "text/plain": [
       "Dandelion class object with n_obs = 560 and n_contigs = 1127\n",
       "    data: 'sequence_id', 'sequence', 'rev_comp', 'productive', 'v_call', 'd_call', 'j_call', 'sequence_alignment', 'germline_alignment', 'junction', 'junction_aa', 'v_cigar', 'd_cigar', 'j_cigar', 'stop_codon', 'vj_in_frame', 'locus', 'junction_length', 'np1_length', 'np2_length', 'v_sequence_start', 'v_sequence_end', 'v_germline_start', 'v_germline_end', 'd_sequence_start', 'd_sequence_end', 'd_germline_start', 'd_germline_end', 'j_sequence_start', 'j_sequence_end', 'j_germline_start', 'j_germline_end', 'v_score', 'v_identity', 'v_support', 'd_score', 'd_identity', 'd_support', 'j_score', 'j_identity', 'j_support', 'fwr1', 'fwr2', 'fwr3', 'fwr4', 'cdr1', 'cdr2', 'cdr3', 'cell_id', 'c_call', 'consensus_count', 'umi_count', 'v_call_10x', 'd_call_10x', 'j_call_10x', 'junction_10x', 'junction_10x_aa', 'v_call_genotyped', 'germline_alignment_d_mask', 'sample_id', 'c_sequence_alignment', 'c_germline_alignment', 'c_sequence_start', 'c_sequence_end', 'c_score', 'c_identity', 'c_support', 'c_call_10x', 'junction_aa_length', 'fwr1_aa', 'fwr2_aa', 'fwr3_aa', 'fwr4_aa', 'cdr1_aa', 'cdr2_aa', 'cdr3_aa', 'sequence_alignment_aa', 'v_sequence_alignment_aa', 'd_sequence_alignment_aa', 'j_sequence_alignment_aa', 'mu_count', 'duplicate_count', 'clone_id'\n",
       "    metadata: 'clone_id', 'clone_id_by_size', 'sample_id', 'locus_VDJ', 'locus_VJ', 'productive_VDJ', 'productive_VJ', 'v_call_genotyped_VDJ', 'v_call_genotyped_VJ', 'j_call_VDJ', 'j_call_VJ', 'c_call_VDJ', 'c_call_VJ', 'duplicate_count_VDJ_0', 'duplicate_count_VDJ_1', 'duplicate_count_VDJ_2', 'duplicate_count_VJ_0', 'duplicate_count_VJ_1', 'junction_aa_VDJ', 'junction_aa_VJ', 'status', 'status_summary', 'productive', 'productive_summary', 'isotype', 'isotype_summary', 'vdj_status', 'vdj_status_summary', 'constant_status_summary'\n",
       "    distance: None\n",
       "    edges: None\n",
       "    layout: None\n",
       "    graph: None"
      ]
     },
     "execution_count": 4,
     "metadata": {},
     "output_type": "execute_result"
    }
   ],
   "source": [
    "ddl.tl.find_clones(vdj)\n",
    "vdj"
   ]
  },
  {
   "cell_type": "markdown",
   "metadata": {},
   "source": [
    "This will return a new column with the column name `'clone_id'` as per convention. If a file path is provided as input, it will also save the file automatically into the base directory of the file name. Otherwise, a `Dandelion` object will be returned."
   ]
  },
  {
   "cell_type": "code",
   "execution_count": 5,
   "metadata": {},
   "outputs": [
    {
     "data": {
      "text/html": [
       "<div>\n",
       "<style scoped>\n",
       "    .dataframe tbody tr th:only-of-type {\n",
       "        vertical-align: middle;\n",
       "    }\n",
       "\n",
       "    .dataframe tbody tr th {\n",
       "        vertical-align: top;\n",
       "    }\n",
       "\n",
       "    .dataframe thead th {\n",
       "        text-align: right;\n",
       "    }\n",
       "</style>\n",
       "<table border=\"1\" class=\"dataframe\">\n",
       "  <thead>\n",
       "    <tr style=\"text-align: right;\">\n",
       "      <th></th>\n",
       "      <th>clone_id</th>\n",
       "      <th>clone_id_by_size</th>\n",
       "      <th>sample_id</th>\n",
       "      <th>locus_VDJ</th>\n",
       "      <th>locus_VJ</th>\n",
       "      <th>productive_VDJ</th>\n",
       "      <th>productive_VJ</th>\n",
       "      <th>v_call_genotyped_VDJ</th>\n",
       "      <th>v_call_genotyped_VJ</th>\n",
       "      <th>j_call_VDJ</th>\n",
       "      <th>...</th>\n",
       "      <th>junction_aa_VJ</th>\n",
       "      <th>status</th>\n",
       "      <th>status_summary</th>\n",
       "      <th>productive</th>\n",
       "      <th>productive_summary</th>\n",
       "      <th>isotype</th>\n",
       "      <th>isotype_summary</th>\n",
       "      <th>vdj_status</th>\n",
       "      <th>vdj_status_summary</th>\n",
       "      <th>constant_status_summary</th>\n",
       "    </tr>\n",
       "  </thead>\n",
       "  <tbody>\n",
       "    <tr>\n",
       "      <th>sc5p_v2_hs_PBMC_1k_ACACTGATCGGTTCGG</th>\n",
       "      <td>118_4_1_20</td>\n",
       "      <td>11</td>\n",
       "      <td>sc5p_v2_hs_PBMC_1k</td>\n",
       "      <td>IGH</td>\n",
       "      <td>IGK</td>\n",
       "      <td>True</td>\n",
       "      <td>True</td>\n",
       "      <td>IGHV4-59</td>\n",
       "      <td>IGKV4-1</td>\n",
       "      <td>IGHJ6</td>\n",
       "      <td>...</td>\n",
       "      <td>CQQYYSTPRTF</td>\n",
       "      <td>IGH + IGK</td>\n",
       "      <td>IGH + IGK</td>\n",
       "      <td>True + True</td>\n",
       "      <td>True + True</td>\n",
       "      <td>IgM</td>\n",
       "      <td>IgM</td>\n",
       "      <td>Single + Single</td>\n",
       "      <td>Single</td>\n",
       "      <td>Single</td>\n",
       "    </tr>\n",
       "    <tr>\n",
       "      <th>sc5p_v2_hs_PBMC_1k_CCGGTAGGTCAGAAGC</th>\n",
       "      <td>73_1_1_108</td>\n",
       "      <td>4</td>\n",
       "      <td>sc5p_v2_hs_PBMC_1k</td>\n",
       "      <td>IGH</td>\n",
       "      <td>IGL</td>\n",
       "      <td>True</td>\n",
       "      <td>True</td>\n",
       "      <td>IGHV3-15</td>\n",
       "      <td>IGLV2-23</td>\n",
       "      <td>IGHJ3</td>\n",
       "      <td>...</td>\n",
       "      <td>CCAYAGSSTFPYVF</td>\n",
       "      <td>IGH + IGL</td>\n",
       "      <td>IGH + IGL</td>\n",
       "      <td>True + True</td>\n",
       "      <td>True + True</td>\n",
       "      <td>IgM</td>\n",
       "      <td>IgM</td>\n",
       "      <td>Single + Single</td>\n",
       "      <td>Single</td>\n",
       "      <td>Single</td>\n",
       "    </tr>\n",
       "    <tr>\n",
       "      <th>sc5p_v2_hs_PBMC_1k_CGGACGTGTTGATTCG</th>\n",
       "      <td>23_2_1_123</td>\n",
       "      <td>8</td>\n",
       "      <td>sc5p_v2_hs_PBMC_1k</td>\n",
       "      <td>IGH</td>\n",
       "      <td>IGL</td>\n",
       "      <td>True</td>\n",
       "      <td>True</td>\n",
       "      <td>IGHV1-3</td>\n",
       "      <td>IGLV1-51</td>\n",
       "      <td>IGHJ6</td>\n",
       "      <td>...</td>\n",
       "      <td>CGTWDSSLSASF</td>\n",
       "      <td>IGH + IGL</td>\n",
       "      <td>IGH + IGL</td>\n",
       "      <td>True + True</td>\n",
       "      <td>True + True</td>\n",
       "      <td>IgM</td>\n",
       "      <td>IgM</td>\n",
       "      <td>Single + Multi_VJ_j</td>\n",
       "      <td>Single</td>\n",
       "      <td>Single</td>\n",
       "    </tr>\n",
       "    <tr>\n",
       "      <th>sc5p_v2_hs_PBMC_1k_GTACGTACAGCCTATA</th>\n",
       "      <td>14_3_2_31</td>\n",
       "      <td>9</td>\n",
       "      <td>sc5p_v2_hs_PBMC_1k</td>\n",
       "      <td>IGH</td>\n",
       "      <td>IGK</td>\n",
       "      <td>True</td>\n",
       "      <td>True</td>\n",
       "      <td>IGHV4-59</td>\n",
       "      <td>IGKV3-15</td>\n",
       "      <td>IGHJ4</td>\n",
       "      <td>...</td>\n",
       "      <td>CQQYDNWPRTF</td>\n",
       "      <td>IGH + IGK</td>\n",
       "      <td>IGH + IGK</td>\n",
       "      <td>True + True</td>\n",
       "      <td>True + True</td>\n",
       "      <td>IgM</td>\n",
       "      <td>IgM</td>\n",
       "      <td>Single + Single</td>\n",
       "      <td>Single</td>\n",
       "      <td>Single</td>\n",
       "    </tr>\n",
       "    <tr>\n",
       "      <th>sc5p_v2_hs_PBMC_1k_GTGCAGCCAGGGCATA</th>\n",
       "      <td>13_6_1_5</td>\n",
       "      <td>3</td>\n",
       "      <td>sc5p_v2_hs_PBMC_1k</td>\n",
       "      <td>IGH</td>\n",
       "      <td>IGK</td>\n",
       "      <td>True</td>\n",
       "      <td>True</td>\n",
       "      <td>IGHV4-34</td>\n",
       "      <td>IGKV3-20</td>\n",
       "      <td>IGHJ4</td>\n",
       "      <td>...</td>\n",
       "      <td>CQQYGSSPTF</td>\n",
       "      <td>IGH + IGK</td>\n",
       "      <td>IGH + IGK</td>\n",
       "      <td>True + True</td>\n",
       "      <td>True + True</td>\n",
       "      <td>IgM</td>\n",
       "      <td>IgM</td>\n",
       "      <td>Single + Single</td>\n",
       "      <td>Single</td>\n",
       "      <td>Single</td>\n",
       "    </tr>\n",
       "    <tr>\n",
       "      <th>...</th>\n",
       "      <td>...</td>\n",
       "      <td>...</td>\n",
       "      <td>...</td>\n",
       "      <td>...</td>\n",
       "      <td>...</td>\n",
       "      <td>...</td>\n",
       "      <td>...</td>\n",
       "      <td>...</td>\n",
       "      <td>...</td>\n",
       "      <td>...</td>\n",
       "      <td>...</td>\n",
       "      <td>...</td>\n",
       "      <td>...</td>\n",
       "      <td>...</td>\n",
       "      <td>...</td>\n",
       "      <td>...</td>\n",
       "      <td>...</td>\n",
       "      <td>...</td>\n",
       "      <td>...</td>\n",
       "      <td>...</td>\n",
       "      <td>...</td>\n",
       "    </tr>\n",
       "    <tr>\n",
       "      <th>vdj_nextgem_hs_pbmc3_TTCTCAACACATCTTT</th>\n",
       "      <td>31_2_1_57</td>\n",
       "      <td>268</td>\n",
       "      <td>vdj_nextgem_hs_pbmc3</td>\n",
       "      <td>IGH</td>\n",
       "      <td>IGK</td>\n",
       "      <td>True</td>\n",
       "      <td>True</td>\n",
       "      <td>IGHV3-15</td>\n",
       "      <td>IGKV2D-28|IGKV2-28</td>\n",
       "      <td>IGHJ6</td>\n",
       "      <td>...</td>\n",
       "      <td>CMQALQTRYTF</td>\n",
       "      <td>IGH + IGK</td>\n",
       "      <td>IGH + IGK</td>\n",
       "      <td>True + True</td>\n",
       "      <td>True + True</td>\n",
       "      <td>IgM</td>\n",
       "      <td>IgM</td>\n",
       "      <td>Single + Multi_VJ_v</td>\n",
       "      <td>Single</td>\n",
       "      <td>Single</td>\n",
       "    </tr>\n",
       "    <tr>\n",
       "      <th>vdj_nextgem_hs_pbmc3_TTCTCCTAGGGCACTA</th>\n",
       "      <td>20_5_1_255</td>\n",
       "      <td>122</td>\n",
       "      <td>vdj_nextgem_hs_pbmc3</td>\n",
       "      <td>IGH</td>\n",
       "      <td>IGL</td>\n",
       "      <td>True</td>\n",
       "      <td>True</td>\n",
       "      <td>IGHV1-2</td>\n",
       "      <td>IGLV2-14</td>\n",
       "      <td>IGHJ4</td>\n",
       "      <td>...</td>\n",
       "      <td>CSSYASSSTVVF</td>\n",
       "      <td>IGH + IGL</td>\n",
       "      <td>IGH + IGL</td>\n",
       "      <td>True + True</td>\n",
       "      <td>True + True</td>\n",
       "      <td>IgM</td>\n",
       "      <td>IgM</td>\n",
       "      <td>Single + Multi_VJ_j</td>\n",
       "      <td>Single</td>\n",
       "      <td>Single</td>\n",
       "    </tr>\n",
       "    <tr>\n",
       "      <th>vdj_nextgem_hs_pbmc3_TTCTTAGCAAACGCGA</th>\n",
       "      <td>77_7_1_286</td>\n",
       "      <td>44</td>\n",
       "      <td>vdj_nextgem_hs_pbmc3</td>\n",
       "      <td>IGH</td>\n",
       "      <td>IGK</td>\n",
       "      <td>True</td>\n",
       "      <td>True</td>\n",
       "      <td>IGHV3-15</td>\n",
       "      <td>IGKV1-39|IGKV1D-39</td>\n",
       "      <td>IGHJ4</td>\n",
       "      <td>...</td>\n",
       "      <td>CQQSYSMSTF</td>\n",
       "      <td>IGH + IGK</td>\n",
       "      <td>IGH + IGK</td>\n",
       "      <td>True + True</td>\n",
       "      <td>True + True</td>\n",
       "      <td>IgM</td>\n",
       "      <td>IgM</td>\n",
       "      <td>Single + Multi_VJ_v</td>\n",
       "      <td>Single</td>\n",
       "      <td>Single</td>\n",
       "    </tr>\n",
       "    <tr>\n",
       "      <th>vdj_nextgem_hs_pbmc3_TTTATGCTCCGCATAA</th>\n",
       "      <td>84_3_2_125</td>\n",
       "      <td>75</td>\n",
       "      <td>vdj_nextgem_hs_pbmc3</td>\n",
       "      <td>IGH</td>\n",
       "      <td>IGL</td>\n",
       "      <td>True</td>\n",
       "      <td>True</td>\n",
       "      <td>IGHV3-7</td>\n",
       "      <td>IGLV1-51</td>\n",
       "      <td>IGHJ6</td>\n",
       "      <td>...</td>\n",
       "      <td>CGTWDSSLSAVVF</td>\n",
       "      <td>IGH + IGL</td>\n",
       "      <td>IGH + IGL</td>\n",
       "      <td>True + True</td>\n",
       "      <td>True + True</td>\n",
       "      <td>IgM</td>\n",
       "      <td>IgM</td>\n",
       "      <td>Single + Multi_VJ_j</td>\n",
       "      <td>Single</td>\n",
       "      <td>Single</td>\n",
       "    </tr>\n",
       "    <tr>\n",
       "      <th>vdj_nextgem_hs_pbmc3_TTTGCGCTCCAGTATG</th>\n",
       "      <td>121_1_3_279</td>\n",
       "      <td>119</td>\n",
       "      <td>vdj_nextgem_hs_pbmc3</td>\n",
       "      <td>IGH</td>\n",
       "      <td>IGL</td>\n",
       "      <td>True</td>\n",
       "      <td>True</td>\n",
       "      <td>IGHV2-5</td>\n",
       "      <td>IGLV1-47</td>\n",
       "      <td>IGHJ4</td>\n",
       "      <td>...</td>\n",
       "      <td>CAAWDDSLTGVVF</td>\n",
       "      <td>IGH + IGL</td>\n",
       "      <td>IGH + IGL</td>\n",
       "      <td>True + True</td>\n",
       "      <td>True + True</td>\n",
       "      <td>IgM</td>\n",
       "      <td>IgM</td>\n",
       "      <td>Single + Multi_VJ_j</td>\n",
       "      <td>Single</td>\n",
       "      <td>Single</td>\n",
       "    </tr>\n",
       "  </tbody>\n",
       "</table>\n",
       "<p>560 rows × 29 columns</p>\n",
       "</div>"
      ],
      "text/plain": [
       "                                          clone_id clone_id_by_size  \\\n",
       "sc5p_v2_hs_PBMC_1k_ACACTGATCGGTTCGG     118_4_1_20               11   \n",
       "sc5p_v2_hs_PBMC_1k_CCGGTAGGTCAGAAGC     73_1_1_108                4   \n",
       "sc5p_v2_hs_PBMC_1k_CGGACGTGTTGATTCG     23_2_1_123                8   \n",
       "sc5p_v2_hs_PBMC_1k_GTACGTACAGCCTATA      14_3_2_31                9   \n",
       "sc5p_v2_hs_PBMC_1k_GTGCAGCCAGGGCATA       13_6_1_5                3   \n",
       "...                                            ...              ...   \n",
       "vdj_nextgem_hs_pbmc3_TTCTCAACACATCTTT    31_2_1_57              268   \n",
       "vdj_nextgem_hs_pbmc3_TTCTCCTAGGGCACTA   20_5_1_255              122   \n",
       "vdj_nextgem_hs_pbmc3_TTCTTAGCAAACGCGA   77_7_1_286               44   \n",
       "vdj_nextgem_hs_pbmc3_TTTATGCTCCGCATAA   84_3_2_125               75   \n",
       "vdj_nextgem_hs_pbmc3_TTTGCGCTCCAGTATG  121_1_3_279              119   \n",
       "\n",
       "                                                  sample_id locus_VDJ  \\\n",
       "sc5p_v2_hs_PBMC_1k_ACACTGATCGGTTCGG      sc5p_v2_hs_PBMC_1k       IGH   \n",
       "sc5p_v2_hs_PBMC_1k_CCGGTAGGTCAGAAGC      sc5p_v2_hs_PBMC_1k       IGH   \n",
       "sc5p_v2_hs_PBMC_1k_CGGACGTGTTGATTCG      sc5p_v2_hs_PBMC_1k       IGH   \n",
       "sc5p_v2_hs_PBMC_1k_GTACGTACAGCCTATA      sc5p_v2_hs_PBMC_1k       IGH   \n",
       "sc5p_v2_hs_PBMC_1k_GTGCAGCCAGGGCATA      sc5p_v2_hs_PBMC_1k       IGH   \n",
       "...                                                     ...       ...   \n",
       "vdj_nextgem_hs_pbmc3_TTCTCAACACATCTTT  vdj_nextgem_hs_pbmc3       IGH   \n",
       "vdj_nextgem_hs_pbmc3_TTCTCCTAGGGCACTA  vdj_nextgem_hs_pbmc3       IGH   \n",
       "vdj_nextgem_hs_pbmc3_TTCTTAGCAAACGCGA  vdj_nextgem_hs_pbmc3       IGH   \n",
       "vdj_nextgem_hs_pbmc3_TTTATGCTCCGCATAA  vdj_nextgem_hs_pbmc3       IGH   \n",
       "vdj_nextgem_hs_pbmc3_TTTGCGCTCCAGTATG  vdj_nextgem_hs_pbmc3       IGH   \n",
       "\n",
       "                                      locus_VJ productive_VDJ productive_VJ  \\\n",
       "sc5p_v2_hs_PBMC_1k_ACACTGATCGGTTCGG        IGK           True          True   \n",
       "sc5p_v2_hs_PBMC_1k_CCGGTAGGTCAGAAGC        IGL           True          True   \n",
       "sc5p_v2_hs_PBMC_1k_CGGACGTGTTGATTCG        IGL           True          True   \n",
       "sc5p_v2_hs_PBMC_1k_GTACGTACAGCCTATA        IGK           True          True   \n",
       "sc5p_v2_hs_PBMC_1k_GTGCAGCCAGGGCATA        IGK           True          True   \n",
       "...                                        ...            ...           ...   \n",
       "vdj_nextgem_hs_pbmc3_TTCTCAACACATCTTT      IGK           True          True   \n",
       "vdj_nextgem_hs_pbmc3_TTCTCCTAGGGCACTA      IGL           True          True   \n",
       "vdj_nextgem_hs_pbmc3_TTCTTAGCAAACGCGA      IGK           True          True   \n",
       "vdj_nextgem_hs_pbmc3_TTTATGCTCCGCATAA      IGL           True          True   \n",
       "vdj_nextgem_hs_pbmc3_TTTGCGCTCCAGTATG      IGL           True          True   \n",
       "\n",
       "                                      v_call_genotyped_VDJ  \\\n",
       "sc5p_v2_hs_PBMC_1k_ACACTGATCGGTTCGG               IGHV4-59   \n",
       "sc5p_v2_hs_PBMC_1k_CCGGTAGGTCAGAAGC               IGHV3-15   \n",
       "sc5p_v2_hs_PBMC_1k_CGGACGTGTTGATTCG                IGHV1-3   \n",
       "sc5p_v2_hs_PBMC_1k_GTACGTACAGCCTATA               IGHV4-59   \n",
       "sc5p_v2_hs_PBMC_1k_GTGCAGCCAGGGCATA               IGHV4-34   \n",
       "...                                                    ...   \n",
       "vdj_nextgem_hs_pbmc3_TTCTCAACACATCTTT             IGHV3-15   \n",
       "vdj_nextgem_hs_pbmc3_TTCTCCTAGGGCACTA              IGHV1-2   \n",
       "vdj_nextgem_hs_pbmc3_TTCTTAGCAAACGCGA             IGHV3-15   \n",
       "vdj_nextgem_hs_pbmc3_TTTATGCTCCGCATAA              IGHV3-7   \n",
       "vdj_nextgem_hs_pbmc3_TTTGCGCTCCAGTATG              IGHV2-5   \n",
       "\n",
       "                                      v_call_genotyped_VJ j_call_VDJ  ...  \\\n",
       "sc5p_v2_hs_PBMC_1k_ACACTGATCGGTTCGG               IGKV4-1      IGHJ6  ...   \n",
       "sc5p_v2_hs_PBMC_1k_CCGGTAGGTCAGAAGC              IGLV2-23      IGHJ3  ...   \n",
       "sc5p_v2_hs_PBMC_1k_CGGACGTGTTGATTCG              IGLV1-51      IGHJ6  ...   \n",
       "sc5p_v2_hs_PBMC_1k_GTACGTACAGCCTATA              IGKV3-15      IGHJ4  ...   \n",
       "sc5p_v2_hs_PBMC_1k_GTGCAGCCAGGGCATA              IGKV3-20      IGHJ4  ...   \n",
       "...                                                   ...        ...  ...   \n",
       "vdj_nextgem_hs_pbmc3_TTCTCAACACATCTTT  IGKV2D-28|IGKV2-28      IGHJ6  ...   \n",
       "vdj_nextgem_hs_pbmc3_TTCTCCTAGGGCACTA            IGLV2-14      IGHJ4  ...   \n",
       "vdj_nextgem_hs_pbmc3_TTCTTAGCAAACGCGA  IGKV1-39|IGKV1D-39      IGHJ4  ...   \n",
       "vdj_nextgem_hs_pbmc3_TTTATGCTCCGCATAA            IGLV1-51      IGHJ6  ...   \n",
       "vdj_nextgem_hs_pbmc3_TTTGCGCTCCAGTATG            IGLV1-47      IGHJ4  ...   \n",
       "\n",
       "                                       junction_aa_VJ     status  \\\n",
       "sc5p_v2_hs_PBMC_1k_ACACTGATCGGTTCGG       CQQYYSTPRTF  IGH + IGK   \n",
       "sc5p_v2_hs_PBMC_1k_CCGGTAGGTCAGAAGC    CCAYAGSSTFPYVF  IGH + IGL   \n",
       "sc5p_v2_hs_PBMC_1k_CGGACGTGTTGATTCG      CGTWDSSLSASF  IGH + IGL   \n",
       "sc5p_v2_hs_PBMC_1k_GTACGTACAGCCTATA       CQQYDNWPRTF  IGH + IGK   \n",
       "sc5p_v2_hs_PBMC_1k_GTGCAGCCAGGGCATA        CQQYGSSPTF  IGH + IGK   \n",
       "...                                               ...        ...   \n",
       "vdj_nextgem_hs_pbmc3_TTCTCAACACATCTTT     CMQALQTRYTF  IGH + IGK   \n",
       "vdj_nextgem_hs_pbmc3_TTCTCCTAGGGCACTA    CSSYASSSTVVF  IGH + IGL   \n",
       "vdj_nextgem_hs_pbmc3_TTCTTAGCAAACGCGA      CQQSYSMSTF  IGH + IGK   \n",
       "vdj_nextgem_hs_pbmc3_TTTATGCTCCGCATAA   CGTWDSSLSAVVF  IGH + IGL   \n",
       "vdj_nextgem_hs_pbmc3_TTTGCGCTCCAGTATG   CAAWDDSLTGVVF  IGH + IGL   \n",
       "\n",
       "                                      status_summary   productive  \\\n",
       "sc5p_v2_hs_PBMC_1k_ACACTGATCGGTTCGG        IGH + IGK  True + True   \n",
       "sc5p_v2_hs_PBMC_1k_CCGGTAGGTCAGAAGC        IGH + IGL  True + True   \n",
       "sc5p_v2_hs_PBMC_1k_CGGACGTGTTGATTCG        IGH + IGL  True + True   \n",
       "sc5p_v2_hs_PBMC_1k_GTACGTACAGCCTATA        IGH + IGK  True + True   \n",
       "sc5p_v2_hs_PBMC_1k_GTGCAGCCAGGGCATA        IGH + IGK  True + True   \n",
       "...                                              ...          ...   \n",
       "vdj_nextgem_hs_pbmc3_TTCTCAACACATCTTT      IGH + IGK  True + True   \n",
       "vdj_nextgem_hs_pbmc3_TTCTCCTAGGGCACTA      IGH + IGL  True + True   \n",
       "vdj_nextgem_hs_pbmc3_TTCTTAGCAAACGCGA      IGH + IGK  True + True   \n",
       "vdj_nextgem_hs_pbmc3_TTTATGCTCCGCATAA      IGH + IGL  True + True   \n",
       "vdj_nextgem_hs_pbmc3_TTTGCGCTCCAGTATG      IGH + IGL  True + True   \n",
       "\n",
       "                                       productive_summary  isotype  \\\n",
       "sc5p_v2_hs_PBMC_1k_ACACTGATCGGTTCGG           True + True      IgM   \n",
       "sc5p_v2_hs_PBMC_1k_CCGGTAGGTCAGAAGC           True + True      IgM   \n",
       "sc5p_v2_hs_PBMC_1k_CGGACGTGTTGATTCG           True + True      IgM   \n",
       "sc5p_v2_hs_PBMC_1k_GTACGTACAGCCTATA           True + True      IgM   \n",
       "sc5p_v2_hs_PBMC_1k_GTGCAGCCAGGGCATA           True + True      IgM   \n",
       "...                                                   ...      ...   \n",
       "vdj_nextgem_hs_pbmc3_TTCTCAACACATCTTT         True + True      IgM   \n",
       "vdj_nextgem_hs_pbmc3_TTCTCCTAGGGCACTA         True + True      IgM   \n",
       "vdj_nextgem_hs_pbmc3_TTCTTAGCAAACGCGA         True + True      IgM   \n",
       "vdj_nextgem_hs_pbmc3_TTTATGCTCCGCATAA         True + True      IgM   \n",
       "vdj_nextgem_hs_pbmc3_TTTGCGCTCCAGTATG         True + True      IgM   \n",
       "\n",
       "                                       isotype_summary           vdj_status  \\\n",
       "sc5p_v2_hs_PBMC_1k_ACACTGATCGGTTCGG                IgM      Single + Single   \n",
       "sc5p_v2_hs_PBMC_1k_CCGGTAGGTCAGAAGC                IgM      Single + Single   \n",
       "sc5p_v2_hs_PBMC_1k_CGGACGTGTTGATTCG                IgM  Single + Multi_VJ_j   \n",
       "sc5p_v2_hs_PBMC_1k_GTACGTACAGCCTATA                IgM      Single + Single   \n",
       "sc5p_v2_hs_PBMC_1k_GTGCAGCCAGGGCATA                IgM      Single + Single   \n",
       "...                                                ...                  ...   \n",
       "vdj_nextgem_hs_pbmc3_TTCTCAACACATCTTT              IgM  Single + Multi_VJ_v   \n",
       "vdj_nextgem_hs_pbmc3_TTCTCCTAGGGCACTA              IgM  Single + Multi_VJ_j   \n",
       "vdj_nextgem_hs_pbmc3_TTCTTAGCAAACGCGA              IgM  Single + Multi_VJ_v   \n",
       "vdj_nextgem_hs_pbmc3_TTTATGCTCCGCATAA              IgM  Single + Multi_VJ_j   \n",
       "vdj_nextgem_hs_pbmc3_TTTGCGCTCCAGTATG              IgM  Single + Multi_VJ_j   \n",
       "\n",
       "                                      vdj_status_summary  \\\n",
       "sc5p_v2_hs_PBMC_1k_ACACTGATCGGTTCGG               Single   \n",
       "sc5p_v2_hs_PBMC_1k_CCGGTAGGTCAGAAGC               Single   \n",
       "sc5p_v2_hs_PBMC_1k_CGGACGTGTTGATTCG               Single   \n",
       "sc5p_v2_hs_PBMC_1k_GTACGTACAGCCTATA               Single   \n",
       "sc5p_v2_hs_PBMC_1k_GTGCAGCCAGGGCATA               Single   \n",
       "...                                                  ...   \n",
       "vdj_nextgem_hs_pbmc3_TTCTCAACACATCTTT             Single   \n",
       "vdj_nextgem_hs_pbmc3_TTCTCCTAGGGCACTA             Single   \n",
       "vdj_nextgem_hs_pbmc3_TTCTTAGCAAACGCGA             Single   \n",
       "vdj_nextgem_hs_pbmc3_TTTATGCTCCGCATAA             Single   \n",
       "vdj_nextgem_hs_pbmc3_TTTGCGCTCCAGTATG             Single   \n",
       "\n",
       "                                      constant_status_summary  \n",
       "sc5p_v2_hs_PBMC_1k_ACACTGATCGGTTCGG                    Single  \n",
       "sc5p_v2_hs_PBMC_1k_CCGGTAGGTCAGAAGC                    Single  \n",
       "sc5p_v2_hs_PBMC_1k_CGGACGTGTTGATTCG                    Single  \n",
       "sc5p_v2_hs_PBMC_1k_GTACGTACAGCCTATA                    Single  \n",
       "sc5p_v2_hs_PBMC_1k_GTGCAGCCAGGGCATA                    Single  \n",
       "...                                                       ...  \n",
       "vdj_nextgem_hs_pbmc3_TTCTCAACACATCTTT                  Single  \n",
       "vdj_nextgem_hs_pbmc3_TTCTCCTAGGGCACTA                  Single  \n",
       "vdj_nextgem_hs_pbmc3_TTCTTAGCAAACGCGA                  Single  \n",
       "vdj_nextgem_hs_pbmc3_TTTATGCTCCGCATAA                  Single  \n",
       "vdj_nextgem_hs_pbmc3_TTTGCGCTCCAGTATG                  Single  \n",
       "\n",
       "[560 rows x 29 columns]"
      ]
     },
     "execution_count": 5,
     "metadata": {},
     "output_type": "execute_result"
    }
   ],
   "source": [
    "vdj.metadata"
   ]
  },
  {
   "cell_type": "markdown",
   "metadata": {},
   "source": [
    "### Alternative : Running `tl.define_clones`"
   ]
  },
  {
   "cell_type": "markdown",
   "metadata": {},
   "source": [
    "Alternatively, a wrapper to call *changeo's* `DefineClones.py` is also included. To run it, you need to choose the distance threshold for clonal assignment. To facilitate this, the function `pp.calculate_threshold` will run [shazam's distToNearest](https://shazam.readthedocs.io/en/stable/topics/distToNearest/) function and return a plot showing the length normalized hamming distance distribution and automated threshold value. \n",
    "\n",
    "Again, `pp.calculate_threshold` will take a file path, pandas `DataFrame` or `Dandelion` object as input. If a dandelion object is provided, the threshold value will be inserted into the `.threshold` slot. For more fine control, please use [shazam's distToNearest](https://shazam.readthedocs.io/en/stable/topics/distToNearest/) and [changeo's DefineClones.py](https://immcantation.readthedocs.io/en/stable/tutorials/10x_tutorial.html) functions directly."
   ]
  },
  {
   "cell_type": "code",
   "execution_count": 6,
   "metadata": {
    "scrolled": true
   },
   "outputs": [
    {
     "name": "stdout",
     "output_type": "stream",
     "text": [
      "Calculating threshold\n"
     ]
    },
    {
     "name": "stderr",
     "output_type": "stream",
     "text": [
      "R[write to console]: Error in (function (db, sequenceColumn = \"junction\", vCallColumn = \"v_call\",  : \n",
      "  2 cell(s) with multiple heavy chains found. One heavy chain per cell is expected.\n",
      "\n"
     ]
    },
    {
     "name": "stdout",
     "output_type": "stream",
     "text": [
      "Rerun this after filtering. For now, switching to heavy mode.\n",
      "      Threshold method 'density' did not return with any values. Switching to method = 'gmm'.\n"
     ]
    },
    {
     "data": {
      "image/png": "[encoded data removed]",
      "text/plain": [
       "<Figure size 450x250 with 4 Axes>"
      ]
     },
     "metadata": {},
     "output_type": "display_data"
    },
    {
     "name": "stdout",
     "output_type": "stream",
     "text": [
      "<ggplot: (312591013)>\n",
      " finished: Updated Dandelion object: \n",
      "   'threshold', threshold value for tuning clonal assignment\n",
      " (0:04:25)\n"
     ]
    }
   ],
   "source": [
    "ddl.pp.calculate_threshold(vdj)"
   ]
  },
  {
   "cell_type": "code",
   "execution_count": 7,
   "metadata": {},
   "outputs": [
    {
     "data": {
      "text/plain": [
       "0.39793892150110016"
      ]
     },
     "execution_count": 7,
     "metadata": {},
     "output_type": "execute_result"
    }
   ],
   "source": [
    "# see the actual value in .threshold slot\n",
    "vdj.threshold"
   ]
  },
  {
   "cell_type": "markdown",
   "metadata": {},
   "source": [
    "You can also manually select a value as the threshold if you wish. Note that rerunning this with `manual_threshold` is just for reproducing the plot but with the line at 0.1 in this tutorial. You can just edit `vdj.threshold` directly if you wish."
   ]
  },
  {
   "cell_type": "code",
   "execution_count": 8,
   "metadata": {},
   "outputs": [
    {
     "name": "stdout",
     "output_type": "stream",
     "text": [
      "Calculating threshold\n"
     ]
    },
    {
     "name": "stderr",
     "output_type": "stream",
     "text": [
      "R[write to console]: Error in (function (db, sequenceColumn = \"junction\", vCallColumn = \"v_call\",  : \n",
      "  2 cell(s) with multiple heavy chains found. One heavy chain per cell is expected.\n",
      "\n"
     ]
    },
    {
     "name": "stdout",
     "output_type": "stream",
     "text": [
      "Rerun this after filtering. For now, switching to heavy mode.\n",
      "      Threshold method 'density' did not return with any values. Switching to method = 'gmm'.\n"
     ]
    },
    {
     "data": {
      "image/png": "[encoded data removed]",
      "text/plain": [
       "<Figure size 450x250 with 4 Axes>"
      ]
     },
     "metadata": {},
     "output_type": "display_data"
    },
    {
     "name": "stdout",
     "output_type": "stream",
     "text": [
      "<ggplot: (325881465)>\n",
      " finished: Updated Dandelion object: \n",
      "   'threshold', threshold value for tuning clonal assignment\n",
      " (0:03:47)\n"
     ]
    }
   ],
   "source": [
    "ddl.pp.calculate_threshold(vdj, manual_threshold = 0.1)"
   ]
  },
  {
   "cell_type": "code",
   "execution_count": 9,
   "metadata": {},
   "outputs": [
    {
     "data": {
      "text/plain": [
       "0.1"
      ]
     },
     "execution_count": 9,
     "metadata": {},
     "output_type": "execute_result"
    }
   ],
   "source": [
    "# see the updated .threshold slot\n",
    "vdj.threshold"
   ]
  },
  {
   "cell_type": "markdown",
   "metadata": {},
   "source": [
    "\n",
    "We can run `tl.define_clones` to call *changeo's* `DefineClones.py`; see [here](https://changeo.readthedocs.io/en/stable/methods/clustering.html) for more info. Note, if a `pandas.DataFrame` or file path is provided as the input, the value in dist option (corresponds to threshold value) needs to be manually supplied. If a `Dandelion` object is provided, it will automatically retrieve it from the threshold slot. "
   ]
  },
  {
   "cell_type": "code",
   "execution_count": 10,
   "metadata": {},
   "outputs": [
    {
     "name": "stdout",
     "output_type": "stream",
     "text": [
      "Finding clones\n",
      " finished: Updated Dandelion object: \n",
      "   'data', contig-indexed clone table\n",
      "   'metadata', cell-indexed clone table\n",
      " (0:00:22)\n"
     ]
    },
    {
     "data": {
      "text/plain": [
       "Dandelion class object with n_obs = 560 and n_contigs = 1127\n",
       "    data: 'sequence_id', 'sequence', 'rev_comp', 'productive', 'v_call', 'd_call', 'j_call', 'sequence_alignment', 'germline_alignment', 'junction', 'junction_aa', 'v_cigar', 'd_cigar', 'j_cigar', 'stop_codon', 'vj_in_frame', 'locus', 'junction_length', 'np1_length', 'np2_length', 'v_sequence_start', 'v_sequence_end', 'v_germline_start', 'v_germline_end', 'd_sequence_start', 'd_sequence_end', 'd_germline_start', 'd_germline_end', 'j_sequence_start', 'j_sequence_end', 'j_germline_start', 'j_germline_end', 'v_score', 'v_identity', 'v_support', 'd_score', 'd_identity', 'd_support', 'j_score', 'j_identity', 'j_support', 'fwr1', 'fwr2', 'fwr3', 'fwr4', 'cdr1', 'cdr2', 'cdr3', 'cell_id', 'c_call', 'consensus_count', 'umi_count', 'v_call_10x', 'd_call_10x', 'j_call_10x', 'junction_10x', 'junction_10x_aa', 'v_call_genotyped', 'germline_alignment_d_mask', 'sample_id', 'c_sequence_alignment', 'c_germline_alignment', 'c_sequence_start', 'c_sequence_end', 'c_score', 'c_identity', 'c_support', 'c_call_10x', 'junction_aa_length', 'fwr1_aa', 'fwr2_aa', 'fwr3_aa', 'fwr4_aa', 'cdr1_aa', 'cdr2_aa', 'cdr3_aa', 'sequence_alignment_aa', 'v_sequence_alignment_aa', 'd_sequence_alignment_aa', 'j_sequence_alignment_aa', 'mu_count', 'duplicate_count', 'clone_id', 'changeo_clone_id'\n",
       "    metadata: 'clone_id', 'clone_id_by_size', 'sample_id', 'locus_VDJ', 'locus_VJ', 'productive_VDJ', 'productive_VJ', 'v_call_genotyped_VDJ', 'v_call_genotyped_VJ', 'j_call_VDJ', 'j_call_VJ', 'c_call_VDJ', 'c_call_VJ', 'duplicate_count_VDJ_0', 'duplicate_count_VDJ_1', 'duplicate_count_VDJ_2', 'duplicate_count_VJ_0', 'duplicate_count_VJ_1', 'junction_aa_VDJ', 'junction_aa_VJ', 'status', 'status_summary', 'productive', 'productive_summary', 'isotype', 'isotype_summary', 'vdj_status', 'vdj_status_summary', 'constant_status_summary', 'changeo_clone_id'\n",
       "    distance: None\n",
       "    edges: None\n",
       "    layout: None\n",
       "    graph: None"
      ]
     },
     "execution_count": 10,
     "metadata": {},
     "output_type": "execute_result"
    }
   ],
   "source": [
    "ddl.tl.define_clones(vdj, key_added = 'changeo_clone_id')\n",
    "vdj"
   ]
  },
  {
   "cell_type": "markdown",
   "metadata": {},
   "source": [
    "Note that I specified the option `key_added` and this adds the output from `tl.define_clones` into a separate column. If left as default (`None`), it will write into `clone_id` column. The same option can be specified in `tl.find_clones` earlier."
   ]
  },
  {
   "cell_type": "markdown",
   "metadata": {},
   "source": [
    "## Generation of V(D)J network\n",
    "*dandelion* generates a network to facilitate visualisation of results. This uses the full V(D)J contig sequences instead of just the junctional sequences to chart a tree-like network for each clone. The actual visualization will be achieved through `scanpy` later.\n",
    "\n",
    "**tl.generate_network**\n",
    "\n",
    "First we need to generate the network. `tl.generate_network` will take a V(D)J table that has clones defined, specifically under the `'clone_id'` column. The default mode is to use amino acid sequences for constructing Levenshtein distance matrices, but can be toggled using the `key` option.\n",
    "\n",
    "If you have a pre-processed table parsed from immcantation's [method](https://changeo.readthedocs.io/en/stable/examples/10x.html), or any other method as long as it's in a *AIRR* format, the table can be used as well.\n",
    "\n",
    "You can specify the `clone_key` option for generating the network for the clone id definition of choice as long as it exists as a column in the `.data` slot."
   ]
  },
  {
   "cell_type": "code",
   "execution_count": 11,
   "metadata": {},
   "outputs": [
    {
     "name": "stdout",
     "output_type": "stream",
     "text": [
      "Generating network\n"
     ]
    },
    {
     "name": "stderr",
     "output_type": "stream",
     "text": [
      "Calculating distances... : 100%|██████████| 5/5 [00:01<00:00,  3.12it/s]\n",
      "Generating edge list : 100%|██████████| 11/11 [00:00<00:00, 799.18it/s]\n",
      "Linking edges : 100%|██████████| 544/544 [00:00<00:00, 7063.00it/s]\n"
     ]
    },
    {
     "name": "stdout",
     "output_type": "stream",
     "text": [
      "generating network layout\n",
      " finished: Updated Dandelion object: \n",
      "   'data', contig-indexed clone table\n",
      "   'metadata', cell-indexed clone table\n",
      "   'distance', heavy and light chain distance matrices\n",
      "   'edges', network edges\n",
      "   'layout', network layout\n",
      "   'graph', network (0:00:08)\n"
     ]
    }
   ],
   "source": [
    "ddl.tl.generate_network(vdj)"
   ]
  },
  {
   "cell_type": "markdown",
   "metadata": {},
   "source": [
    "This step works reasonably fast here but will take quite a while when a lot of contigs are provided.\n",
    "\n",
    "You can also downsample the number of cells. This will return a new object as a downsampled copy of the original with it's own distance matrix."
   ]
  },
  {
   "cell_type": "code",
   "execution_count": 12,
   "metadata": {},
   "outputs": [
    {
     "name": "stdout",
     "output_type": "stream",
     "text": [
      "Generating network\n",
      "Downsampling to 500 cells.\n"
     ]
    },
    {
     "name": "stderr",
     "output_type": "stream",
     "text": [
      "Calculating distances... : 100%|██████████| 5/5 [00:01<00:00,  3.94it/s]\n",
      "Generating edge list : 100%|██████████| 9/9 [00:00<00:00, 633.57it/s]\n",
      "Linking edges : 100%|██████████| 484/484 [00:00<00:00, 4866.81it/s]\n"
     ]
    },
    {
     "name": "stdout",
     "output_type": "stream",
     "text": [
      "generating network layout\n",
      " finished: Updated Dandelion object: \n",
      "   'data', contig-indexed clone table\n",
      "   'metadata', cell-indexed clone table\n",
      "   'distance', heavy and light chain distance matrices\n",
      "   'edges', network edges\n",
      "   'layout', network layout\n",
      "   'graph', network (0:00:20)\n"
     ]
    },
    {
     "data": {
      "text/plain": [
       "Dandelion class object with n_obs = 497 and n_contigs = 999\n",
       "    data: 'sequence_id', 'sequence', 'rev_comp', 'productive', 'v_call', 'd_call', 'j_call', 'sequence_alignment', 'germline_alignment', 'junction', 'junction_aa', 'v_cigar', 'd_cigar', 'j_cigar', 'stop_codon', 'vj_in_frame', 'locus', 'junction_length', 'np1_length', 'np2_length', 'v_sequence_start', 'v_sequence_end', 'v_germline_start', 'v_germline_end', 'd_sequence_start', 'd_sequence_end', 'd_germline_start', 'd_germline_end', 'j_sequence_start', 'j_sequence_end', 'j_germline_start', 'j_germline_end', 'v_score', 'v_identity', 'v_support', 'd_score', 'd_identity', 'd_support', 'j_score', 'j_identity', 'j_support', 'fwr1', 'fwr2', 'fwr3', 'fwr4', 'cdr1', 'cdr2', 'cdr3', 'cell_id', 'c_call', 'consensus_count', 'umi_count', 'v_call_10x', 'd_call_10x', 'j_call_10x', 'junction_10x', 'junction_10x_aa', 'v_call_genotyped', 'germline_alignment_d_mask', 'sample_id', 'c_sequence_alignment', 'c_germline_alignment', 'c_sequence_start', 'c_sequence_end', 'c_score', 'c_identity', 'c_support', 'c_call_10x', 'junction_aa_length', 'fwr1_aa', 'fwr2_aa', 'fwr3_aa', 'fwr4_aa', 'cdr1_aa', 'cdr2_aa', 'cdr3_aa', 'sequence_alignment_aa', 'v_sequence_alignment_aa', 'd_sequence_alignment_aa', 'j_sequence_alignment_aa', 'mu_count', 'duplicate_count', 'clone_id', 'changeo_clone_id'\n",
       "    metadata: 'clone_id', 'clone_id_by_size', 'sample_id', 'locus_VDJ', 'locus_VJ', 'productive_VDJ', 'productive_VJ', 'v_call_genotyped_VDJ', 'v_call_genotyped_VJ', 'j_call_VDJ', 'j_call_VJ', 'c_call_VDJ', 'c_call_VJ', 'duplicate_count_VDJ_0', 'duplicate_count_VDJ_1', 'duplicate_count_VDJ_2', 'duplicate_count_VJ_0', 'duplicate_count_VJ_1', 'junction_aa_VDJ', 'junction_aa_VJ', 'status', 'status_summary', 'productive', 'productive_summary', 'isotype', 'isotype_summary', 'vdj_status', 'vdj_status_summary', 'constant_status_summary'\n",
       "    distance: 'VDJ_0', 'VDJ_1', 'VDJ_2', 'VJ_0', 'VJ_1'\n",
       "    edges: 'source', 'target', 'weight'\n",
       "    layout: layout for 497 vertices, layout for 22 vertices\n",
       "    graph: networkx graph of 497 vertices, networkx graph of 22 vertices "
      ]
     },
     "execution_count": 12,
     "metadata": {},
     "output_type": "execute_result"
    }
   ],
   "source": [
    "vdj_downsample = ddl.tl.generate_network(vdj, downsample = 500)\n",
    "vdj_downsample"
   ]
  },
  {
   "cell_type": "markdown",
   "metadata": {},
   "source": [
    "**check the newly re-initialized Dandelion object**"
   ]
  },
  {
   "cell_type": "code",
   "execution_count": 13,
   "metadata": {},
   "outputs": [
    {
     "data": {
      "text/plain": [
       "Dandelion class object with n_obs = 560 and n_contigs = 1127\n",
       "    data: 'sequence_id', 'sequence', 'rev_comp', 'productive', 'v_call', 'd_call', 'j_call', 'sequence_alignment', 'germline_alignment', 'junction', 'junction_aa', 'v_cigar', 'd_cigar', 'j_cigar', 'stop_codon', 'vj_in_frame', 'locus', 'junction_length', 'np1_length', 'np2_length', 'v_sequence_start', 'v_sequence_end', 'v_germline_start', 'v_germline_end', 'd_sequence_start', 'd_sequence_end', 'd_germline_start', 'd_germline_end', 'j_sequence_start', 'j_sequence_end', 'j_germline_start', 'j_germline_end', 'v_score', 'v_identity', 'v_support', 'd_score', 'd_identity', 'd_support', 'j_score', 'j_identity', 'j_support', 'fwr1', 'fwr2', 'fwr3', 'fwr4', 'cdr1', 'cdr2', 'cdr3', 'cell_id', 'c_call', 'consensus_count', 'umi_count', 'v_call_10x', 'd_call_10x', 'j_call_10x', 'junction_10x', 'junction_10x_aa', 'v_call_genotyped', 'germline_alignment_d_mask', 'sample_id', 'c_sequence_alignment', 'c_germline_alignment', 'c_sequence_start', 'c_sequence_end', 'c_score', 'c_identity', 'c_support', 'c_call_10x', 'junction_aa_length', 'fwr1_aa', 'fwr2_aa', 'fwr3_aa', 'fwr4_aa', 'cdr1_aa', 'cdr2_aa', 'cdr3_aa', 'sequence_alignment_aa', 'v_sequence_alignment_aa', 'd_sequence_alignment_aa', 'j_sequence_alignment_aa', 'mu_count', 'duplicate_count', 'clone_id', 'changeo_clone_id'\n",
       "    metadata: 'clone_id', 'clone_id_by_size', 'sample_id', 'locus_VDJ', 'locus_VJ', 'productive_VDJ', 'productive_VJ', 'v_call_genotyped_VDJ', 'v_call_genotyped_VJ', 'j_call_VDJ', 'j_call_VJ', 'c_call_VDJ', 'c_call_VJ', 'duplicate_count_VDJ_0', 'duplicate_count_VDJ_1', 'duplicate_count_VDJ_2', 'duplicate_count_VJ_0', 'duplicate_count_VJ_1', 'junction_aa_VDJ', 'junction_aa_VJ', 'status', 'status_summary', 'productive', 'productive_summary', 'isotype', 'isotype_summary', 'vdj_status', 'vdj_status_summary', 'constant_status_summary', 'changeo_clone_id'\n",
       "    distance: 'VDJ_0', 'VDJ_1', 'VDJ_2', 'VJ_0', 'VJ_1'\n",
       "    edges: 'source', 'target', 'weight'\n",
       "    layout: layout for 560 vertices, layout for 27 vertices\n",
       "    graph: networkx graph of 560 vertices, networkx graph of 27 vertices "
      ]
     },
     "execution_count": 13,
     "metadata": {},
     "output_type": "execute_result"
    }
   ],
   "source": [
    "vdj"
   ]
  },
  {
   "cell_type": "markdown",
   "metadata": {},
   "source": [
    "The graph/networks can be accessed through the `.graph` slot as an `networkx` graph object if you want to extract the data for network statistics or make any changes to the network."
   ]
  },
  {
   "cell_type": "markdown",
   "metadata": {},
   "source": [
    "At this point, we can save the dandelion object; the file can be quite big because the distance matrix is not sparse. I reccomend some form of compression (I use `bzip2` below but that can impact on read/write times significantly). See [here](https://pandas.pydata.org/pandas-docs/stable/reference/api/pandas.DataFrame.to_hdf.html) for options compression options."
   ]
  },
  {
   "cell_type": "code",
   "execution_count": 14,
   "metadata": {},
   "outputs": [],
   "source": [
    "vdj.write_h5('dandelion_results.h5', complib = 'bzip2')"
   ]
  },
  {
   "cell_type": "code",
   "execution_count": null,
   "metadata": {},
   "outputs": [],
   "source": []
  }
 ],
 "metadata": {
  "kernelspec": {
   "display_name": "Python (dandelion)",
   "language": "python",
   "name": "dandelion"
  },
  "language_info": {
   "codemirror_mode": {
    "name": "ipython",
    "version": 3
   },
   "file_extension": ".py",
   "mimetype": "text/x-python",
   "name": "python",
   "nbconvert_exporter": "python",
   "pygments_lexer": "ipython3",
   "version": "3.7.8"
  }
 },
 "nbformat": 4,
 "nbformat_minor": 2
}
