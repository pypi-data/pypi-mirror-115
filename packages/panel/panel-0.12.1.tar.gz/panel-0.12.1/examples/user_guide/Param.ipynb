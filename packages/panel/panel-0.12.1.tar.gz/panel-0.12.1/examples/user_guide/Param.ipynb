{
 "cells": [
  {
   "cell_type": "markdown",
   "metadata": {},
   "source": [
    "Panel supports using parameters and dependencies between parameters as expressed by ``param`` in a simple way to encapsulate dashboards as declarative, self-contained classes.\n",
    "\n",
    "Parameters are Python attributes extended using the [Param library](https://github.com/holoviz/param) to support types, ranges, and documentation, which turns out to be just the information you need to automatically create widgets for each parameter.\n",
    "\n",
    "Additionally Panel provides support for linking parameters to the URL query string to allow parameterizing an app very easily.\n",
    "\n",
    "# Parameters and widgets\n",
    "\n",
    "To use this approach, first declare some Parameterized classes with various Parameters:"
   ]
  },
  {
   "cell_type": "code",
   "execution_count": 1,
   "metadata": {},
   "outputs": [
    {
     "data": {
      "text/plain": [
       "50000"
      ]
     },
     "execution_count": 1,
     "metadata": {},
     "output_type": "execute_result"
    }
   ],
   "source": [
    "import param\n",
    "import pandas as pd\n",
    "import datetime as dt\n",
    "\n",
    "class BaseClass(param.Parameterized):\n",
    "    x                       = param.Parameter(default=3.14, doc=\"X position\")\n",
    "    y                       = param.Parameter(default=\"Not editable\", constant=True)\n",
    "    string_value            = param.String(default=\"str\", doc=\"A string\")\n",
    "    num_int                 = param.Integer(50000, bounds=(-200, 100000))\n",
    "    unbounded_int           = param.Integer(23)\n",
    "    float_with_hard_bounds  = param.Number(8.2, bounds=(7.5, 10))\n",
    "    float_with_soft_bounds  = param.Number(0.5, bounds=(0, None), softbounds=(0,2))\n",
    "    unbounded_float         = param.Number(30.01, precedence=0)\n",
    "    hidden_parameter        = param.Number(2.718, precedence=-1)\n",
    "    integer_range           = param.Range(default=(3, 7), bounds=(0, 10))\n",
    "    float_range             = param.Range(default=(0, 1.57), bounds=(0, 3.145))\n",
    "    dictionary              = param.Dict(default={\"a\": 2, \"b\": 9})\n",
    "\n",
    "\n",
    "class Example(BaseClass):\n",
    "    \"\"\"An example Parameterized class\"\"\"\n",
    "    timestamps = []\n",
    "\n",
    "    boolean                 = param.Boolean(True, doc=\"A sample Boolean parameter\")\n",
    "    color                   = param.Color(default='#FFFFFF')\n",
    "    date                    = param.Date(dt.datetime(2017, 1, 1),\n",
    "                                         bounds=(dt.datetime(2017, 1, 1), dt.datetime(2017, 2, 1)))\n",
    "    dataframe               = param.DataFrame(pd._testing.makeDataFrame().iloc[:3])\n",
    "    select_string           = param.ObjectSelector(default=\"yellow\", objects=[\"red\", \"yellow\", \"green\"])\n",
    "    select_fn               = param.ObjectSelector(default=list,objects=[list, set, dict])\n",
    "    int_list                = param.ListSelector(default=[3, 5], objects=[1, 3, 5, 7, 9], precedence=0.5)\n",
    "    single_file             = param.FileSelector(path='../../*/*.py*', precedence=0.5)\n",
    "    multiple_files          = param.MultiFileSelector(path='../../*/*.py?', precedence=0.5)\n",
    "    record_timestamp        = param.Action(lambda x: x.timestamps.append(dt.datetime.utcnow()), \n",
    "                                           doc=\"\"\"Record timestamp.\"\"\", precedence=0.7)\n",
    "    \n",
    "Example.num_int"
   ]
  },
  {
   "cell_type": "markdown",
   "metadata": {},
   "source": [
    "As you can see, declaring Parameters depends only on the separate Param library.  Parameters are a simple idea with some properties that are crucial for helping you create clean, usable code:\n",
    "\n",
    "- The Param library is pure Python with no dependencies, which makes it easy to include in any code without tying it to a particular GUI or widgets library, or even to the Jupyter notebook.  \n",
    "- Parameter declarations focus on semantic information relevant to your domain, allowing you to avoid polluting your domain-specific code with anything that ties it to a particular way of displaying or interacting with it. \n",
    "- Parameters can be defined wherever they make sense in your inheritance hierarchy, allowing you to document, type, and range-limit them _once_, with all of those properties inherited by any base class.  E.g. parameters work the same here whether they were declared in `BaseClass` or `Example`, which makes it easy to provide this metadata once, and avoiding duplicating it throughout the code wherever ranges or types need checking or documentation needs to be stored.\n",
    "\n",
    "If you then decide to use these Parameterized classes in a notebook or web-server environment, you can `import panel` and easily display and edit the parameter values as an optional additional step:"
   ]
  },
  {
   "cell_type": "code",
   "execution_count": 2,
   "metadata": {},
   "outputs": [
    {
     "data": {
      "application/javascript": [
       "\n",
       "(function(root) {\n",
       "  function now() {\n",
       "    return new Date();\n",
       "  }\n",
       "\n",
       "  var force = true;\n",
       "\n",
       "  if (typeof root._bokeh_onload_callbacks === \"undefined\" || force === true) {\n",
       "    root._bokeh_onload_callbacks = [];\n",
       "    root._bokeh_is_loading = undefined;\n",
       "  }\n",
       "\n",
       "  if (typeof (root._bokeh_timeout) === \"undefined\" || force === true) {\n",
       "    root._bokeh_timeout = Date.now() + 5000;\n",
       "    root._bokeh_failed_load = false;\n",
       "  }\n",
       "\n",
       "  function run_callbacks() {\n",
       "    try {\n",
       "      root._bokeh_onload_callbacks.forEach(function(callback) {\n",
       "        if (callback != null)\n",
       "          callback();\n",
       "      });\n",
       "    } finally {\n",
       "      delete root._bokeh_onload_callbacks\n",
       "    }\n",
       "    console.debug(\"Bokeh: all callbacks have finished\");\n",
       "  }\n",
       "\n",
       "  function load_libs(css_urls, js_urls, js_modules, callback) {\n",
       "    if (css_urls == null) css_urls = [];\n",
       "    if (js_urls == null) js_urls = [];\n",
       "    if (js_modules == null) js_modules = [];\n",
       "\n",
       "    root._bokeh_onload_callbacks.push(callback);\n",
       "    if (root._bokeh_is_loading > 0) {\n",
       "      console.debug(\"Bokeh: BokehJS is being loaded, scheduling callback at\", now());\n",
       "      return null;\n",
       "    }\n",
       "    if (js_urls.length === 0 && js_modules.length === 0) {\n",
       "      run_callbacks();\n",
       "      return null;\n",
       "    }\n",
       "    console.debug(\"Bokeh: BokehJS not loaded, scheduling load and callback at\", now());\n",
       "    root._bokeh_is_loading = css_urls.length + js_urls.length + js_modules.length;\n",
       "\n",
       "    function on_load() {\n",
       "      root._bokeh_is_loading--;\n",
       "      if (root._bokeh_is_loading === 0) {\n",
       "        console.debug(\"Bokeh: all BokehJS libraries/stylesheets loaded\");\n",
       "        run_callbacks()\n",
       "      }\n",
       "    }\n",
       "\n",
       "    function on_error() {\n",
       "      console.error(\"failed to load \" + url);\n",
       "    }\n",
       "\n",
       "    for (var i = 0; i < css_urls.length; i++) {\n",
       "      var url = css_urls[i];\n",
       "      const element = document.createElement(\"link\");\n",
       "      element.onload = on_load;\n",
       "      element.onerror = on_error;\n",
       "      element.rel = \"stylesheet\";\n",
       "      element.type = \"text/css\";\n",
       "      element.href = url;\n",
       "      console.debug(\"Bokeh: injecting link tag for BokehJS stylesheet: \", url);\n",
       "      document.body.appendChild(element);\n",
       "    }\n",
       "\n",
       "    var skip = [];\n",
       "    if (window.requirejs) {\n",
       "      window.requirejs.config({'paths': {'tabulator': 'https://unpkg.com/tabulator-tables@4.9.3/dist/js/tabulator'}});\n",
       "      require([\"tabulator\"], function(Tabulator,) {\n",
       "        window.Tabulator = Tabulator;\n",
       "      })\n",
       "    }\n",
       "    if (((window['tabulator'] !== undefined) && (!(window['tabulator'] instanceof HTMLElement))) || window.requirejs) {\n",
       "      var urls = ['https://unpkg.com/tabulator-tables@4.9.3/dist/js/tabulator.js', 'https://unpkg.com/moment@2.27.0/moment.js'];\n",
       "      for (var i = 0; i < urls.length; i++) {\n",
       "        skip.push(urls[i])\n",
       "      }\n",
       "    }\n",
       "    for (var i = 0; i < js_urls.length; i++) {\n",
       "      var url = js_urls[i];\n",
       "      if (skip.indexOf(url) >= 0) { on_load(); continue; }\n",
       "      var element = document.createElement('script');\n",
       "      element.onload = on_load;\n",
       "      element.onerror = on_error;\n",
       "      element.async = false;\n",
       "      element.src = url;\n",
       "      console.debug(\"Bokeh: injecting script tag for BokehJS library: \", url);\n",
       "      document.head.appendChild(element);\n",
       "    }\n",
       "    for (var i = 0; i < js_modules.length; i++) {\n",
       "      var url = js_modules[i];\n",
       "      if (skip.indexOf(url) >= 0) { on_load(); continue; }\n",
       "      var element = document.createElement('script');\n",
       "      element.onload = on_load;\n",
       "      element.onerror = on_error;\n",
       "      element.async = false;\n",
       "      element.src = url;\n",
       "      element.type = \"module\";\n",
       "      console.debug(\"Bokeh: injecting script tag for BokehJS library: \", url);\n",
       "      document.head.appendChild(element);\n",
       "    }\n",
       "    if (!js_urls.length && !js_modules.length) {\n",
       "      on_load()\n",
       "    }\n",
       "  };\n",
       "\n",
       "  function inject_raw_css(css) {\n",
       "    const element = document.createElement(\"style\");\n",
       "    element.appendChild(document.createTextNode(css));\n",
       "    document.body.appendChild(element);\n",
       "  }\n",
       "\n",
       "  var js_urls = [\"https://unpkg.com/tabulator-tables@4.9.3/dist/js/tabulator.js\", \"https://unpkg.com/moment@2.27.0/moment.js\", \"https://cdn.bokeh.org/bokeh/release/bokeh-2.3.1.min.js\", \"https://cdn.bokeh.org/bokeh/release/bokeh-widgets-2.3.1.min.js\", \"https://cdn.bokeh.org/bokeh/release/bokeh-tables-2.3.1.min.js\", \"https://unpkg.com/@holoviz/panel@^0.11.3/dist/panel.min.js\"];\n",
       "  var js_modules = [];\n",
       "  var css_urls = [\"https://unpkg.com/tabulator-tables@4.9.3/dist/css/tabulator_simple.min.css\", \"https://unpkg.com/@holoviz/panel@0.11.3/dist/css/markdown.css\", \"https://unpkg.com/@holoviz/panel@0.11.3/dist/css/loading.css\", \"https://unpkg.com/@holoviz/panel@0.11.3/dist/css/alerts.css\", \"https://unpkg.com/@holoviz/panel@0.11.3/dist/css/dataframe.css\", \"https://unpkg.com/@holoviz/panel@0.11.3/dist/css/card.css\", \"https://unpkg.com/@holoviz/panel@0.11.3/dist/css/json.css\", \"https://unpkg.com/@holoviz/panel@0.11.3/dist/css/widgets.css\"];\n",
       "  var inline_js = [\n",
       "    function(Bokeh) {\n",
       "      inject_raw_css(\"\\n    .bk.pn-loading.arcs:before {\\n      background-image: url(\\\"data:image/svg+xml;base64,PHN2ZyB4bWxucz0iaHR0cDovL3d3dy53My5vcmcvMjAwMC9zdmciIHhtbG5zOnhsaW5rPSJodHRwOi8vd3d3LnczLm9yZy8xOTk5L3hsaW5rIiBzdHlsZT0ibWFyZ2luOiBhdXRvOyBiYWNrZ3JvdW5kOiBub25lOyBkaXNwbGF5OiBibG9jazsgc2hhcGUtcmVuZGVyaW5nOiBhdXRvOyIgdmlld0JveD0iMCAwIDEwMCAxMDAiIHByZXNlcnZlQXNwZWN0UmF0aW89InhNaWRZTWlkIj4gIDxjaXJjbGUgY3g9IjUwIiBjeT0iNTAiIHI9IjMyIiBzdHJva2Utd2lkdGg9IjgiIHN0cm9rZT0iI2MzYzNjMyIgc3Ryb2tlLWRhc2hhcnJheT0iNTAuMjY1NDgyNDU3NDM2NjkgNTAuMjY1NDgyNDU3NDM2NjkiIGZpbGw9Im5vbmUiIHN0cm9rZS1saW5lY2FwPSJyb3VuZCI+ICAgIDxhbmltYXRlVHJhbnNmb3JtIGF0dHJpYnV0ZU5hbWU9InRyYW5zZm9ybSIgdHlwZT0icm90YXRlIiByZXBlYXRDb3VudD0iaW5kZWZpbml0ZSIgZHVyPSIxcyIga2V5VGltZXM9IjA7MSIgdmFsdWVzPSIwIDUwIDUwOzM2MCA1MCA1MCI+PC9hbmltYXRlVHJhbnNmb3JtPiAgPC9jaXJjbGU+PC9zdmc+\\\")\\n    }\\n    \");\n",
       "    },\n",
       "    function(Bokeh) {\n",
       "      Bokeh.set_log_level(\"info\");\n",
       "    },\n",
       "    function(Bokeh) {} // ensure no trailing comma for IE\n",
       "  ];\n",
       "\n",
       "  function run_inline_js() {\n",
       "    if ((root.Bokeh !== undefined) || (force === true)) {\n",
       "      for (var i = 0; i < inline_js.length; i++) {\n",
       "        inline_js[i].call(root, root.Bokeh);\n",
       "      }} else if (Date.now() < root._bokeh_timeout) {\n",
       "      setTimeout(run_inline_js, 100);\n",
       "    } else if (!root._bokeh_failed_load) {\n",
       "      console.log(\"Bokeh: BokehJS failed to load within specified timeout.\");\n",
       "      root._bokeh_failed_load = true;\n",
       "    }\n",
       "  }\n",
       "\n",
       "  if (root._bokeh_is_loading === 0) {\n",
       "    console.debug(\"Bokeh: BokehJS loaded, going straight to plotting\");\n",
       "    run_inline_js();\n",
       "  } else {\n",
       "    load_libs(css_urls, js_urls, js_modules, function() {\n",
       "      console.debug(\"Bokeh: BokehJS plotting callback run at\", now());\n",
       "      run_inline_js();\n",
       "    });\n",
       "  }\n",
       "}(window));"
      ],
      "application/vnd.holoviews_load.v0+json": "\n(function(root) {\n  function now() {\n    return new Date();\n  }\n\n  var force = true;\n\n  if (typeof root._bokeh_onload_callbacks === \"undefined\" || force === true) {\n    root._bokeh_onload_callbacks = [];\n    root._bokeh_is_loading = undefined;\n  }\n\n  if (typeof (root._bokeh_timeout) === \"undefined\" || force === true) {\n    root._bokeh_timeout = Date.now() + 5000;\n    root._bokeh_failed_load = false;\n  }\n\n  function run_callbacks() {\n    try {\n      root._bokeh_onload_callbacks.forEach(function(callback) {\n        if (callback != null)\n          callback();\n      });\n    } finally {\n      delete root._bokeh_onload_callbacks\n    }\n    console.debug(\"Bokeh: all callbacks have finished\");\n  }\n\n  function load_libs(css_urls, js_urls, js_modules, callback) {\n    if (css_urls == null) css_urls = [];\n    if (js_urls == null) js_urls = [];\n    if (js_modules == null) js_modules = [];\n\n    root._bokeh_onload_callbacks.push(callback);\n    if (root._bokeh_is_loading > 0) {\n      console.debug(\"Bokeh: BokehJS is being loaded, scheduling callback at\", now());\n      return null;\n    }\n    if (js_urls.length === 0 && js_modules.length === 0) {\n      run_callbacks();\n      return null;\n    }\n    console.debug(\"Bokeh: BokehJS not loaded, scheduling load and callback at\", now());\n    root._bokeh_is_loading = css_urls.length + js_urls.length + js_modules.length;\n\n    function on_load() {\n      root._bokeh_is_loading--;\n      if (root._bokeh_is_loading === 0) {\n        console.debug(\"Bokeh: all BokehJS libraries/stylesheets loaded\");\n        run_callbacks()\n      }\n    }\n\n    function on_error() {\n      console.error(\"failed to load \" + url);\n    }\n\n    for (var i = 0; i < css_urls.length; i++) {\n      var url = css_urls[i];\n      const element = document.createElement(\"link\");\n      element.onload = on_load;\n      element.onerror = on_error;\n      element.rel = \"stylesheet\";\n      element.type = \"text/css\";\n      element.href = url;\n      console.debug(\"Bokeh: injecting link tag for BokehJS stylesheet: \", url);\n      document.body.appendChild(element);\n    }\n\n    var skip = [];\n    if (window.requirejs) {\n      window.requirejs.config({'paths': {'tabulator': 'https://unpkg.com/tabulator-tables@4.9.3/dist/js/tabulator'}});\n      require([\"tabulator\"], function(Tabulator,) {\n        window.Tabulator = Tabulator;\n      })\n    }\n    if (((window['tabulator'] !== undefined) && (!(window['tabulator'] instanceof HTMLElement))) || window.requirejs) {\n      var urls = ['https://unpkg.com/tabulator-tables@4.9.3/dist/js/tabulator.js', 'https://unpkg.com/moment@2.27.0/moment.js'];\n      for (var i = 0; i < urls.length; i++) {\n        skip.push(urls[i])\n      }\n    }\n    for (var i = 0; i < js_urls.length; i++) {\n      var url = js_urls[i];\n      if (skip.indexOf(url) >= 0) { on_load(); continue; }\n      var element = document.createElement('script');\n      element.onload = on_load;\n      element.onerror = on_error;\n      element.async = false;\n      element.src = url;\n      console.debug(\"Bokeh: injecting script tag for BokehJS library: \", url);\n      document.head.appendChild(element);\n    }\n    for (var i = 0; i < js_modules.length; i++) {\n      var url = js_modules[i];\n      if (skip.indexOf(url) >= 0) { on_load(); continue; }\n      var element = document.createElement('script');\n      element.onload = on_load;\n      element.onerror = on_error;\n      element.async = false;\n      element.src = url;\n      element.type = \"module\";\n      console.debug(\"Bokeh: injecting script tag for BokehJS library: \", url);\n      document.head.appendChild(element);\n    }\n    if (!js_urls.length && !js_modules.length) {\n      on_load()\n    }\n  };\n\n  function inject_raw_css(css) {\n    const element = document.createElement(\"style\");\n    element.appendChild(document.createTextNode(css));\n    document.body.appendChild(element);\n  }\n\n  var js_urls = [\"https://unpkg.com/tabulator-tables@4.9.3/dist/js/tabulator.js\", \"https://unpkg.com/moment@2.27.0/moment.js\", \"https://cdn.bokeh.org/bokeh/release/bokeh-2.3.1.min.js\", \"https://cdn.bokeh.org/bokeh/release/bokeh-widgets-2.3.1.min.js\", \"https://cdn.bokeh.org/bokeh/release/bokeh-tables-2.3.1.min.js\", \"https://unpkg.com/@holoviz/panel@^0.11.3/dist/panel.min.js\"];\n  var js_modules = [];\n  var css_urls = [\"https://unpkg.com/tabulator-tables@4.9.3/dist/css/tabulator_simple.min.css\", \"https://unpkg.com/@holoviz/panel@0.11.3/dist/css/markdown.css\", \"https://unpkg.com/@holoviz/panel@0.11.3/dist/css/loading.css\", \"https://unpkg.com/@holoviz/panel@0.11.3/dist/css/alerts.css\", \"https://unpkg.com/@holoviz/panel@0.11.3/dist/css/dataframe.css\", \"https://unpkg.com/@holoviz/panel@0.11.3/dist/css/card.css\", \"https://unpkg.com/@holoviz/panel@0.11.3/dist/css/json.css\", \"https://unpkg.com/@holoviz/panel@0.11.3/dist/css/widgets.css\"];\n  var inline_js = [\n    function(Bokeh) {\n      inject_raw_css(\"\\n    .bk.pn-loading.arcs:before {\\n      background-image: url(\\\"data:image/svg+xml;base64,PHN2ZyB4bWxucz0iaHR0cDovL3d3dy53My5vcmcvMjAwMC9zdmciIHhtbG5zOnhsaW5rPSJodHRwOi8vd3d3LnczLm9yZy8xOTk5L3hsaW5rIiBzdHlsZT0ibWFyZ2luOiBhdXRvOyBiYWNrZ3JvdW5kOiBub25lOyBkaXNwbGF5OiBibG9jazsgc2hhcGUtcmVuZGVyaW5nOiBhdXRvOyIgdmlld0JveD0iMCAwIDEwMCAxMDAiIHByZXNlcnZlQXNwZWN0UmF0aW89InhNaWRZTWlkIj4gIDxjaXJjbGUgY3g9IjUwIiBjeT0iNTAiIHI9IjMyIiBzdHJva2Utd2lkdGg9IjgiIHN0cm9rZT0iI2MzYzNjMyIgc3Ryb2tlLWRhc2hhcnJheT0iNTAuMjY1NDgyNDU3NDM2NjkgNTAuMjY1NDgyNDU3NDM2NjkiIGZpbGw9Im5vbmUiIHN0cm9rZS1saW5lY2FwPSJyb3VuZCI+ICAgIDxhbmltYXRlVHJhbnNmb3JtIGF0dHJpYnV0ZU5hbWU9InRyYW5zZm9ybSIgdHlwZT0icm90YXRlIiByZXBlYXRDb3VudD0iaW5kZWZpbml0ZSIgZHVyPSIxcyIga2V5VGltZXM9IjA7MSIgdmFsdWVzPSIwIDUwIDUwOzM2MCA1MCA1MCI+PC9hbmltYXRlVHJhbnNmb3JtPiAgPC9jaXJjbGU+PC9zdmc+\\\")\\n    }\\n    \");\n    },\n    function(Bokeh) {\n      Bokeh.set_log_level(\"info\");\n    },\n    function(Bokeh) {} // ensure no trailing comma for IE\n  ];\n\n  function run_inline_js() {\n    if ((root.Bokeh !== undefined) || (force === true)) {\n      for (var i = 0; i < inline_js.length; i++) {\n        inline_js[i].call(root, root.Bokeh);\n      }} else if (Date.now() < root._bokeh_timeout) {\n      setTimeout(run_inline_js, 100);\n    } else if (!root._bokeh_failed_load) {\n      console.log(\"Bokeh: BokehJS failed to load within specified timeout.\");\n      root._bokeh_failed_load = true;\n    }\n  }\n\n  if (root._bokeh_is_loading === 0) {\n    console.debug(\"Bokeh: BokehJS loaded, going straight to plotting\");\n    run_inline_js();\n  } else {\n    load_libs(css_urls, js_urls, js_modules, function() {\n      console.debug(\"Bokeh: BokehJS plotting callback run at\", now());\n      run_inline_js();\n    });\n  }\n}(window));"
     },
     "metadata": {},
     "output_type": "display_data"
    },
    {
     "data": {
      "application/javascript": [
       "\n",
       "if ((window.PyViz === undefined) || (window.PyViz instanceof HTMLElement)) {\n",
       "  window.PyViz = {comms: {}, comm_status:{}, kernels:{}, receivers: {}, plot_index: []}\n",
       "}\n",
       "\n",
       "\n",
       "    function JupyterCommManager() {\n",
       "    }\n",
       "\n",
       "    JupyterCommManager.prototype.register_target = function(plot_id, comm_id, msg_handler) {\n",
       "      if (window.comm_manager || ((window.Jupyter !== undefined) && (Jupyter.notebook.kernel != null))) {\n",
       "        var comm_manager = window.comm_manager || Jupyter.notebook.kernel.comm_manager;\n",
       "        comm_manager.register_target(comm_id, function(comm) {\n",
       "          comm.on_msg(msg_handler);\n",
       "        });\n",
       "      } else if ((plot_id in window.PyViz.kernels) && (window.PyViz.kernels[plot_id])) {\n",
       "        window.PyViz.kernels[plot_id].registerCommTarget(comm_id, function(comm) {\n",
       "          comm.onMsg = msg_handler;\n",
       "        });\n",
       "      } else if (typeof google != 'undefined' && google.colab.kernel != null) {\n",
       "        google.colab.kernel.comms.registerTarget(comm_id, (comm) => {\n",
       "          var messages = comm.messages[Symbol.asyncIterator]();\n",
       "          function processIteratorResult(result) {\n",
       "            var message = result.value;\n",
       "            console.log(message)\n",
       "            var content = {data: message.data, comm_id};\n",
       "            var buffers = []\n",
       "            for (var buffer of message.buffers || []) {\n",
       "              buffers.push(new DataView(buffer))\n",
       "            }\n",
       "            var metadata = message.metadata || {};\n",
       "            var msg = {content, buffers, metadata}\n",
       "            msg_handler(msg);\n",
       "            return messages.next().then(processIteratorResult);\n",
       "          }\n",
       "          return messages.next().then(processIteratorResult);\n",
       "        })\n",
       "      }\n",
       "    }\n",
       "\n",
       "    JupyterCommManager.prototype.get_client_comm = function(plot_id, comm_id, msg_handler) {\n",
       "      if (comm_id in window.PyViz.comms) {\n",
       "        return window.PyViz.comms[comm_id];\n",
       "      } else if (window.comm_manager || ((window.Jupyter !== undefined) && (Jupyter.notebook.kernel != null))) {\n",
       "        var comm_manager = window.comm_manager || Jupyter.notebook.kernel.comm_manager;\n",
       "        var comm = comm_manager.new_comm(comm_id, {}, {}, {}, comm_id);\n",
       "        if (msg_handler) {\n",
       "          comm.on_msg(msg_handler);\n",
       "        }\n",
       "      } else if ((plot_id in window.PyViz.kernels) && (window.PyViz.kernels[plot_id])) {\n",
       "        var comm = window.PyViz.kernels[plot_id].connectToComm(comm_id);\n",
       "        comm.open();\n",
       "        if (msg_handler) {\n",
       "          comm.onMsg = msg_handler;\n",
       "        }\n",
       "      } else if (typeof google != 'undefined' && google.colab.kernel != null) {\n",
       "        var comm_promise = google.colab.kernel.comms.open(comm_id)\n",
       "        comm_promise.then((comm) => {\n",
       "          window.PyViz.comms[comm_id] = comm;\n",
       "          if (msg_handler) {\n",
       "            var messages = comm.messages[Symbol.asyncIterator]();\n",
       "            function processIteratorResult(result) {\n",
       "              var message = result.value;\n",
       "              var content = {data: message.data};\n",
       "              var metadata = message.metadata || {comm_id};\n",
       "              var msg = {content, metadata}\n",
       "              msg_handler(msg);\n",
       "              return messages.next().then(processIteratorResult);\n",
       "            }\n",
       "            return messages.next().then(processIteratorResult);\n",
       "          }\n",
       "        }) \n",
       "        var sendClosure = (data, metadata, buffers, disposeOnDone) => {\n",
       "          return comm_promise.then((comm) => {\n",
       "            comm.send(data, metadata, buffers, disposeOnDone);\n",
       "          });\n",
       "        };\n",
       "        var comm = {\n",
       "          send: sendClosure\n",
       "        };\n",
       "      }\n",
       "      window.PyViz.comms[comm_id] = comm;\n",
       "      return comm;\n",
       "    }\n",
       "    window.PyViz.comm_manager = new JupyterCommManager();\n",
       "    \n",
       "\n",
       "\n",
       "var JS_MIME_TYPE = 'application/javascript';\n",
       "var HTML_MIME_TYPE = 'text/html';\n",
       "var EXEC_MIME_TYPE = 'application/vnd.holoviews_exec.v0+json';\n",
       "var CLASS_NAME = 'output';\n",
       "\n",
       "/**\n",
       " * Render data to the DOM node\n",
       " */\n",
       "function render(props, node) {\n",
       "  var div = document.createElement(\"div\");\n",
       "  var script = document.createElement(\"script\");\n",
       "  node.appendChild(div);\n",
       "  node.appendChild(script);\n",
       "}\n",
       "\n",
       "/**\n",
       " * Handle when a new output is added\n",
       " */\n",
       "function handle_add_output(event, handle) {\n",
       "  var output_area = handle.output_area;\n",
       "  var output = handle.output;\n",
       "  if ((output.data == undefined) || (!output.data.hasOwnProperty(EXEC_MIME_TYPE))) {\n",
       "    return\n",
       "  }\n",
       "  var id = output.metadata[EXEC_MIME_TYPE][\"id\"];\n",
       "  var toinsert = output_area.element.find(\".\" + CLASS_NAME.split(' ')[0]);\n",
       "  if (id !== undefined) {\n",
       "    var nchildren = toinsert.length;\n",
       "    var html_node = toinsert[nchildren-1].children[0];\n",
       "    html_node.innerHTML = output.data[HTML_MIME_TYPE];\n",
       "    var scripts = [];\n",
       "    var nodelist = html_node.querySelectorAll(\"script\");\n",
       "    for (var i in nodelist) {\n",
       "      if (nodelist.hasOwnProperty(i)) {\n",
       "        scripts.push(nodelist[i])\n",
       "      }\n",
       "    }\n",
       "\n",
       "    scripts.forEach( function (oldScript) {\n",
       "      var newScript = document.createElement(\"script\");\n",
       "      var attrs = [];\n",
       "      var nodemap = oldScript.attributes;\n",
       "      for (var j in nodemap) {\n",
       "        if (nodemap.hasOwnProperty(j)) {\n",
       "          attrs.push(nodemap[j])\n",
       "        }\n",
       "      }\n",
       "      attrs.forEach(function(attr) { newScript.setAttribute(attr.name, attr.value) });\n",
       "      newScript.appendChild(document.createTextNode(oldScript.innerHTML));\n",
       "      oldScript.parentNode.replaceChild(newScript, oldScript);\n",
       "    });\n",
       "    if (JS_MIME_TYPE in output.data) {\n",
       "      toinsert[nchildren-1].children[1].textContent = output.data[JS_MIME_TYPE];\n",
       "    }\n",
       "    output_area._hv_plot_id = id;\n",
       "    if ((window.Bokeh !== undefined) && (id in Bokeh.index)) {\n",
       "      window.PyViz.plot_index[id] = Bokeh.index[id];\n",
       "    } else {\n",
       "      window.PyViz.plot_index[id] = null;\n",
       "    }\n",
       "  } else if (output.metadata[EXEC_MIME_TYPE][\"server_id\"] !== undefined) {\n",
       "    var bk_div = document.createElement(\"div\");\n",
       "    bk_div.innerHTML = output.data[HTML_MIME_TYPE];\n",
       "    var script_attrs = bk_div.children[0].attributes;\n",
       "    for (var i = 0; i < script_attrs.length; i++) {\n",
       "      toinsert[toinsert.length - 1].childNodes[1].setAttribute(script_attrs[i].name, script_attrs[i].value);\n",
       "    }\n",
       "    // store reference to server id on output_area\n",
       "    output_area._bokeh_server_id = output.metadata[EXEC_MIME_TYPE][\"server_id\"];\n",
       "  }\n",
       "}\n",
       "\n",
       "/**\n",
       " * Handle when an output is cleared or removed\n",
       " */\n",
       "function handle_clear_output(event, handle) {\n",
       "  var id = handle.cell.output_area._hv_plot_id;\n",
       "  var server_id = handle.cell.output_area._bokeh_server_id;\n",
       "  if (((id === undefined) || !(id in PyViz.plot_index)) && (server_id !== undefined)) { return; }\n",
       "  var comm = window.PyViz.comm_manager.get_client_comm(\"hv-extension-comm\", \"hv-extension-comm\", function () {});\n",
       "  if (server_id !== null) {\n",
       "    comm.send({event_type: 'server_delete', 'id': server_id});\n",
       "    return;\n",
       "  } else if (comm !== null) {\n",
       "    comm.send({event_type: 'delete', 'id': id});\n",
       "  }\n",
       "  delete PyViz.plot_index[id];\n",
       "  if ((window.Bokeh !== undefined) & (id in window.Bokeh.index)) {\n",
       "    var doc = window.Bokeh.index[id].model.document\n",
       "    doc.clear();\n",
       "    const i = window.Bokeh.documents.indexOf(doc);\n",
       "    if (i > -1) {\n",
       "      window.Bokeh.documents.splice(i, 1);\n",
       "    }\n",
       "  }\n",
       "}\n",
       "\n",
       "/**\n",
       " * Handle kernel restart event\n",
       " */\n",
       "function handle_kernel_cleanup(event, handle) {\n",
       "  delete PyViz.comms[\"hv-extension-comm\"];\n",
       "  window.PyViz.plot_index = {}\n",
       "}\n",
       "\n",
       "/**\n",
       " * Handle update_display_data messages\n",
       " */\n",
       "function handle_update_output(event, handle) {\n",
       "  handle_clear_output(event, {cell: {output_area: handle.output_area}})\n",
       "  handle_add_output(event, handle)\n",
       "}\n",
       "\n",
       "function register_renderer(events, OutputArea) {\n",
       "  function append_mime(data, metadata, element) {\n",
       "    // create a DOM node to render to\n",
       "    var toinsert = this.create_output_subarea(\n",
       "    metadata,\n",
       "    CLASS_NAME,\n",
       "    EXEC_MIME_TYPE\n",
       "    );\n",
       "    this.keyboard_manager.register_events(toinsert);\n",
       "    // Render to node\n",
       "    var props = {data: data, metadata: metadata[EXEC_MIME_TYPE]};\n",
       "    render(props, toinsert[0]);\n",
       "    element.append(toinsert);\n",
       "    return toinsert\n",
       "  }\n",
       "\n",
       "  events.on('output_added.OutputArea', handle_add_output);\n",
       "  events.on('output_updated.OutputArea', handle_update_output);\n",
       "  events.on('clear_output.CodeCell', handle_clear_output);\n",
       "  events.on('delete.Cell', handle_clear_output);\n",
       "  events.on('kernel_ready.Kernel', handle_kernel_cleanup);\n",
       "\n",
       "  OutputArea.prototype.register_mime_type(EXEC_MIME_TYPE, append_mime, {\n",
       "    safe: true,\n",
       "    index: 0\n",
       "  });\n",
       "}\n",
       "\n",
       "if (window.Jupyter !== undefined) {\n",
       "  try {\n",
       "    var events = require('base/js/events');\n",
       "    var OutputArea = require('notebook/js/outputarea').OutputArea;\n",
       "    if (OutputArea.prototype.mime_types().indexOf(EXEC_MIME_TYPE) == -1) {\n",
       "      register_renderer(events, OutputArea);\n",
       "    }\n",
       "  } catch(err) {\n",
       "  }\n",
       "}\n"
      ],
      "application/vnd.holoviews_load.v0+json": "\nif ((window.PyViz === undefined) || (window.PyViz instanceof HTMLElement)) {\n  window.PyViz = {comms: {}, comm_status:{}, kernels:{}, receivers: {}, plot_index: []}\n}\n\n\n    function JupyterCommManager() {\n    }\n\n    JupyterCommManager.prototype.register_target = function(plot_id, comm_id, msg_handler) {\n      if (window.comm_manager || ((window.Jupyter !== undefined) && (Jupyter.notebook.kernel != null))) {\n        var comm_manager = window.comm_manager || Jupyter.notebook.kernel.comm_manager;\n        comm_manager.register_target(comm_id, function(comm) {\n          comm.on_msg(msg_handler);\n        });\n      } else if ((plot_id in window.PyViz.kernels) && (window.PyViz.kernels[plot_id])) {\n        window.PyViz.kernels[plot_id].registerCommTarget(comm_id, function(comm) {\n          comm.onMsg = msg_handler;\n        });\n      } else if (typeof google != 'undefined' && google.colab.kernel != null) {\n        google.colab.kernel.comms.registerTarget(comm_id, (comm) => {\n          var messages = comm.messages[Symbol.asyncIterator]();\n          function processIteratorResult(result) {\n            var message = result.value;\n            console.log(message)\n            var content = {data: message.data, comm_id};\n            var buffers = []\n            for (var buffer of message.buffers || []) {\n              buffers.push(new DataView(buffer))\n            }\n            var metadata = message.metadata || {};\n            var msg = {content, buffers, metadata}\n            msg_handler(msg);\n            return messages.next().then(processIteratorResult);\n          }\n          return messages.next().then(processIteratorResult);\n        })\n      }\n    }\n\n    JupyterCommManager.prototype.get_client_comm = function(plot_id, comm_id, msg_handler) {\n      if (comm_id in window.PyViz.comms) {\n        return window.PyViz.comms[comm_id];\n      } else if (window.comm_manager || ((window.Jupyter !== undefined) && (Jupyter.notebook.kernel != null))) {\n        var comm_manager = window.comm_manager || Jupyter.notebook.kernel.comm_manager;\n        var comm = comm_manager.new_comm(comm_id, {}, {}, {}, comm_id);\n        if (msg_handler) {\n          comm.on_msg(msg_handler);\n        }\n      } else if ((plot_id in window.PyViz.kernels) && (window.PyViz.kernels[plot_id])) {\n        var comm = window.PyViz.kernels[plot_id].connectToComm(comm_id);\n        comm.open();\n        if (msg_handler) {\n          comm.onMsg = msg_handler;\n        }\n      } else if (typeof google != 'undefined' && google.colab.kernel != null) {\n        var comm_promise = google.colab.kernel.comms.open(comm_id)\n        comm_promise.then((comm) => {\n          window.PyViz.comms[comm_id] = comm;\n          if (msg_handler) {\n            var messages = comm.messages[Symbol.asyncIterator]();\n            function processIteratorResult(result) {\n              var message = result.value;\n              var content = {data: message.data};\n              var metadata = message.metadata || {comm_id};\n              var msg = {content, metadata}\n              msg_handler(msg);\n              return messages.next().then(processIteratorResult);\n            }\n            return messages.next().then(processIteratorResult);\n          }\n        }) \n        var sendClosure = (data, metadata, buffers, disposeOnDone) => {\n          return comm_promise.then((comm) => {\n            comm.send(data, metadata, buffers, disposeOnDone);\n          });\n        };\n        var comm = {\n          send: sendClosure\n        };\n      }\n      window.PyViz.comms[comm_id] = comm;\n      return comm;\n    }\n    window.PyViz.comm_manager = new JupyterCommManager();\n    \n\n\nvar JS_MIME_TYPE = 'application/javascript';\nvar HTML_MIME_TYPE = 'text/html';\nvar EXEC_MIME_TYPE = 'application/vnd.holoviews_exec.v0+json';\nvar CLASS_NAME = 'output';\n\n/**\n * Render data to the DOM node\n */\nfunction render(props, node) {\n  var div = document.createElement(\"div\");\n  var script = document.createElement(\"script\");\n  node.appendChild(div);\n  node.appendChild(script);\n}\n\n/**\n * Handle when a new output is added\n */\nfunction handle_add_output(event, handle) {\n  var output_area = handle.output_area;\n  var output = handle.output;\n  if ((output.data == undefined) || (!output.data.hasOwnProperty(EXEC_MIME_TYPE))) {\n    return\n  }\n  var id = output.metadata[EXEC_MIME_TYPE][\"id\"];\n  var toinsert = output_area.element.find(\".\" + CLASS_NAME.split(' ')[0]);\n  if (id !== undefined) {\n    var nchildren = toinsert.length;\n    var html_node = toinsert[nchildren-1].children[0];\n    html_node.innerHTML = output.data[HTML_MIME_TYPE];\n    var scripts = [];\n    var nodelist = html_node.querySelectorAll(\"script\");\n    for (var i in nodelist) {\n      if (nodelist.hasOwnProperty(i)) {\n        scripts.push(nodelist[i])\n      }\n    }\n\n    scripts.forEach( function (oldScript) {\n      var newScript = document.createElement(\"script\");\n      var attrs = [];\n      var nodemap = oldScript.attributes;\n      for (var j in nodemap) {\n        if (nodemap.hasOwnProperty(j)) {\n          attrs.push(nodemap[j])\n        }\n      }\n      attrs.forEach(function(attr) { newScript.setAttribute(attr.name, attr.value) });\n      newScript.appendChild(document.createTextNode(oldScript.innerHTML));\n      oldScript.parentNode.replaceChild(newScript, oldScript);\n    });\n    if (JS_MIME_TYPE in output.data) {\n      toinsert[nchildren-1].children[1].textContent = output.data[JS_MIME_TYPE];\n    }\n    output_area._hv_plot_id = id;\n    if ((window.Bokeh !== undefined) && (id in Bokeh.index)) {\n      window.PyViz.plot_index[id] = Bokeh.index[id];\n    } else {\n      window.PyViz.plot_index[id] = null;\n    }\n  } else if (output.metadata[EXEC_MIME_TYPE][\"server_id\"] !== undefined) {\n    var bk_div = document.createElement(\"div\");\n    bk_div.innerHTML = output.data[HTML_MIME_TYPE];\n    var script_attrs = bk_div.children[0].attributes;\n    for (var i = 0; i < script_attrs.length; i++) {\n      toinsert[toinsert.length - 1].childNodes[1].setAttribute(script_attrs[i].name, script_attrs[i].value);\n    }\n    // store reference to server id on output_area\n    output_area._bokeh_server_id = output.metadata[EXEC_MIME_TYPE][\"server_id\"];\n  }\n}\n\n/**\n * Handle when an output is cleared or removed\n */\nfunction handle_clear_output(event, handle) {\n  var id = handle.cell.output_area._hv_plot_id;\n  var server_id = handle.cell.output_area._bokeh_server_id;\n  if (((id === undefined) || !(id in PyViz.plot_index)) && (server_id !== undefined)) { return; }\n  var comm = window.PyViz.comm_manager.get_client_comm(\"hv-extension-comm\", \"hv-extension-comm\", function () {});\n  if (server_id !== null) {\n    comm.send({event_type: 'server_delete', 'id': server_id});\n    return;\n  } else if (comm !== null) {\n    comm.send({event_type: 'delete', 'id': id});\n  }\n  delete PyViz.plot_index[id];\n  if ((window.Bokeh !== undefined) & (id in window.Bokeh.index)) {\n    var doc = window.Bokeh.index[id].model.document\n    doc.clear();\n    const i = window.Bokeh.documents.indexOf(doc);\n    if (i > -1) {\n      window.Bokeh.documents.splice(i, 1);\n    }\n  }\n}\n\n/**\n * Handle kernel restart event\n */\nfunction handle_kernel_cleanup(event, handle) {\n  delete PyViz.comms[\"hv-extension-comm\"];\n  window.PyViz.plot_index = {}\n}\n\n/**\n * Handle update_display_data messages\n */\nfunction handle_update_output(event, handle) {\n  handle_clear_output(event, {cell: {output_area: handle.output_area}})\n  handle_add_output(event, handle)\n}\n\nfunction register_renderer(events, OutputArea) {\n  function append_mime(data, metadata, element) {\n    // create a DOM node to render to\n    var toinsert = this.create_output_subarea(\n    metadata,\n    CLASS_NAME,\n    EXEC_MIME_TYPE\n    );\n    this.keyboard_manager.register_events(toinsert);\n    // Render to node\n    var props = {data: data, metadata: metadata[EXEC_MIME_TYPE]};\n    render(props, toinsert[0]);\n    element.append(toinsert);\n    return toinsert\n  }\n\n  events.on('output_added.OutputArea', handle_add_output);\n  events.on('output_updated.OutputArea', handle_update_output);\n  events.on('clear_output.CodeCell', handle_clear_output);\n  events.on('delete.Cell', handle_clear_output);\n  events.on('kernel_ready.Kernel', handle_kernel_cleanup);\n\n  OutputArea.prototype.register_mime_type(EXEC_MIME_TYPE, append_mime, {\n    safe: true,\n    index: 0\n  });\n}\n\nif (window.Jupyter !== undefined) {\n  try {\n    var events = require('base/js/events');\n    var OutputArea = require('notebook/js/outputarea').OutputArea;\n    if (OutputArea.prototype.mime_types().indexOf(EXEC_MIME_TYPE) == -1) {\n      register_renderer(events, OutputArea);\n    }\n  } catch(err) {\n  }\n}\n"
     },
     "metadata": {},
     "output_type": "display_data"
    },
    {
     "data": {},
     "metadata": {},
     "output_type": "display_data"
    },
    {
     "data": {
      "application/vnd.holoviews_exec.v0+json": "",
      "text/html": [
       "<div id='1002'>\n",
       "\n",
       "\n",
       "\n",
       "\n",
       "\n",
       "  <div class=\"bk-root\" id=\"1686ee81-7dde-4db0-9917-7725bb71a792\" data-root-id=\"1002\"></div>\n",
       "</div>\n",
       "<script type=\"application/javascript\">(function(root) {\n",
       "  function embed_document(root) {\n",
       "    var docs_json = {\"d93e31f7-d8df-4753-ac19-df8926d9e933\":{\"defs\":[],\"roots\":{\"references\":[{\"attributes\":{\"margin\":[0,0,10,0],\"max_length\":5000,\"placeholder\":\"Filter available options\",\"width_policy\":\"max\"},\"id\":\"1067\",\"type\":\"TextInput\"},{\"attributes\":{},\"id\":\"1028\",\"type\":\"NumberEditor\"},{\"attributes\":{\"reload\":false},\"id\":\"1106\",\"type\":\"panel.models.location.Location\"},{\"attributes\":{\"children\":[{\"id\":\"1076\"},{\"id\":\"1077\"},{\"id\":\"1078\"}],\"margin\":[0,0,0,0],\"name\":\"Column00157\",\"sizing_mode\":\"stretch_both\"},\"id\":\"1075\",\"type\":\"Column\"},{\"attributes\":{\"format\":\"0,0.0[00000]\"},\"id\":\"1032\",\"type\":\"NumberFormatter\"},{\"attributes\":{\"editor\":{\"id\":\"1028\"},\"field\":\"A\",\"formatter\":{\"id\":\"1027\"},\"title\":\"A\",\"width\":0},\"id\":\"1029\",\"type\":\"TableColumn\"},{\"attributes\":{},\"id\":\"1033\",\"type\":\"NumberEditor\"},{\"attributes\":{},\"id\":\"1093\",\"type\":\"UnionRenderers\"},{\"attributes\":{\"format\":\"0,0.0[00000]\"},\"id\":\"1037\",\"type\":\"NumberFormatter\"},{\"attributes\":{\"editor\":{\"id\":\"1033\"},\"field\":\"B\",\"formatter\":{\"id\":\"1032\"},\"title\":\"B\",\"width\":0},\"id\":\"1034\",\"type\":\"TableColumn\"},{\"attributes\":{},\"id\":\"1038\",\"type\":\"NumberEditor\"},{\"attributes\":{\"format\":\"0,0.0[00000]\"},\"id\":\"1042\",\"type\":\"NumberFormatter\"},{\"attributes\":{\"margin\":[0,0,0,0],\"options\":[\"APIs.ipynb\",\"Async_and_Concurrency.ipynb\",\"Authentication.ipynb\",\"Components.ipynb\",\"Custom_Components.ipynb\",\"Customization.ipynb\",\"Deploy_and_Export.ipynb\",\"Django_Apps.ipynb\",\"Interact.ipynb\",\"Links.ipynb\",\"Overview.ipynb\",\"Param.ipynb\",\"Pipelines.ipynb\",\"Server_Deployment.ipynb\",\"Templates.ipynb\",\"Widgets.ipynb\",\"sample_template.html\",\"server-deployment-azure-general-settings.png\"],\"size\":10,\"sizing_mode\":\"stretch_both\"},\"id\":\"1068\",\"type\":\"MultiSelect\"},{\"attributes\":{\"editor\":{\"id\":\"1038\"},\"field\":\"C\",\"formatter\":{\"id\":\"1037\"},\"title\":\"C\",\"width\":0},\"id\":\"1039\",\"type\":\"TableColumn\"},{\"attributes\":{\"css_classes\":[\"markdown\"],\"margin\":[0,0,0,0],\"name\":\"Markdown00172\",\"text\":\"&lt;h3&gt;File Browser&lt;/h3&gt;\"},\"id\":\"1066\",\"type\":\"panel.models.markup.HTML\"},{\"attributes\":{\"margin\":[5,5,5,5],\"name\":\"VSpacer00159\",\"sizing_mode\":\"stretch_height\"},\"id\":\"1070\",\"type\":\"Spacer\"},{\"attributes\":{},\"id\":\"1043\",\"type\":\"NumberEditor\"},{\"attributes\":{\"children\":[{\"id\":\"1057\"},{\"id\":\"1058\"},{\"id\":\"1059\"},{\"id\":\"1060\"},{\"id\":\"1061\"},{\"id\":\"1062\"}],\"margin\":[0,0,0,0],\"name\":\"Row00168\",\"width_policy\":\"max\"},\"id\":\"1056\",\"type\":\"Row\"},{\"attributes\":{\"margin\":[5,10,5,10],\"options\":[[\"<class 'list'>\",\"list\"],[\"<class 'set'>\",\"set\"],[\"<class 'dict'>\",\"dict\"]],\"title\":\"Select fn\",\"value\":\"<class 'list'>\"},\"id\":\"1052\",\"type\":\"Select\"},{\"attributes\":{\"editor\":{\"id\":\"1043\"},\"field\":\"D\",\"formatter\":{\"id\":\"1042\"},\"title\":\"D\",\"width\":0},\"id\":\"1044\",\"type\":\"TableColumn\"},{\"attributes\":{\"margin\":[5,5,5,5],\"name\":\"VSpacer00160\",\"sizing_mode\":\"stretch_height\"},\"id\":\"1074\",\"type\":\"Spacer\"},{\"attributes\":{\"margin\":[5,10,5,10],\"options\":[[\"red\",\"red\"],[\"yellow\",\"yellow\"],[\"green\",\"green\"]],\"title\":\"Select string\",\"value\":\"yellow\"},\"id\":\"1051\",\"type\":\"Select\"},{\"attributes\":{\"margin\":[5,10,5,10],\"options\":[\"1\",\"3\",\"5\",\"7\",\"9\"],\"title\":\"Int list\",\"value\":[\"3\",\"5\"]},\"id\":\"1053\",\"type\":\"MultiSelect\"},{\"attributes\":{\"children\":[{\"id\":\"1072\"},{\"id\":\"1073\"}],\"margin\":[0,5,0,5],\"name\":\"Column00158\"},\"id\":\"1071\",\"type\":\"Column\"},{\"attributes\":{\"disabled\":true,\"icon\":null,\"label\":\"\\u25c0\",\"margin\":[5,10,0,0],\"min_width\":25,\"subscribed_events\":[\"button_click\"],\"width\":25},\"id\":\"1057\",\"type\":\"Button\"},{\"attributes\":{\"margin\":[0,0,0,0],\"name\":\"Divider00169\",\"style\":{\"height\":\"100%\",\"width\":\"100%\"},\"text\":\"<hr style=\\\"margin: 0px\\\">\",\"width_policy\":\"fit\"},\"id\":\"1063\",\"type\":\"Div\"},{\"attributes\":{\"margin\":[5,10,5,10],\"options\":[[\"../../__pycache__/dodo.cpython-37.pyc\",\"__pycache__/dodo.cpython-37.pyc\"],[\"../../__pycache__/dodo.cpython-38.pyc\",\"__pycache__/dodo.cpython-38.pyc\"],[\"../../__pycache__/setup.cpython-37.pyc\",\"__pycache__/setup.cpython-37.pyc\"],[\"../../__pycache__/setup.cpython-38.pyc\",\"__pycache__/setup.cpython-38.pyc\"],[\"../../doc/conf.py\",\"doc/conf.py\"],[\"../../doc/generate_modules.py\",\"doc/generate_modules.py\"],[\"../../panel/__init__.py\",\"panel/__init__.py\"],[\"../../panel/__main__.py\",\"panel/__main__.py\"],[\"../../panel/auth.py\",\"panel/auth.py\"],[\"../../panel/callbacks.py\",\"panel/callbacks.py\"],[\"../../panel/compiler.py\",\"panel/compiler.py\"],[\"../../panel/config.py\",\"panel/config.py\"],[\"../../panel/depends.py\",\"panel/depends.py\"],[\"../../panel/interact.py\",\"panel/interact.py\"],[\"../../panel/links.py\",\"panel/links.py\"],[\"../../panel/param.py\",\"panel/param.py\"],[\"../../panel/pipeline.py\",\"panel/pipeline.py\"],[\"../../panel/reactive.py\",\"panel/reactive.py\"],[\"../../panel/util.py\",\"panel/util.py\"],[\"../../panel/viewable.py\",\"panel/viewable.py\"]],\"title\":\"Single file\",\"value\":\"../../__pycache__/dodo.cpython-37.pyc\"},\"id\":\"1054\",\"type\":\"Select\"},{\"attributes\":{\"margin\":[0,0,10,0],\"max_length\":5000,\"placeholder\":\"Filter selected options\",\"width_policy\":\"max\"},\"id\":\"1077\",\"type\":\"TextInput\"},{\"attributes\":{\"icon\":null,\"label\":\">>\",\"margin\":[5,10,5,10],\"min_width\":50,\"subscribed_events\":[\"button_click\"],\"width\":50},\"id\":\"1072\",\"type\":\"Button\"},{\"attributes\":{\"margin\":[0,0,0,0],\"options\":[\"../../__pycache__/dodo.cpython-37.pyc\",\"../../__pycache__/dodo.cpython-38.pyc\",\"../../__pycache__/setup.cpython-37.pyc\",\"../../__pycache__/setup.cpython-38.pyc\"],\"size\":10,\"sizing_mode\":\"stretch_both\"},\"id\":\"1078\",\"type\":\"MultiSelect\"},{\"attributes\":{\"icon\":null,\"label\":\"Record timestamp\",\"margin\":[5,10,5,10],\"subscribed_events\":[\"button_click\"]},\"id\":\"1079\",\"type\":\"Button\"},{\"attributes\":{\"icon\":null,\"label\":\"<<\",\"margin\":[5,10,5,10],\"min_width\":50,\"subscribed_events\":[\"button_click\"],\"width\":50},\"id\":\"1073\",\"type\":\"Button\"},{\"attributes\":{\"disabled\":true,\"icon\":null,\"label\":\"\\u25b6\",\"margin\":[5,10,5,10],\"min_width\":25,\"subscribed_events\":[\"button_click\"],\"width\":25},\"id\":\"1058\",\"type\":\"Button\"},{\"attributes\":{\"css_classes\":[\"markdown\"],\"margin\":[0,0,0,0],\"name\":\"Markdown00170\",\"text\":\"&lt;h3&gt;Selected files&lt;/h3&gt;\"},\"id\":\"1076\",\"type\":\"panel.models.markup.HTML\"},{\"attributes\":{\"disabled\":true,\"icon\":null,\"label\":\"\\u2b07\",\"margin\":[5,10,0,0],\"min_width\":25,\"subscribed_events\":[\"button_click\"],\"width\":25},\"id\":\"1061\",\"type\":\"Button\"},{\"attributes\":{\"disabled\":true,\"icon\":null,\"label\":\"\\u2b06\",\"margin\":[5,10,5,10],\"min_width\":25,\"subscribed_events\":[\"button_click\"],\"width\":25},\"id\":\"1059\",\"type\":\"Button\"},{\"attributes\":{\"margin\":[5,10,5,10],\"max_length\":5000,\"value\":\"/workspaces/panel/examples/user_guide\",\"width_policy\":\"max\"},\"id\":\"1060\",\"type\":\"TextInput\"},{\"attributes\":{\"children\":[{\"id\":\"1003\"},{\"id\":\"1080\"}],\"margin\":[0,0,0,0],\"name\":\"Row00205\"},\"id\":\"1002\",\"type\":\"Row\"},{\"attributes\":{\"margin\":[5,10,5,10],\"name\":\"\",\"text\":\"<b>Example</b>\"},\"id\":\"1004\",\"type\":\"Div\"},{\"attributes\":{\"disabled\":true,\"margin\":[5,10,5,10],\"title\":\"Y\",\"value\":\"'Not editable'\"},\"id\":\"1084\",\"type\":\"TextInput\"},{\"attributes\":{\"icon\":null,\"label\":\"\\u21bb\",\"margin\":[5,15,0,10],\"min_width\":25,\"subscribed_events\":[\"button_click\"],\"width\":25},\"id\":\"1062\",\"type\":\"Button\"},{\"attributes\":{\"end\":10,\"margin\":[5,10,5,10],\"start\":7.5,\"step\":0.1,\"title\":\"Float with hard bounds\",\"value\":8.2},\"id\":\"1088\",\"type\":\"Slider\"},{\"attributes\":{\"children\":[{\"id\":\"1004\"},{\"id\":\"1005\"},{\"id\":\"1006\"},{\"id\":\"1007\"},{\"id\":\"1008\"},{\"id\":\"1009\"},{\"id\":\"1010\"},{\"id\":\"1011\"},{\"id\":\"1012\"},{\"id\":\"1013\"},{\"id\":\"1014\"},{\"id\":\"1015\"},{\"id\":\"1016\"},{\"id\":\"1017\"},{\"id\":\"1018\"},{\"id\":\"1047\"},{\"id\":\"1051\"},{\"id\":\"1052\"},{\"id\":\"1053\"},{\"id\":\"1054\"},{\"id\":\"1055\"},{\"id\":\"1079\"}],\"margin\":[5,5,5,5],\"min_width\":300,\"name\":\"Example\",\"width\":300},\"id\":\"1003\",\"type\":\"Column\"},{\"attributes\":{\"end\":100000,\"margin\":[5,10,5,10],\"start\":-200,\"title\":\"Num int\",\"value\":50000},\"id\":\"1086\",\"type\":\"Slider\"},{\"attributes\":{\"client_comm_id\":\"96817b46706249fe84d50b25429fc636\",\"comm_id\":\"0c5edac49087468a94757883a4ddec29\",\"plot_id\":\"1002\"},\"id\":\"1099\",\"type\":\"panel.models.comm_manager.CommManager\"},{\"attributes\":{\"children\":[{\"id\":\"1081\"},{\"id\":\"1082\"},{\"id\":\"1083\"},{\"id\":\"1084\"},{\"id\":\"1085\"},{\"id\":\"1086\"},{\"id\":\"1087\"},{\"id\":\"1088\"},{\"id\":\"1089\"},{\"id\":\"1090\"},{\"id\":\"1091\"},{\"id\":\"1092\"}],\"margin\":[5,5,5,5],\"min_width\":300,\"name\":\"BaseClass\",\"width\":300},\"id\":\"1080\",\"type\":\"Column\"},{\"attributes\":{\"end\":2,\"margin\":[5,10,5,10],\"start\":0,\"step\":0.1,\"title\":\"Float with soft bounds\",\"value\":0.5},\"id\":\"1089\",\"type\":\"Slider\"},{\"attributes\":{\"margin\":[5,10,5,10],\"name\":\"\",\"text\":\"<b>BaseClass</b>\"},\"id\":\"1081\",\"type\":\"Div\"},{\"attributes\":{\"margin\":[5,10,5,10],\"placeholder\":\"0\",\"step\":0.1,\"title\":\"Unbounded float\",\"value\":30.01,\"value_throttled\":30.01},\"id\":\"1005\",\"type\":\"Spinner\"},{\"attributes\":{\"margin\":[5,10,5,10],\"max_length\":5000,\"title\":\"String value\",\"value\":\"str\"},\"id\":\"1085\",\"type\":\"TextInput\"},{\"attributes\":{\"children\":[{\"id\":\"1065\"},{\"id\":\"1069\"},{\"id\":\"1075\"}],\"margin\":[0,0,0,0],\"name\":\"\",\"sizing_mode\":\"stretch_both\",\"width\":600},\"id\":\"1064\",\"type\":\"Row\"},{\"attributes\":{\"margin\":[5,10,5,10],\"title\":\"X\",\"value\":\"3.14\"},\"id\":\"1083\",\"type\":\"TextInput\"},{\"attributes\":{\"children\":[{\"id\":\"1066\"},{\"id\":\"1067\"},{\"id\":\"1068\"}],\"margin\":[0,0,0,0],\"name\":\"Column00156\",\"sizing_mode\":\"stretch_both\"},\"id\":\"1065\",\"type\":\"Column\"},{\"attributes\":{\"margin\":[5,10,5,10],\"placeholder\":\"0\",\"step\":0.1,\"title\":\"Unbounded float\",\"value\":30.01,\"value_throttled\":30.01},\"id\":\"1082\",\"type\":\"Spinner\"},{\"attributes\":{\"children\":[{\"id\":\"1070\"},{\"id\":\"1071\"},{\"id\":\"1074\"}],\"margin\":[0,0,0,0],\"name\":\"Column00161\"},\"id\":\"1069\",\"type\":\"Column\"},{\"attributes\":{\"disabled\":true,\"margin\":[5,10,5,10],\"title\":\"Y\",\"value\":\"'Not editable'\"},\"id\":\"1007\",\"type\":\"TextInput\"},{\"attributes\":{\"margin\":[5,10,5,10],\"title\":\"X\",\"value\":\"3.14\"},\"id\":\"1006\",\"type\":\"TextInput\"},{\"attributes\":{\"color\":\"#ffffff\",\"margin\":[5,10,5,10],\"title\":\"Color\"},\"id\":\"1017\",\"type\":\"ColorPicker\"},{\"attributes\":{\"margin\":[5,10,5,10],\"max_length\":5000,\"title\":\"String value\",\"value\":\"str\"},\"id\":\"1008\",\"type\":\"TextInput\"},{\"attributes\":{\"end\":2,\"margin\":[5,10,5,10],\"start\":0,\"step\":0.1,\"title\":\"Float with soft bounds\",\"value\":0.5},\"id\":\"1012\",\"type\":\"Slider\"},{\"attributes\":{\"end\":10,\"margin\":[5,10,5,10],\"start\":7.5,\"step\":0.1,\"title\":\"Float with hard bounds\",\"value\":8.2},\"id\":\"1011\",\"type\":\"Slider\"},{\"attributes\":{\"end\":100000,\"margin\":[5,10,5,10],\"start\":-200,\"title\":\"Num int\",\"value\":50000},\"id\":\"1009\",\"type\":\"Slider\"},{\"attributes\":{\"margin\":[5,10,5,10],\"mode\":\"int\",\"placeholder\":\"0\",\"title\":\"Unbounded int\",\"value\":23,\"value_throttled\":23},\"id\":\"1010\",\"type\":\"Spinner\"},{\"attributes\":{\"margin\":[5,10,5,10],\"title\":\"Dictionary\",\"value\":\"{'a': 2, 'b': 9}\"},\"id\":\"1015\",\"type\":\"TextInput\"},{\"attributes\":{\"end\":10,\"margin\":[5,10,5,10],\"start\":0,\"title\":\"Integer range\",\"value\":[3,7]},\"id\":\"1013\",\"type\":\"RangeSlider\"},{\"attributes\":{\"end\":3.145,\"margin\":[5,10,5,10],\"start\":0,\"step\":0.1,\"title\":\"Float range\",\"value\":[0,1.57]},\"id\":\"1014\",\"type\":\"RangeSlider\"},{\"attributes\":{\"data\":{\"A\":{\"__ndarray__\":\"z4+ajX9l7T8WyhRrq5jav0cpqg+d694/\",\"dtype\":\"float64\",\"order\":\"little\",\"shape\":[3]},\"B\":{\"__ndarray__\":\"CYh0WntIgb/85XpC4pP2P2pWe4IG6ew/\",\"dtype\":\"float64\",\"order\":\"little\",\"shape\":[3]},\"C\":{\"__ndarray__\":\"d/9KSSZw9z/GC3b41Cz9v8HkpNDZsem/\",\"dtype\":\"float64\",\"order\":\"little\",\"shape\":[3]},\"D\":{\"__ndarray__\":\"79Pl7Z/hCsApJ+0DbfC6P22QMIFaB+c/\",\"dtype\":\"float64\",\"order\":\"little\",\"shape\":[3]},\"index\":[\"YnkUn1w8Op\",\"8NnQxT7ioa\",\"IWDo4AODp3\"]},\"selected\":{\"id\":\"1020\"},\"selection_policy\":{\"id\":\"1093\"}},\"id\":\"1019\",\"type\":\"ColumnDataSource\"},{\"attributes\":{\"active\":[0],\"labels\":[\"Boolean\"],\"margin\":[5,10,5,10]},\"id\":\"1016\",\"type\":\"CheckboxGroup\"},{\"attributes\":{\"columns\":[{\"id\":\"1024\"},{\"id\":\"1029\"},{\"id\":\"1034\"},{\"id\":\"1039\"},{\"id\":\"1044\"}],\"editable\":true,\"height\":150,\"index_position\":null,\"margin\":[5,10,5,10],\"name\":\"Dataframe\",\"row_height\":40,\"source\":{\"id\":\"1019\"},\"view\":{\"id\":\"1049\"}},\"id\":\"1047\",\"type\":\"DataTable\"},{\"attributes\":{\"margin\":[5,10,5,10],\"title\":\"Date\",\"value\":\"2017-01-01 00:00:00\"},\"id\":\"1018\",\"type\":\"TextInput\"},{\"attributes\":{\"end\":3.145,\"margin\":[5,10,5,10],\"start\":0,\"step\":0.1,\"title\":\"Float range\",\"value\":[0,1.57]},\"id\":\"1091\",\"type\":\"RangeSlider\"},{\"attributes\":{\"margin\":[5,10,5,10],\"title\":\"Dictionary\",\"value\":\"{'a': 2, 'b': 9}\"},\"id\":\"1092\",\"type\":\"TextInput\"},{\"attributes\":{\"indices\":[]},\"id\":\"1020\",\"type\":\"Selection\"},{\"attributes\":{\"end\":10,\"margin\":[5,10,5,10],\"start\":0,\"title\":\"Integer range\",\"value\":[3,7]},\"id\":\"1090\",\"type\":\"RangeSlider\"},{\"attributes\":{\"source\":{\"id\":\"1019\"}},\"id\":\"1049\",\"type\":\"CDSView\"},{\"attributes\":{\"margin\":[5,10,5,10],\"mode\":\"int\",\"placeholder\":\"0\",\"title\":\"Unbounded int\",\"value\":23,\"value_throttled\":23},\"id\":\"1087\",\"type\":\"Spinner\"},{\"attributes\":{},\"id\":\"1023\",\"type\":\"CellEditor\"},{\"attributes\":{\"editor\":{\"id\":\"1023\"},\"field\":\"index\",\"formatter\":{\"id\":\"1021\"},\"title\":\"index\",\"width\":0},\"id\":\"1024\",\"type\":\"TableColumn\"},{\"attributes\":{\"children\":[{\"id\":\"1056\"},{\"id\":\"1063\"},{\"id\":\"1064\"}],\"margin\":[5,10,20,10],\"name\":\"Multiple files\",\"sizing_mode\":\"stretch_width\"},\"id\":\"1055\",\"type\":\"Column\"},{\"attributes\":{},\"id\":\"1021\",\"type\":\"StringFormatter\"},{\"attributes\":{\"format\":\"0,0.0[00000]\"},\"id\":\"1027\",\"type\":\"NumberFormatter\"}],\"root_ids\":[\"1002\",\"1099\",\"1106\"]},\"title\":\"Bokeh Application\",\"version\":\"2.3.1\"}};\n",
       "    var render_items = [{\"docid\":\"d93e31f7-d8df-4753-ac19-df8926d9e933\",\"root_ids\":[\"1002\"],\"roots\":{\"1002\":\"1686ee81-7dde-4db0-9917-7725bb71a792\"}}];\n",
       "    root.Bokeh.embed.embed_items_notebook(docs_json, render_items);\n",
       "  }\n",
       "  if (root.Bokeh !== undefined && root.Bokeh.Panel !== undefined) {\n",
       "    embed_document(root);\n",
       "  } else {\n",
       "    var attempts = 0;\n",
       "    var timer = setInterval(function(root) {\n",
       "      if (root.Bokeh !== undefined && root.Bokeh.Panel !== undefined) {\n",
       "        clearInterval(timer);\n",
       "        embed_document(root);\n",
       "      } else if (document.readyState == \"complete\") {\n",
       "        attempts++;\n",
       "        if (attempts > 100) {\n",
       "          clearInterval(timer);\n",
       "          console.log(\"Bokeh: ERROR: Unable to run BokehJS code because BokehJS library is missing\");\n",
       "        }\n",
       "      }\n",
       "    }, 10, root)\n",
       "  }\n",
       "})(window);</script>"
      ],
      "text/plain": [
       "Row\n",
       "    [0] Column(margin=5, name='Example', width=300)\n",
       "        [0] StaticText(value='<b>Example</b>')\n",
       "        [1] FloatInput(name='Unbounded float', value=30.01)\n",
       "        [2] LiteralInput(name='X', value=3.14)\n",
       "        [3] LiteralInput(disabled=True, name='Y', value='Not editable')\n",
       "        [4] TextInput(name='String value', value='str')\n",
       "        [5] IntSlider(end=100000, name='Num int', start=-200, value=50000)\n",
       "        [6] IntInput(name='Unbounded int', value=23)\n",
       "        [7] FloatSlider(end=10, name='Float with hard bounds', start=7.5, value=8.2)\n",
       "        [8] FloatSlider(end=2, name='Float with soft bounds', value=0.5)\n",
       "        [9] RangeSlider(end=10, name='Integer range', step=1, value=(3, 7))\n",
       "        [10] RangeSlider(end=3.145, name='Float range', value=(0, 1.57))\n",
       "        [11] DictInput(name='Dictionary', type=<class 'dict'>, value={'a': 2, 'b': 9})\n",
       "        [12] Checkbox(name='Boolean', value=True)\n",
       "        [13] ColorPicker(name='Color', value='#FFFFFF')\n",
       "        [14] DatetimeInput(end=datetime.datetime(2017, ..., name='Date', start=datetime.datetime(2017, ..., type=<class 'datetime.datetime'..., value=datetime.datetime(2017, ...)\n",
       "        [15] DataFrame(name='Dataframe', value=              ...)\n",
       "        [16] Select(options=OrderedDict([('red', ...]), value='yellow')\n",
       "        [17] Select(options=OrderedDict([('list', ...]), value=<class 'list'>)\n",
       "        [18] MultiSelect(name='Int list', options=OrderedDict([('1', ...]), value=[3, 5])\n",
       "        [19] Select(name='Single file', options=OrderedDict([('__pycache__...]), value='../../__pycache__/dodo.cp...)\n",
       "        [20] FileSelector(name='Multiple files', value=['../../__pycache__/dodo.c...])\n",
       "        [21] Button(name='Record timestamp')\n",
       "    [1] Column(margin=5, name='BaseClass', width=300)\n",
       "        [0] StaticText(value='<b>BaseClass</b>')\n",
       "        [1] FloatInput(name='Unbounded float', value=30.01)\n",
       "        [2] LiteralInput(name='X', value=3.14)\n",
       "        [3] LiteralInput(disabled=True, name='Y', value='Not editable')\n",
       "        [4] TextInput(name='String value', value='str')\n",
       "        [5] IntSlider(end=100000, name='Num int', start=-200, value=50000)\n",
       "        [6] IntInput(name='Unbounded int', value=23)\n",
       "        [7] FloatSlider(end=10, name='Float with hard bounds', start=7.5, value=8.2)\n",
       "        [8] FloatSlider(end=2, name='Float with soft bounds', value=0.5)\n",
       "        [9] RangeSlider(end=10, name='Integer range', step=1, value=(3, 7))\n",
       "        [10] RangeSlider(end=3.145, name='Float range', value=(0, 1.57))\n",
       "        [11] DictInput(name='Dictionary', type=<class 'dict'>, value={'a': 2, 'b': 9})"
      ]
     },
     "execution_count": 2,
     "metadata": {
      "application/vnd.holoviews_exec.v0+json": {
       "id": "1002"
      }
     },
     "output_type": "execute_result"
    }
   ],
   "source": [
    "import panel as pn\n",
    "\n",
    "pn.extension()\n",
    "\n",
    "base = BaseClass()\n",
    "pn.Row(Example.param, base.param)"
   ]
  },
  {
   "cell_type": "markdown",
   "metadata": {},
   "source": [
    "As you can see, Panel does not need to be provided with any knowledge of your domain-specific application, not even the names of your parameters; it simply displays widgets for whatever Parameters may have been defined on that object.  Using Param with Panel thus achieves a nearly complete separation between your domain-specific code and your display code, making it vastly easier to maintain both of them over time.  Here even the `msg` button behavior was specified declaratively, as an action that can be invoked (printing \"Hello\") independently of whether it is used in a GUI or other context.\n",
    "\n",
    "Interacting with the widgets above is only supported in the notebook and on Bokeh server, but you can also export static renderings of the widgets to a file or web page.  \n",
    "\n",
    "By default, editing values in this way requires you to run the notebook cell by cell -- when you get to the above cell, edit the values as you like, and then move on to execute subsequent cells, where any reference to those parameter values will use your interactively selected setting:"
   ]
  },
  {
   "cell_type": "code",
   "execution_count": 3,
   "metadata": {},
   "outputs": [
    {
     "data": {
      "text/plain": [
       "23"
      ]
     },
     "execution_count": 3,
     "metadata": {},
     "output_type": "execute_result"
    }
   ],
   "source": [
    "Example.unbounded_int"
   ]
  },
  {
   "cell_type": "code",
   "execution_count": 4,
   "metadata": {},
   "outputs": [
    {
     "data": {
      "text/plain": [
       "50000"
      ]
     },
     "execution_count": 4,
     "metadata": {},
     "output_type": "execute_result"
    }
   ],
   "source": [
    "Example.num_int"
   ]
  },
  {
   "cell_type": "markdown",
   "metadata": {},
   "source": [
    "The reverse is possible; editing a parameter from Python will automatically update any widgets that were generated from the parameter:"
   ]
  },
  {
   "cell_type": "code",
   "execution_count": 5,
   "metadata": {},
   "outputs": [],
   "source": [
    "Example.int_list = [1, 7]"
   ]
  },
  {
   "cell_type": "markdown",
   "metadata": {},
   "source": [
    "Example.timestamps records the times you pressed the \"record timestamp\" button."
   ]
  },
  {
   "cell_type": "code",
   "execution_count": 6,
   "metadata": {},
   "outputs": [
    {
     "data": {
      "text/plain": [
       "[]"
      ]
     },
     "execution_count": 6,
     "metadata": {},
     "output_type": "execute_result"
    }
   ],
   "source": [
    "Example.timestamps"
   ]
  },
  {
   "cell_type": "markdown",
   "metadata": {},
   "source": [
    "Passing the ``.param`` object renders the full set of widgets, while passing a single parameter will display just one widget. In this way we can easily declare exactly which parameters to display:"
   ]
  },
  {
   "cell_type": "code",
   "execution_count": 7,
   "metadata": {},
   "outputs": [
    {
     "data": {},
     "metadata": {},
     "output_type": "display_data"
    },
    {
     "data": {
      "application/vnd.holoviews_exec.v0+json": "",
      "text/html": [
       "<div id='1114'>\n",
       "\n",
       "\n",
       "\n",
       "\n",
       "\n",
       "  <div class=\"bk-root\" id=\"d8742194-bd33-4a1b-ada9-2a756082a941\" data-root-id=\"1114\"></div>\n",
       "</div>\n",
       "<script type=\"application/javascript\">(function(root) {\n",
       "  function embed_document(root) {\n",
       "    var docs_json = {\"21a89988-e1d4-4043-825c-990e767d24be\":{\"defs\":[],\"roots\":{\"references\":[{\"attributes\":{\"end\":100000,\"margin\":[5,10,5,10],\"start\":-200,\"title\":\"Num int\",\"value\":50000},\"id\":\"1116\",\"type\":\"Slider\"},{\"attributes\":{\"children\":[{\"id\":\"1115\"},{\"id\":\"1116\"}],\"margin\":[0,0,0,0],\"name\":\"Row00219\"},\"id\":\"1114\",\"type\":\"Row\"},{\"attributes\":{\"end\":3.145,\"margin\":[5,10,5,10],\"start\":0,\"step\":0.1,\"title\":\"Float range\",\"value\":[0,1.57]},\"id\":\"1115\",\"type\":\"RangeSlider\"},{\"attributes\":{\"client_comm_id\":\"32b9ebc66fe84a6a85e5b96effc99488\",\"comm_id\":\"69d5276411224e27bab42a6ab47ca849\",\"plot_id\":\"1114\"},\"id\":\"1117\",\"type\":\"panel.models.comm_manager.CommManager\"}],\"root_ids\":[\"1114\",\"1117\"]},\"title\":\"Bokeh Application\",\"version\":\"2.3.1\"}};\n",
       "    var render_items = [{\"docid\":\"21a89988-e1d4-4043-825c-990e767d24be\",\"root_ids\":[\"1114\"],\"roots\":{\"1114\":\"d8742194-bd33-4a1b-ada9-2a756082a941\"}}];\n",
       "    root.Bokeh.embed.embed_items_notebook(docs_json, render_items);\n",
       "  }\n",
       "  if (root.Bokeh !== undefined && root.Bokeh.Panel !== undefined) {\n",
       "    embed_document(root);\n",
       "  } else {\n",
       "    var attempts = 0;\n",
       "    var timer = setInterval(function(root) {\n",
       "      if (root.Bokeh !== undefined && root.Bokeh.Panel !== undefined) {\n",
       "        clearInterval(timer);\n",
       "        embed_document(root);\n",
       "      } else if (document.readyState == \"complete\") {\n",
       "        attempts++;\n",
       "        if (attempts > 100) {\n",
       "          clearInterval(timer);\n",
       "          console.log(\"Bokeh: ERROR: Unable to run BokehJS code because BokehJS library is missing\");\n",
       "        }\n",
       "      }\n",
       "    }, 10, root)\n",
       "  }\n",
       "})(window);</script>"
      ],
      "text/plain": [
       "Row\n",
       "    [0] RangeSlider(end=3.145, name='Float range', value=(0, 1.57))\n",
       "    [1] IntSlider(end=100000, name='Num int', start=-200, value=50000)"
      ]
     },
     "execution_count": 7,
     "metadata": {
      "application/vnd.holoviews_exec.v0+json": {
       "id": "1114"
      }
     },
     "output_type": "execute_result"
    }
   ],
   "source": [
    "pn.Row(Example.param.float_range, Example.param.num_int)"
   ]
  },
  {
   "cell_type": "markdown",
   "metadata": {},
   "source": [
    "As you can see, you can access the parameter values at the class level from within the notebook to control behavior explicitly, e.g. to select what to show in subsequent cells.  Moreover, any instances of the Parameterized classes in your own code will now use the new parameter values unless specifically overridden in that instance, so you can now import and use your domain-specific library however you like, knowing that it will use your interactive selections wherever those classes appear.  None of the domain-specific code needs to know or care that you used Panel; it will simply see new values for whatever attributes were changed interactively.  Panel thus allows you to provide notebook-specific, domain-specific interactive functionality without ever tying your domain-specific code to the notebook environment. This default behavior can also be modified if you wish, as outlined below."
   ]
  },
  {
   "cell_type": "markdown",
   "metadata": {},
   "source": [
    "## Custom widgets\n",
    "\n",
    "In the previous section we saw how parameters can automatically be turned into widgets. This is possible because internally Panel maintains a mapping between parameter types and widget types. However, sometimes the default widget does not provide the most convenient UI and we want to provide an explicit hint to Panel to tell it how to render a parameter. This is possible using the ``widgets`` argument to the `Param` pane. Using the ``widgets`` keyword we can declare a mapping between the parameter name and the type of widget that is desired (as long as the widget type supports the types of values held by the parameter type).\n",
    "\n",
    "As an example, we can map a string and a number Selector to a RadioButtonGroup and DiscretePlayer respectively."
   ]
  },
  {
   "cell_type": "code",
   "execution_count": 8,
   "metadata": {},
   "outputs": [
    {
     "data": {},
     "metadata": {},
     "output_type": "display_data"
    },
    {
     "data": {
      "application/vnd.holoviews_exec.v0+json": "",
      "text/html": [
       "<div id='1118'>\n",
       "\n",
       "\n",
       "\n",
       "\n",
       "\n",
       "  <div class=\"bk-root\" id=\"e74c55e0-a148-4854-a405-6ea579e8a88b\" data-root-id=\"1118\"></div>\n",
       "</div>\n",
       "<script type=\"application/javascript\">(function(root) {\n",
       "  function embed_document(root) {\n",
       "    var docs_json = {\"85ba7a37-2aa9-4fbb-b626-cd15969e879b\":{\"defs\":[],\"roots\":{\"references\":[{\"attributes\":{\"active\":0,\"labels\":[\"red\",\"yellow\",\"green\"],\"margin\":[5,10,5,10]},\"id\":\"1120\",\"type\":\"RadioButtonGroup\"},{\"attributes\":{\"margin\":[5,10,5,10],\"name\":\"\",\"text\":\"<b>CustomExample</b>\"},\"id\":\"1119\",\"type\":\"Div\"},{\"attributes\":{\"client_comm_id\":\"d31cd153b7af4ca1b4a66a1ef35f2370\",\"comm_id\":\"f1e75d0625e044cabdcf7dc85bbb7186\",\"plot_id\":\"1118\"},\"id\":\"1122\",\"type\":\"panel.models.comm_manager.CommManager\"},{\"attributes\":{\"children\":[{\"id\":\"1119\"},{\"id\":\"1120\"},{\"id\":\"1121\"}],\"margin\":[5,5,5,5],\"min_width\":300,\"name\":\"CustomExample\",\"width\":300},\"id\":\"1118\",\"type\":\"Column\"},{\"attributes\":{\"end\":3,\"height\":80,\"margin\":[5,10,5,10],\"min_height\":80,\"min_width\":510,\"width\":510},\"id\":\"1121\",\"type\":\"panel.models.widgets.Player\"}],\"root_ids\":[\"1118\",\"1122\"]},\"title\":\"Bokeh Application\",\"version\":\"2.3.1\"}};\n",
       "    var render_items = [{\"docid\":\"85ba7a37-2aa9-4fbb-b626-cd15969e879b\",\"root_ids\":[\"1118\"],\"roots\":{\"1118\":\"e74c55e0-a148-4854-a405-6ea579e8a88b\"}}];\n",
       "    root.Bokeh.embed.embed_items_notebook(docs_json, render_items);\n",
       "  }\n",
       "  if (root.Bokeh !== undefined && root.Bokeh.Panel !== undefined) {\n",
       "    embed_document(root);\n",
       "  } else {\n",
       "    var attempts = 0;\n",
       "    var timer = setInterval(function(root) {\n",
       "      if (root.Bokeh !== undefined && root.Bokeh.Panel !== undefined) {\n",
       "        clearInterval(timer);\n",
       "        embed_document(root);\n",
       "      } else if (document.readyState == \"complete\") {\n",
       "        attempts++;\n",
       "        if (attempts > 100) {\n",
       "          clearInterval(timer);\n",
       "          console.log(\"Bokeh: ERROR: Unable to run BokehJS code because BokehJS library is missing\");\n",
       "        }\n",
       "      }\n",
       "    }, 10, root)\n",
       "  }\n",
       "})(window);</script>"
      ],
      "text/plain": [
       "Param(ParameterizedMetaclass, name='CustomExample', widgets={'select_string': <class '...})"
      ]
     },
     "execution_count": 8,
     "metadata": {
      "application/vnd.holoviews_exec.v0+json": {
       "id": "1118"
      }
     },
     "output_type": "execute_result"
    }
   ],
   "source": [
    "class CustomExample(param.Parameterized):\n",
    "    \"\"\"An example Parameterized class\"\"\"\n",
    "\n",
    "    select_string = param.Selector(objects=[\"red\", \"yellow\", \"green\"])\n",
    "    select_number = param.Selector(objects=[0, 1, 10, 100])\n",
    "\n",
    "\n",
    "pn.Param(CustomExample.param, widgets={\n",
    "    'select_string': pn.widgets.RadioButtonGroup,\n",
    "    'select_number': pn.widgets.DiscretePlayer}\n",
    ")"
   ]
  },
  {
   "cell_type": "markdown",
   "metadata": {},
   "source": [
    "Also, it's possible to pass arguments to the widget in order to customize it. Instead of passing the widget, pass a dictionary with the desired options. Use the ``widget_type`` keyword to map the widget. \n",
    "\n",
    "Taking up the previous example."
   ]
  },
  {
   "cell_type": "code",
   "execution_count": 9,
   "metadata": {},
   "outputs": [
    {
     "data": {},
     "metadata": {},
     "output_type": "display_data"
    },
    {
     "data": {
      "application/vnd.holoviews_exec.v0+json": "",
      "text/html": [
       "<div id='1123'>\n",
       "\n",
       "\n",
       "\n",
       "\n",
       "\n",
       "  <div class=\"bk-root\" id=\"4f6c89ba-8e87-426f-976a-444eb04d0207\" data-root-id=\"1123\"></div>\n",
       "</div>\n",
       "<script type=\"application/javascript\">(function(root) {\n",
       "  function embed_document(root) {\n",
       "    var docs_json = {\"ff33d40c-393a-4d3b-8d4a-7378ac04a570\":{\"defs\":[],\"roots\":{\"references\":[{\"attributes\":{\"end\":3,\"height\":80,\"margin\":[5,10,5,10],\"min_height\":80,\"min_width\":510,\"width\":510},\"id\":\"1126\",\"type\":\"panel.models.widgets.Player\"},{\"attributes\":{\"margin\":[5,10,5,10],\"name\":\"\",\"text\":\"<b>CustomExample</b>\"},\"id\":\"1124\",\"type\":\"Div\"},{\"attributes\":{\"active\":0,\"button_type\":\"success\",\"labels\":[\"red\",\"yellow\",\"green\"],\"margin\":[5,10,5,10]},\"id\":\"1125\",\"type\":\"RadioButtonGroup\"},{\"attributes\":{\"client_comm_id\":\"e47aa84ef943413babb5e064d13cde9a\",\"comm_id\":\"7063622f4bd9417c89a53d2cc22e0c30\",\"plot_id\":\"1123\"},\"id\":\"1127\",\"type\":\"panel.models.comm_manager.CommManager\"},{\"attributes\":{\"children\":[{\"id\":\"1124\"},{\"id\":\"1125\"},{\"id\":\"1126\"}],\"margin\":[5,5,5,5],\"min_width\":300,\"name\":\"CustomExample\",\"width\":300},\"id\":\"1123\",\"type\":\"Column\"}],\"root_ids\":[\"1123\",\"1127\"]},\"title\":\"Bokeh Application\",\"version\":\"2.3.1\"}};\n",
       "    var render_items = [{\"docid\":\"ff33d40c-393a-4d3b-8d4a-7378ac04a570\",\"root_ids\":[\"1123\"],\"roots\":{\"1123\":\"4f6c89ba-8e87-426f-976a-444eb04d0207\"}}];\n",
       "    root.Bokeh.embed.embed_items_notebook(docs_json, render_items);\n",
       "  }\n",
       "  if (root.Bokeh !== undefined && root.Bokeh.Panel !== undefined) {\n",
       "    embed_document(root);\n",
       "  } else {\n",
       "    var attempts = 0;\n",
       "    var timer = setInterval(function(root) {\n",
       "      if (root.Bokeh !== undefined && root.Bokeh.Panel !== undefined) {\n",
       "        clearInterval(timer);\n",
       "        embed_document(root);\n",
       "      } else if (document.readyState == \"complete\") {\n",
       "        attempts++;\n",
       "        if (attempts > 100) {\n",
       "          clearInterval(timer);\n",
       "          console.log(\"Bokeh: ERROR: Unable to run BokehJS code because BokehJS library is missing\");\n",
       "        }\n",
       "      }\n",
       "    }, 10, root)\n",
       "  }\n",
       "})(window);</script>"
      ],
      "text/plain": [
       "Param(ParameterizedMetaclass, name='CustomExample', widgets={'select_string': {'widget...})"
      ]
     },
     "execution_count": 9,
     "metadata": {
      "application/vnd.holoviews_exec.v0+json": {
       "id": "1123"
      }
     },
     "output_type": "execute_result"
    }
   ],
   "source": [
    "pn.Param(CustomExample.param, widgets={\n",
    "    'select_string': {'widget_type': pn.widgets.RadioButtonGroup, 'button_type': 'success'},\n",
    "    'select_number': pn.widgets.DiscretePlayer}\n",
    ")"
   ]
  },
  {
   "cell_type": "markdown",
   "metadata": {},
   "source": [
    "However it is also possible to explicitly construct a widget from a parameter using the `.from_param` method, which makes it easy to override widget settings using keyword arguments:"
   ]
  },
  {
   "cell_type": "code",
   "execution_count": 10,
   "metadata": {},
   "outputs": [
    {
     "data": {},
     "metadata": {},
     "output_type": "display_data"
    },
    {
     "data": {
      "application/vnd.holoviews_exec.v0+json": "",
      "text/html": [
       "<div id='1128'>\n",
       "\n",
       "\n",
       "\n",
       "\n",
       "\n",
       "  <div class=\"bk-root\" id=\"ab95322b-8df1-461b-b638-d464994226ef\" data-root-id=\"1128\"></div>\n",
       "</div>\n",
       "<script type=\"application/javascript\">(function(root) {\n",
       "  function embed_document(root) {\n",
       "    var docs_json = {\"5c0f8260-3127-47cb-b324-cfca38a0577b\":{\"defs\":[],\"roots\":{\"references\":[{\"attributes\":{\"end\":100,\"margin\":[5,10,5,10],\"start\":0,\"title\":\"Unbounded int\",\"value\":23},\"id\":\"1128\",\"type\":\"Slider\"},{\"attributes\":{\"client_comm_id\":\"7fb3fc36a2834b85a50d575b1ab15437\",\"comm_id\":\"847cdab848cb493dac3e0c5f42b95195\",\"plot_id\":\"1128\"},\"id\":\"1129\",\"type\":\"panel.models.comm_manager.CommManager\"}],\"root_ids\":[\"1128\",\"1129\"]},\"title\":\"Bokeh Application\",\"version\":\"2.3.1\"}};\n",
       "    var render_items = [{\"docid\":\"5c0f8260-3127-47cb-b324-cfca38a0577b\",\"root_ids\":[\"1128\"],\"roots\":{\"1128\":\"ab95322b-8df1-461b-b638-d464994226ef\"}}];\n",
       "    root.Bokeh.embed.embed_items_notebook(docs_json, render_items);\n",
       "  }\n",
       "  if (root.Bokeh !== undefined && root.Bokeh.Panel !== undefined) {\n",
       "    embed_document(root);\n",
       "  } else {\n",
       "    var attempts = 0;\n",
       "    var timer = setInterval(function(root) {\n",
       "      if (root.Bokeh !== undefined && root.Bokeh.Panel !== undefined) {\n",
       "        clearInterval(timer);\n",
       "        embed_document(root);\n",
       "      } else if (document.readyState == \"complete\") {\n",
       "        attempts++;\n",
       "        if (attempts > 100) {\n",
       "          clearInterval(timer);\n",
       "          console.log(\"Bokeh: ERROR: Unable to run BokehJS code because BokehJS library is missing\");\n",
       "        }\n",
       "      }\n",
       "    }, 10, root)\n",
       "  }\n",
       "})(window);</script>"
      ],
      "text/plain": [
       "IntSlider(end=100, name='Unbounded int', value=23)"
      ]
     },
     "execution_count": 10,
     "metadata": {
      "application/vnd.holoviews_exec.v0+json": {
       "id": "1128"
      }
     },
     "output_type": "execute_result"
    }
   ],
   "source": [
    "pn.widgets.IntSlider.from_param(Example.param.unbounded_int, start=0, end=100)"
   ]
  },
  {
   "cell_type": "markdown",
   "metadata": {},
   "source": [
    "## Custom name\n",
    "\n",
    "By default, a param Pane has a title that is derived from the class name of its `Parameterized` object. Using the ``name`` keyword we can set any title to the pane, e.g. to improve the user interface."
   ]
  },
  {
   "cell_type": "code",
   "execution_count": 11,
   "metadata": {},
   "outputs": [
    {
     "data": {},
     "metadata": {},
     "output_type": "display_data"
    },
    {
     "data": {
      "application/vnd.holoviews_exec.v0+json": "",
      "text/html": [
       "<div id='1130'>\n",
       "\n",
       "\n",
       "\n",
       "\n",
       "\n",
       "  <div class=\"bk-root\" id=\"224b0bcf-afff-471f-a182-20e25229697b\" data-root-id=\"1130\"></div>\n",
       "</div>\n",
       "<script type=\"application/javascript\">(function(root) {\n",
       "  function embed_document(root) {\n",
       "    var docs_json = {\"782f4a51-cf9f-4dbf-868e-2d1f115a97d4\":{\"defs\":[],\"roots\":{\"references\":[{\"attributes\":{\"margin\":[5,10,5,10],\"options\":[[\"red\",\"red\"],[\"yellow\",\"yellow\"],[\"green\",\"green\"]],\"title\":\"Select string\",\"value\":\"red\"},\"id\":\"1132\",\"type\":\"Select\"},{\"attributes\":{\"client_comm_id\":\"a291895eff994e1bbdca934104cb5dad\",\"comm_id\":\"dbc9325c58054ca993a94afb3bdc5cda\",\"plot_id\":\"1130\"},\"id\":\"1134\",\"type\":\"panel.models.comm_manager.CommManager\"},{\"attributes\":{\"margin\":[5,10,5,10],\"name\":\"\",\"text\":\"<b>Custom Name</b>\"},\"id\":\"1131\",\"type\":\"Div\"},{\"attributes\":{\"children\":[{\"id\":\"1131\"},{\"id\":\"1132\"},{\"id\":\"1133\"}],\"margin\":[5,5,5,5],\"min_width\":300,\"name\":\"Custom Name\",\"width\":300},\"id\":\"1130\",\"type\":\"Column\"},{\"attributes\":{\"margin\":[5,10,5,10],\"options\":[[\"0\",\"0\"],[\"1\",\"1\"],[\"10\",\"10\"],[\"100\",\"100\"]],\"title\":\"Select number\",\"value\":\"0\"},\"id\":\"1133\",\"type\":\"Select\"}],\"root_ids\":[\"1130\",\"1134\"]},\"title\":\"Bokeh Application\",\"version\":\"2.3.1\"}};\n",
       "    var render_items = [{\"docid\":\"782f4a51-cf9f-4dbf-868e-2d1f115a97d4\",\"root_ids\":[\"1130\"],\"roots\":{\"1130\":\"224b0bcf-afff-471f-a182-20e25229697b\"}}];\n",
       "    root.Bokeh.embed.embed_items_notebook(docs_json, render_items);\n",
       "  }\n",
       "  if (root.Bokeh !== undefined && root.Bokeh.Panel !== undefined) {\n",
       "    embed_document(root);\n",
       "  } else {\n",
       "    var attempts = 0;\n",
       "    var timer = setInterval(function(root) {\n",
       "      if (root.Bokeh !== undefined && root.Bokeh.Panel !== undefined) {\n",
       "        clearInterval(timer);\n",
       "        embed_document(root);\n",
       "      } else if (document.readyState == \"complete\") {\n",
       "        attempts++;\n",
       "        if (attempts > 100) {\n",
       "          clearInterval(timer);\n",
       "          console.log(\"Bokeh: ERROR: Unable to run BokehJS code because BokehJS library is missing\");\n",
       "        }\n",
       "      }\n",
       "    }, 10, root)\n",
       "  }\n",
       "})(window);</script>"
      ],
      "text/plain": [
       "Param(ParameterizedMetaclass, name='Custom Name')"
      ]
     },
     "execution_count": 11,
     "metadata": {
      "application/vnd.holoviews_exec.v0+json": {
       "id": "1130"
      }
     },
     "output_type": "execute_result"
    }
   ],
   "source": [
    "pn.Param(CustomExample.param, name=\"Custom Name\")"
   ]
  },
  {
   "cell_type": "markdown",
   "metadata": {},
   "source": [
    "## Parameter dependencies\n",
    "\n",
    "Declaring parameters is usually only the beginning of a workflow. In most applications these parameters are then tied to some computation. To express the relationship between a computation and the parameters it depends on, the ``param.depends`` decorator may be used on Parameterized methods. This decorator provides a hint to Panel and other Param-based libraries (e.g. HoloViews) that the method should be re-evaluated when a parameter changes.\n",
    "\n",
    "As a straightforward example without any additional dependencies we will write a small class that returns an ASCII representation of a sine wave, which depends on `phase` and `frequency` parameters. If we supply the ``.view`` method to a panel, it will automatically recompute and update the view when one or more of the parameters changes:"
   ]
  },
  {
   "cell_type": "code",
   "execution_count": 12,
   "metadata": {},
   "outputs": [
    {
     "data": {},
     "metadata": {},
     "output_type": "display_data"
    },
    {
     "data": {
      "application/vnd.holoviews_exec.v0+json": "",
      "text/html": [
       "<div id='1135'>\n",
       "\n",
       "\n",
       "\n",
       "\n",
       "\n",
       "  <div class=\"bk-root\" id=\"54096680-feca-4e85-bfac-dbce59c62da2\" data-root-id=\"1135\"></div>\n",
       "</div>\n",
       "<script type=\"application/javascript\">(function(root) {\n",
       "  function embed_document(root) {\n",
       "    var docs_json = {\"dae7e9c6-77ba-4bd9-b413-494b83088b8a\":{\"defs\":[],\"roots\":{\"references\":[{\"attributes\":{\"end\":2,\"margin\":[5,10,5,10],\"start\":0.1,\"step\":0.1,\"title\":\"Frequency\",\"value\":1},\"id\":\"1139\",\"type\":\"Slider\"},{\"attributes\":{\"children\":[{\"id\":\"1136\"},{\"id\":\"1140\"}],\"margin\":[0,0,0,0],\"name\":\"Row00275\"},\"id\":\"1135\",\"type\":\"Row\"},{\"attributes\":{\"end\":3.141592653589793,\"margin\":[5,10,5,10],\"start\":0,\"step\":0.1,\"title\":\"Phase\",\"value\":0},\"id\":\"1138\",\"type\":\"Slider\"},{\"attributes\":{\"children\":[{\"id\":\"1141\"}],\"margin\":[0,0,0,0],\"name\":\"Row00272\"},\"id\":\"1140\",\"type\":\"Row\"},{\"attributes\":{\"margin\":[5,10,5,10],\"name\":\"\",\"text\":\"<b>ASCII Sine Wave</b>\"},\"id\":\"1137\",\"type\":\"Div\"},{\"attributes\":{\"client_comm_id\":\"72146140f3094453ba1d2c8278ce638d\",\"comm_id\":\"61606f43e02f470d90c11e754f0ad37a\",\"plot_id\":\"1135\"},\"id\":\"1142\",\"type\":\"panel.models.comm_manager.CommManager\"},{\"attributes\":{\"children\":[{\"id\":\"1137\"},{\"id\":\"1138\"},{\"id\":\"1139\"}],\"margin\":[5,5,5,5],\"min_width\":300,\"name\":\"ASCII Sine Wave\",\"width\":300},\"id\":\"1136\",\"type\":\"Column\"},{\"attributes\":{\"height\":380,\"margin\":[5,5,5,5],\"name\":\"Str00270\",\"sizing_mode\":\"fixed\",\"text\":\"&lt;pre&gt;                  ****                  \\n                 *    *                 \\n                *      *                \\n                                        \\n               *        *               \\n                                        \\n                                        \\n              *          *              \\n                                        \\n*            *            *            *\\n                                        \\n *          *              *          * \\n                                        \\n                                        \\n  *        *                *        *  \\n                                        \\n   *      *                  *      *   \\n    *    *                    *    *    \\n     *  *                      *  *     \\n      **                        **      &lt;/pre&gt;\",\"width\":500},\"id\":\"1141\",\"type\":\"panel.models.markup.HTML\"}],\"root_ids\":[\"1135\",\"1142\"]},\"title\":\"Bokeh Application\",\"version\":\"2.3.1\"}};\n",
       "    var render_items = [{\"docid\":\"dae7e9c6-77ba-4bd9-b413-494b83088b8a\",\"root_ids\":[\"1135\"],\"roots\":{\"1135\":\"54096680-feca-4e85-bfac-dbce59c62da2\"}}];\n",
       "    root.Bokeh.embed.embed_items_notebook(docs_json, render_items);\n",
       "  }\n",
       "  if (root.Bokeh !== undefined && root.Bokeh.Panel !== undefined) {\n",
       "    embed_document(root);\n",
       "  } else {\n",
       "    var attempts = 0;\n",
       "    var timer = setInterval(function(root) {\n",
       "      if (root.Bokeh !== undefined && root.Bokeh.Panel !== undefined) {\n",
       "        clearInterval(timer);\n",
       "        embed_document(root);\n",
       "      } else if (document.readyState == \"complete\") {\n",
       "        attempts++;\n",
       "        if (attempts > 100) {\n",
       "          clearInterval(timer);\n",
       "          console.log(\"Bokeh: ERROR: Unable to run BokehJS code because BokehJS library is missing\");\n",
       "        }\n",
       "      }\n",
       "    }, 10, root)\n",
       "  }\n",
       "})(window);</script>"
      ],
      "text/plain": [
       "Row\n",
       "    [0] Column(margin=5, name='ASCII Sine Wave', width=300)\n",
       "        [0] StaticText(value='<b>ASCII Sine Wave</b>')\n",
       "        [1] FloatSlider(end=3.141592653589793, name='Phase')\n",
       "        [2] FloatSlider(end=2, name='Frequency', start=0.1, value=1)\n",
       "    [1] ParamMethod(method)"
      ]
     },
     "execution_count": 12,
     "metadata": {
      "application/vnd.holoviews_exec.v0+json": {
       "id": "1135"
      }
     },
     "output_type": "execute_result"
    }
   ],
   "source": [
    "import numpy as np\n",
    "\n",
    "\n",
    "class Sine(param.Parameterized):\n",
    "\n",
    "    phase = param.Number(default=0, bounds=(0, np.pi))\n",
    "\n",
    "    frequency = param.Number(default=1, bounds=(0.1, 2))\n",
    "\n",
    "    @param.depends('phase', 'frequency')\n",
    "    def view(self):\n",
    "        y = np.sin(np.linspace(0, np.pi * 3, 40) * self.frequency + self.phase)\n",
    "        y = ((y - y.min()) / y.ptp()) * 20\n",
    "        array = np.array(\n",
    "            [list((' ' * (int(round(d)) - 1) + '*').ljust(20)) for d in y])\n",
    "        return pn.pane.Str('\\n'.join([''.join(r) for r in array.T]), height=380, width=500)\n",
    "\n",
    "\n",
    "sine = Sine(name='ASCII Sine Wave')\n",
    "pn.Row(sine.param, sine.view)"
   ]
  },
  {
   "cell_type": "markdown",
   "metadata": {},
   "source": [
    "The parameterized and annotated ``view`` method could return any one of the types handled by the [Pane objects](./Components.ipynb#Panes) Panel provides, making it easy to link parameters and their associated widgets to a plot or other output. Parameterized classes can therefore be a very useful pattern for encapsulating a part of a computational workflow with an associated visualization, declaratively expressing the dependencies between the parameters and the computation.\n",
    "\n",
    "By default, a Param pane will show widgets for all parameters with a `precedence` value above the value `pn.Param.display_threshold`, so you can use `precedence` to automatically hide parameters that are not meant to have widgets.  You can also explicitly choose which parameters should have widgets in a given pane, by passing a `parameters` argument.  For example, this code gives a `phase` widget, while maintaining `sine.frequency` at the initial value of `1`:"
   ]
  },
  {
   "cell_type": "code",
   "execution_count": 13,
   "metadata": {},
   "outputs": [
    {
     "data": {},
     "metadata": {},
     "output_type": "display_data"
    },
    {
     "data": {
      "application/vnd.holoviews_exec.v0+json": "",
      "text/html": [
       "<div id='1143'>\n",
       "\n",
       "\n",
       "\n",
       "\n",
       "\n",
       "  <div class=\"bk-root\" id=\"084dcdc4-d3fa-4e71-82d4-0af1fb9d740e\" data-root-id=\"1143\"></div>\n",
       "</div>\n",
       "<script type=\"application/javascript\">(function(root) {\n",
       "  function embed_document(root) {\n",
       "    var docs_json = {\"4aba9457-aff4-4691-9554-0a5f675b4b8d\":{\"defs\":[],\"roots\":{\"references\":[{\"attributes\":{\"children\":[{\"id\":\"1145\"},{\"id\":\"1146\"}],\"margin\":[5,5,5,5],\"min_width\":300,\"name\":\"ASCII Sine Wave\",\"width\":300},\"id\":\"1144\",\"type\":\"Column\"},{\"attributes\":{\"margin\":[5,10,5,10],\"name\":\"\",\"text\":\"<b>ASCII Sine Wave</b>\"},\"id\":\"1145\",\"type\":\"Div\"},{\"attributes\":{\"height\":380,\"margin\":[5,5,5,5],\"name\":\"Str00286\",\"sizing_mode\":\"fixed\",\"text\":\"&lt;pre&gt;                  ****                  \\n                 *    *                 \\n                *      *                \\n                                        \\n               *        *               \\n                                        \\n                                        \\n              *          *              \\n                                        \\n*            *            *            *\\n                                        \\n *          *              *          * \\n                                        \\n                                        \\n  *        *                *        *  \\n                                        \\n   *      *                  *      *   \\n    *    *                    *    *    \\n     *  *                      *  *     \\n      **                        **      &lt;/pre&gt;\",\"width\":500},\"id\":\"1148\",\"type\":\"panel.models.markup.HTML\"},{\"attributes\":{\"children\":[{\"id\":\"1144\"},{\"id\":\"1147\"}],\"margin\":[0,0,0,0],\"name\":\"Row00291\"},\"id\":\"1143\",\"type\":\"Row\"},{\"attributes\":{\"end\":3.141592653589793,\"margin\":[5,10,5,10],\"start\":0,\"step\":0.1,\"title\":\"Phase\",\"value\":0},\"id\":\"1146\",\"type\":\"Slider\"},{\"attributes\":{\"children\":[{\"id\":\"1148\"}],\"margin\":[0,0,0,0],\"name\":\"Row00288\"},\"id\":\"1147\",\"type\":\"Row\"},{\"attributes\":{\"client_comm_id\":\"ecde211224aa43d0b1587a775d385813\",\"comm_id\":\"baba16e171934ca6918118255de2a278\",\"plot_id\":\"1143\"},\"id\":\"1149\",\"type\":\"panel.models.comm_manager.CommManager\"}],\"root_ids\":[\"1143\",\"1149\"]},\"title\":\"Bokeh Application\",\"version\":\"2.3.1\"}};\n",
       "    var render_items = [{\"docid\":\"4aba9457-aff4-4691-9554-0a5f675b4b8d\",\"root_ids\":[\"1143\"],\"roots\":{\"1143\":\"084dcdc4-d3fa-4e71-82d4-0af1fb9d740e\"}}];\n",
       "    root.Bokeh.embed.embed_items_notebook(docs_json, render_items);\n",
       "  }\n",
       "  if (root.Bokeh !== undefined && root.Bokeh.Panel !== undefined) {\n",
       "    embed_document(root);\n",
       "  } else {\n",
       "    var attempts = 0;\n",
       "    var timer = setInterval(function(root) {\n",
       "      if (root.Bokeh !== undefined && root.Bokeh.Panel !== undefined) {\n",
       "        clearInterval(timer);\n",
       "        embed_document(root);\n",
       "      } else if (document.readyState == \"complete\") {\n",
       "        attempts++;\n",
       "        if (attempts > 100) {\n",
       "          clearInterval(timer);\n",
       "          console.log(\"Bokeh: ERROR: Unable to run BokehJS code because BokehJS library is missing\");\n",
       "        }\n",
       "      }\n",
       "    }, 10, root)\n",
       "  }\n",
       "})(window);</script>"
      ],
      "text/plain": [
       "Row\n",
       "    [0] Column(margin=5, name='ASCII Sine Wave', width=300)\n",
       "        [0] StaticText(value='<b>ASCII Sine Wave</b>')\n",
       "        [1] FloatSlider(end=3.141592653589793, name='Phase')\n",
       "    [1] ParamMethod(method)"
      ]
     },
     "execution_count": 13,
     "metadata": {
      "application/vnd.holoviews_exec.v0+json": {
       "id": "1143"
      }
     },
     "output_type": "execute_result"
    }
   ],
   "source": [
    "pn.Row(pn.panel(sine.param, parameters=['phase']), sine.view)"
   ]
  },
  {
   "cell_type": "markdown",
   "metadata": {},
   "source": [
    "Another common pattern is linking the values of one parameter to another parameter, e.g. when dependencies between parameters exist. In the example below we will define two parameters, one for the continent and one for the country. Since we want the selection of valid countries to change when we change the continent, we define a method to do that for us. In order to link the two we express the dependency using the ``param.depends`` decorator and then ensure that we will run the method whenever the continent changes by setting ``watch=True``.\n",
    "\n",
    "We also define a ``view`` method that returns an HTML iframe displaying the country using Google Maps."
   ]
  },
  {
   "cell_type": "code",
   "execution_count": 14,
   "metadata": {},
   "outputs": [
    {
     "data": {},
     "metadata": {},
     "output_type": "display_data"
    },
    {
     "data": {
      "application/vnd.holoviews_exec.v0+json": "",
      "text/html": [
       "<div id='1150'>\n",
       "\n",
       "\n",
       "\n",
       "\n",
       "\n",
       "  <div class=\"bk-root\" id=\"d551b70d-cd3e-4445-89f3-fc377cd588e2\" data-root-id=\"1150\"></div>\n",
       "</div>\n",
       "<script type=\"application/javascript\">(function(root) {\n",
       "  function embed_document(root) {\n",
       "    var docs_json = {\"2995cbec-0bc7-42d1-96e9-945a668305b3\":{\"defs\":[],\"roots\":{\"references\":[{\"attributes\":{\"children\":[{\"id\":\"1152\"},{\"id\":\"1153\"},{\"id\":\"1154\"}],\"margin\":[5,5,5,5],\"min_width\":300,\"name\":\"Google Map Viewer\",\"width\":300},\"id\":\"1151\",\"type\":\"Column\"},{\"attributes\":{\"children\":[{\"id\":\"1151\"},{\"id\":\"1155\"}],\"margin\":[0,0,0,0],\"name\":\"Row00312\"},\"id\":\"1150\",\"type\":\"Row\"},{\"attributes\":{\"client_comm_id\":\"340246ff4fd14526ba360f28540cb7c0\",\"comm_id\":\"7645fa9fd11848f0b78652a8ed936819\",\"plot_id\":\"1150\"},\"id\":\"1157\",\"type\":\"panel.models.comm_manager.CommManager\"},{\"attributes\":{\"height\":400,\"margin\":[5,5,5,5],\"name\":\"HTML00308\",\"text\":\"\\n        &lt;iframe width=&quot;800&quot; height=&quot;400&quot; src=&quot;https://maps.google.com/maps?q=China&amp;z=6&amp;output=embed&quot;\\n        frameborder=&quot;0&quot; scrolling=&quot;no&quot; marginheight=&quot;0&quot; marginwidth=&quot;0&quot;&gt;&lt;/iframe&gt;\\n        \"},\"id\":\"1156\",\"type\":\"panel.models.markup.HTML\"},{\"attributes\":{\"margin\":[5,10,5,10],\"options\":[[\"Africa\",\"Africa\"],[\"Asia\",\"Asia\"],[\"Europe\",\"Europe\"]],\"title\":\"Continent\",\"value\":\"Asia\"},\"id\":\"1153\",\"type\":\"Select\"},{\"attributes\":{\"margin\":[5,10,5,10],\"options\":[[\"China\",\"China\"],[\"Thailand\",\"Thailand\"],[\"Japan\",\"Japan\"]],\"title\":\"Country\",\"value\":\"China\"},\"id\":\"1154\",\"type\":\"Select\"},{\"attributes\":{\"margin\":[5,10,5,10],\"name\":\"\",\"text\":\"<b>Google Map Viewer</b>\"},\"id\":\"1152\",\"type\":\"Div\"},{\"attributes\":{\"children\":[{\"id\":\"1156\"}],\"margin\":[0,0,0,0],\"name\":\"Row00307\"},\"id\":\"1155\",\"type\":\"Row\"}],\"root_ids\":[\"1150\",\"1157\"]},\"title\":\"Bokeh Application\",\"version\":\"2.3.1\"}};\n",
       "    var render_items = [{\"docid\":\"2995cbec-0bc7-42d1-96e9-945a668305b3\",\"root_ids\":[\"1150\"],\"roots\":{\"1150\":\"d551b70d-cd3e-4445-89f3-fc377cd588e2\"}}];\n",
       "    root.Bokeh.embed.embed_items_notebook(docs_json, render_items);\n",
       "  }\n",
       "  if (root.Bokeh !== undefined && root.Bokeh.Panel !== undefined) {\n",
       "    embed_document(root);\n",
       "  } else {\n",
       "    var attempts = 0;\n",
       "    var timer = setInterval(function(root) {\n",
       "      if (root.Bokeh !== undefined && root.Bokeh.Panel !== undefined) {\n",
       "        clearInterval(timer);\n",
       "        embed_document(root);\n",
       "      } else if (document.readyState == \"complete\") {\n",
       "        attempts++;\n",
       "        if (attempts > 100) {\n",
       "          clearInterval(timer);\n",
       "          console.log(\"Bokeh: ERROR: Unable to run BokehJS code because BokehJS library is missing\");\n",
       "        }\n",
       "      }\n",
       "    }, 10, root)\n",
       "  }\n",
       "})(window);</script>"
      ],
      "text/plain": [
       "Row\n",
       "    [0] Column(margin=5, name='Google Map Viewer', width=300)\n",
       "        [0] StaticText(value='<b>Google Map V...)\n",
       "        [1] Select(name='Continent', options=OrderedDict([('Africa', ...]), value='Asia')\n",
       "        [2] Select(name='Country', options=OrderedDict([('China', ...]), value='China')\n",
       "    [1] ParamMethod(method)"
      ]
     },
     "execution_count": 14,
     "metadata": {
      "application/vnd.holoviews_exec.v0+json": {
       "id": "1150"
      }
     },
     "output_type": "execute_result"
    }
   ],
   "source": [
    "class GoogleMapViewer(param.Parameterized):\n",
    "    \n",
    "    continent = param.ObjectSelector(default='Asia', objects=['Africa', 'Asia', 'Europe'])\n",
    "    \n",
    "    country = param.ObjectSelector(default='China', objects=['China', 'Thailand', 'Japan'])\n",
    "    \n",
    "    _countries = {'Africa': ['Ghana', 'Togo', 'South Africa', 'Tanzania'],\n",
    "                  'Asia'  : ['China', 'Thailand', 'Japan'],\n",
    "                  'Europe': ['Austria', 'Bulgaria', 'Greece', 'Portugal', 'Switzerland']}\n",
    "    \n",
    "    @param.depends('continent', watch=True)\n",
    "    def _update_countries(self):\n",
    "        countries = self._countries[self.continent]\n",
    "        self.param['country'].objects = countries\n",
    "        self.country = countries[0]\n",
    "\n",
    "    @param.depends('country')\n",
    "    def view(self):\n",
    "        iframe = \"\"\"\n",
    "        <iframe width=\"800\" height=\"400\" src=\"https://maps.google.com/maps?q={country}&z=6&output=embed\"\n",
    "        frameborder=\"0\" scrolling=\"no\" marginheight=\"0\" marginwidth=\"0\"></iframe>\n",
    "        \"\"\".format(country=self.country)\n",
    "        return pn.pane.HTML(iframe, height=400)\n",
    "        \n",
    "viewer = GoogleMapViewer(name='Google Map Viewer')\n",
    "pn.Row(viewer.param, viewer.view)"
   ]
  },
  {
   "cell_type": "markdown",
   "metadata": {},
   "source": [
    "Whenever the continent changes Param will now eagerly execute the ``_update_countries`` method to change the list of countries that is displayed, which in turn triggers an update in the view method updating the map. Note that there is no need to add ``watch=True`` to decorators of methods that are passed to a Panel layout (e.g. ``viewer.View`` being passed to ``pn.Row`` here), because Panel will already handle dependencies on those methods, executing the method automatically when the dependent parameters change. Indeed, if you specify ``watch=True`` for such a method, the method will get invoked _twice_ each time a dependency changes (once by Param internally and once by Panel), so you should reserve ``watch=True`` only for methods that aren't otherwise being monitored for dependencies."
   ]
  },
  {
   "cell_type": "markdown",
   "metadata": {},
   "source": [
    "## Parameter subobjects\n",
    "\n",
    "``Parameterized`` objects often have parameter values which are themselves ``Parameterized`` objects, forming a tree-like structure. Panel allows you to edit not just the main object's parameters but also lets you drill down to the subobject. Let us first define some classes declaring a hierarchy of Shape classes which draw a Bokeh plot of the selected shape:"
   ]
  },
  {
   "cell_type": "code",
   "execution_count": 15,
   "metadata": {},
   "outputs": [],
   "source": [
    "from bokeh.plotting import figure\n",
    "\n",
    "\n",
    "class Shape(param.Parameterized):\n",
    "\n",
    "    radius = param.Number(default=1, bounds=(0, 1))\n",
    "\n",
    "    def __init__(self, **params):\n",
    "        super(Shape, self).__init__(**params)\n",
    "        self.figure = figure(x_range=(-1, 1), y_range=(-1, 1))\n",
    "        self.renderer = self.figure.line(*self._get_coords())\n",
    "\n",
    "    def _get_coords(self):\n",
    "        return [], []\n",
    "\n",
    "    def view(self):\n",
    "        return self.figure\n",
    "\n",
    "\n",
    "class Circle(Shape):\n",
    "\n",
    "    n = param.Integer(default=100, precedence=-1)\n",
    "\n",
    "    def _get_coords(self):\n",
    "        angles = np.linspace(0, 2 * np.pi, self.n + 1)\n",
    "        return (self.radius * np.sin(angles),\n",
    "                self.radius * np.cos(angles))\n",
    "\n",
    "    @param.depends('radius', watch=True)\n",
    "    def update(self):\n",
    "        xs, ys = self._get_coords()\n",
    "        self.renderer.data_source.data.update({'x': xs, 'y': ys})\n",
    "\n",
    "\n",
    "class NGon(Circle):\n",
    "\n",
    "    n = param.Integer(default=3, bounds=(3, 10), precedence=1)\n",
    "\n",
    "    @param.depends('radius', 'n', watch=True)\n",
    "    def update(self):\n",
    "        xs, ys = self._get_coords()\n",
    "        self.renderer.data_source.data.update({'x': xs, 'y': ys})"
   ]
  },
  {
   "cell_type": "markdown",
   "metadata": {},
   "source": [
    "Now that we have multiple Shape classes we can make instances of them and declare a ``ShapeViewer`` to select between them. We can also declare two methods with parameter dependencies, updating the plot and the plot title. The important thing to note here is that the ``param.depends`` decorator can not only depend on parameters on the object itself but also on specific parameters on the subobject, e.g. ``shape.radius``, or on all parameters of the subobject, expressed as ``shape.param``."
   ]
  },
  {
   "cell_type": "code",
   "execution_count": 16,
   "metadata": {},
   "outputs": [],
   "source": [
    "shapes = [NGon(), Circle()]\n",
    "\n",
    "class ShapeViewer(param.Parameterized):\n",
    "    \n",
    "    shape = param.ObjectSelector(default=shapes[0], objects=shapes)\n",
    "    \n",
    "    @param.depends('shape')\n",
    "    def view(self):\n",
    "        return self.shape.view()\n",
    "    \n",
    "    @param.depends('shape', 'shape.radius')\n",
    "    def title(self):\n",
    "        return '## %s (radius=%.1f)' % (type(self.shape).__name__, self.shape.radius)\n",
    "    \n",
    "    def panel(self):\n",
    "        return pn.Column(self.title, self.view)"
   ]
  },
  {
   "cell_type": "markdown",
   "metadata": {},
   "source": [
    "Now that we have a class with subobjects we can display it as usual.  Three main options control how the subobject is rendered:\n",
    "\n",
    "* ``expand``: Whether the subobject is expanded on initialization (``default=False``).\n",
    "* ``expand_button``: Whether there should be a button to toggle expansion; otherwise it is fixed to the initial ``expand`` value (``default=True``).\n",
    "* ``expand_layout``: A layout type or instance to expand the plot into (``default=Column``).\n",
    "\n",
    "Let us start with the default view, which provides a toggle button to expand the subobject as desired:"
   ]
  },
  {
   "cell_type": "code",
   "execution_count": 17,
   "metadata": {},
   "outputs": [
    {
     "data": {},
     "metadata": {},
     "output_type": "display_data"
    },
    {
     "data": {
      "application/vnd.holoviews_exec.v0+json": "",
      "text/html": [
       "<div id='1230'>\n",
       "\n",
       "\n",
       "\n",
       "\n",
       "\n",
       "  <div class=\"bk-root\" id=\"4159016e-c365-4325-8523-69f1064f1a3e\" data-root-id=\"1230\"></div>\n",
       "</div>\n",
       "<script type=\"application/javascript\">(function(root) {\n",
       "  function embed_document(root) {\n",
       "    var docs_json = {\"0e1996c2-5692-4477-9001-6fd8de415874\":{\"defs\":[],\"roots\":{\"references\":[{\"attributes\":{\"children\":[{\"id\":\"1158\"}],\"margin\":[0,0,0,0],\"name\":\"Row00329\"},\"id\":\"1239\",\"type\":\"Row\"},{\"attributes\":{\"data_source\":{\"id\":\"1189\"},\"glyph\":{\"id\":\"1190\"},\"hover_glyph\":null,\"muted_glyph\":null,\"nonselection_glyph\":{\"id\":\"1191\"},\"view\":{\"id\":\"1193\"}},\"id\":\"1192\",\"type\":\"GlyphRenderer\"},{\"attributes\":{},\"id\":\"1242\",\"type\":\"BasicTickFormatter\"},{\"attributes\":{\"below\":[{\"id\":\"1167\"}],\"center\":[{\"id\":\"1170\"},{\"id\":\"1174\"}],\"left\":[{\"id\":\"1171\"}],\"renderers\":[{\"id\":\"1192\"}],\"title\":{\"id\":\"1240\"},\"toolbar\":{\"id\":\"1182\"},\"x_range\":{\"id\":\"1159\"},\"x_scale\":{\"id\":\"1163\"},\"y_range\":{\"id\":\"1161\"},\"y_scale\":{\"id\":\"1165\"}},\"id\":\"1158\",\"subtype\":\"Figure\",\"type\":\"Plot\"},{\"attributes\":{\"axis\":{\"id\":\"1171\"},\"dimension\":1,\"ticker\":null},\"id\":\"1174\",\"type\":\"Grid\"},{\"attributes\":{\"children\":[{\"id\":\"1237\"},{\"id\":\"1239\"}],\"margin\":[0,0,0,0],\"name\":\"Column00332\"},\"id\":\"1236\",\"type\":\"Column\"},{\"attributes\":{},\"id\":\"1243\",\"type\":\"AllLabels\"},{\"attributes\":{\"children\":[{\"id\":\"1231\"},{\"id\":\"1236\"}],\"margin\":[0,0,0,0],\"name\":\"Row00341\"},\"id\":\"1230\",\"type\":\"Row\"},{\"attributes\":{\"margin\":[5,10,5,10],\"name\":\"\",\"text\":\"<b>ShapeViewer</b>\"},\"id\":\"1232\",\"type\":\"Div\"},{\"attributes\":{\"children\":[{\"id\":\"1234\"},{\"id\":\"1235\"}],\"margin\":[0,0,0,0],\"name\":\"Row00340\",\"width_policy\":\"max\"},\"id\":\"1233\",\"type\":\"Row\"},{\"attributes\":{\"align\":\"end\",\"button_type\":\"primary\",\"height_policy\":\"fit\",\"icon\":null,\"label\":\"\\u22ee\",\"margin\":[0,0,5,10],\"max_height\":30,\"max_width\":20},\"id\":\"1235\",\"type\":\"Toggle\"},{\"attributes\":{\"bottom_units\":\"screen\",\"fill_alpha\":0.5,\"fill_color\":\"lightgrey\",\"left_units\":\"screen\",\"level\":\"overlay\",\"line_alpha\":1.0,\"line_color\":\"black\",\"line_dash\":[4,4],\"line_width\":2,\"right_units\":\"screen\",\"syncable\":false,\"top_units\":\"screen\"},\"id\":\"1181\",\"type\":\"BoxAnnotation\"},{\"attributes\":{},\"id\":\"1178\",\"type\":\"SaveTool\"},{\"attributes\":{\"margin\":[5,0,5,10],\"min_width\":240,\"options\":[[\"<NGon NGon00315>\",\"NGon00315\"],[\"<Circle Circle00316>\",\"Circle00316\"]],\"title\":\"Shape\",\"value\":\"<NGon NGon00315>\",\"width\":240},\"id\":\"1234\",\"type\":\"Select\"},{\"attributes\":{\"css_classes\":[\"markdown\"],\"margin\":[5,5,5,5],\"name\":\"ParamMethod00318\",\"text\":\"&lt;h2&gt;NGon (radius=1.0)&lt;/h2&gt;\"},\"id\":\"1238\",\"type\":\"panel.models.markup.HTML\"},{\"attributes\":{\"children\":[{\"id\":\"1238\"}],\"margin\":[0,0,0,0],\"name\":\"Row00322\"},\"id\":\"1237\",\"type\":\"Row\"},{\"attributes\":{},\"id\":\"1245\",\"type\":\"BasicTickFormatter\"},{\"attributes\":{},\"id\":\"1246\",\"type\":\"AllLabels\"},{\"attributes\":{\"data\":{\"x\":{\"__ndarray__\":\"AAAAAAAAAACrTFjoerbrP6hMWOh6tuu/B1wUMyamsbw=\",\"dtype\":\"float64\",\"order\":\"little\",\"shape\":[4]},\"y\":{\"__ndarray__\":\"AAAAAAAA8D/8///////fvwQAAAAAAOC/AAAAAAAA8D8=\",\"dtype\":\"float64\",\"order\":\"little\",\"shape\":[4]}},\"selected\":{\"id\":\"1249\"},\"selection_policy\":{\"id\":\"1248\"}},\"id\":\"1189\",\"type\":\"ColumnDataSource\"},{\"attributes\":{},\"id\":\"1249\",\"type\":\"Selection\"},{\"attributes\":{},\"id\":\"1240\",\"type\":\"Title\"},{\"attributes\":{\"overlay\":{\"id\":\"1181\"}},\"id\":\"1177\",\"type\":\"BoxZoomTool\"},{\"attributes\":{},\"id\":\"1172\",\"type\":\"BasicTicker\"},{\"attributes\":{\"start\":-1},\"id\":\"1159\",\"type\":\"Range1d\"},{\"attributes\":{},\"id\":\"1175\",\"type\":\"PanTool\"},{\"attributes\":{\"start\":-1},\"id\":\"1161\",\"type\":\"Range1d\"},{\"attributes\":{},\"id\":\"1176\",\"type\":\"WheelZoomTool\"},{\"attributes\":{\"line_color\":\"#1f77b4\",\"x\":{\"field\":\"x\"},\"y\":{\"field\":\"y\"}},\"id\":\"1190\",\"type\":\"Line\"},{\"attributes\":{},\"id\":\"1163\",\"type\":\"LinearScale\"},{\"attributes\":{},\"id\":\"1165\",\"type\":\"LinearScale\"},{\"attributes\":{},\"id\":\"1179\",\"type\":\"ResetTool\"},{\"attributes\":{\"client_comm_id\":\"25f5a1b6b2704e7ab22e4f60b1920c7c\",\"comm_id\":\"848bf94c7d9a43a5853fe3d02e7adad5\",\"plot_id\":\"1230\"},\"id\":\"1295\",\"type\":\"panel.models.comm_manager.CommManager\"},{\"attributes\":{\"formatter\":{\"id\":\"1242\"},\"major_label_policy\":{\"id\":\"1243\"},\"ticker\":{\"id\":\"1172\"}},\"id\":\"1171\",\"type\":\"LinearAxis\"},{\"attributes\":{\"active_multi\":null,\"tools\":[{\"id\":\"1175\"},{\"id\":\"1176\"},{\"id\":\"1177\"},{\"id\":\"1178\"},{\"id\":\"1179\"},{\"id\":\"1180\"}]},\"id\":\"1182\",\"type\":\"Toolbar\"},{\"attributes\":{\"axis\":{\"id\":\"1167\"},\"ticker\":null},\"id\":\"1170\",\"type\":\"Grid\"},{\"attributes\":{},\"id\":\"1180\",\"type\":\"HelpTool\"},{\"attributes\":{},\"id\":\"1168\",\"type\":\"BasicTicker\"},{\"attributes\":{},\"id\":\"1248\",\"type\":\"UnionRenderers\"},{\"attributes\":{\"source\":{\"id\":\"1189\"}},\"id\":\"1193\",\"type\":\"CDSView\"},{\"attributes\":{\"formatter\":{\"id\":\"1245\"},\"major_label_policy\":{\"id\":\"1246\"},\"ticker\":{\"id\":\"1168\"}},\"id\":\"1167\",\"type\":\"LinearAxis\"},{\"attributes\":{\"line_alpha\":0.1,\"line_color\":\"#1f77b4\",\"x\":{\"field\":\"x\"},\"y\":{\"field\":\"y\"}},\"id\":\"1191\",\"type\":\"Line\"},{\"attributes\":{\"children\":[{\"id\":\"1232\"},{\"id\":\"1233\"}],\"margin\":[5,5,5,5],\"min_width\":300,\"name\":\"ShapeViewer\",\"width\":300},\"id\":\"1231\",\"type\":\"Column\"}],\"root_ids\":[\"1230\",\"1295\"]},\"title\":\"Bokeh Application\",\"version\":\"2.3.1\"}};\n",
       "    var render_items = [{\"docid\":\"0e1996c2-5692-4477-9001-6fd8de415874\",\"root_ids\":[\"1230\"],\"roots\":{\"1230\":\"4159016e-c365-4325-8523-69f1064f1a3e\"}}];\n",
       "    root.Bokeh.embed.embed_items_notebook(docs_json, render_items);\n",
       "  }\n",
       "  if (root.Bokeh !== undefined && root.Bokeh.Panel !== undefined) {\n",
       "    embed_document(root);\n",
       "  } else {\n",
       "    var attempts = 0;\n",
       "    var timer = setInterval(function(root) {\n",
       "      if (root.Bokeh !== undefined && root.Bokeh.Panel !== undefined) {\n",
       "        clearInterval(timer);\n",
       "        embed_document(root);\n",
       "      } else if (document.readyState == \"complete\") {\n",
       "        attempts++;\n",
       "        if (attempts > 100) {\n",
       "          clearInterval(timer);\n",
       "          console.log(\"Bokeh: ERROR: Unable to run BokehJS code because BokehJS library is missing\");\n",
       "        }\n",
       "      }\n",
       "    }, 10, root)\n",
       "  }\n",
       "})(window);</script>"
      ],
      "text/plain": [
       "Row\n",
       "    [0] Column(margin=5, name='ShapeViewer', width=300)\n",
       "        [0] StaticText(value='<b>ShapeViewer</b>')\n",
       "        [1] Row(width_policy='max')\n",
       "            [0] Select(margin=(5, 0, 5, 10), name='Shape', options=OrderedDict([('NGon00315',...]), value=NGon, width=240)\n",
       "            [1] Toggle(align='end', button_type='primary', height_policy='fit', margin=(0, 0, 5, 10), max_height=30, max_width=20, name='⋮')\n",
       "    [1] Column\n",
       "        [0] ParamMethod(method)\n",
       "        [1] ParamMethod(method)"
      ]
     },
     "execution_count": 17,
     "metadata": {
      "application/vnd.holoviews_exec.v0+json": {
       "id": "1230"
      }
     },
     "output_type": "execute_result"
    }
   ],
   "source": [
    "viewer = ShapeViewer()\n",
    "\n",
    "pn.Row(viewer.param, viewer.panel())"
   ]
  },
  {
   "cell_type": "markdown",
   "metadata": {},
   "source": [
    "Alternatively we can provide a completely separate ``expand_layout`` instance to the Param pane and request that it always remains expanded using the ``expand`` and ``expand_button`` option. This allows us to lay out the main widgets and the subobject's widgets separately:"
   ]
  },
  {
   "cell_type": "code",
   "execution_count": 18,
   "metadata": {},
   "outputs": [
    {
     "data": {},
     "metadata": {},
     "output_type": "display_data"
    },
    {
     "data": {
      "application/vnd.holoviews_exec.v0+json": "",
      "text/html": [
       "<div id='1351'>\n",
       "\n",
       "\n",
       "\n",
       "\n",
       "\n",
       "  <div class=\"bk-root\" id=\"3b9963cb-5039-4970-a314-b65ce4302c37\" data-root-id=\"1351\"></div>\n",
       "</div>\n",
       "<script type=\"application/javascript\">(function(root) {\n",
       "  function embed_document(root) {\n",
       "    var docs_json = {\"ae83b393-3df8-442e-b716-f160411a790b\":{\"defs\":[],\"roots\":{\"references\":[{\"attributes\":{\"children\":[{\"id\":\"1358\"}],\"margin\":[0,0,0,0],\"name\":\"Column00345\"},\"id\":\"1357\",\"type\":\"Column\"},{\"attributes\":{},\"id\":\"1242\",\"type\":\"BasicTickFormatter\"},{\"attributes\":{\"end\":1,\"margin\":[5,10,5,10],\"start\":0,\"step\":0.1,\"title\":\"Radius\",\"value\":1},\"id\":\"1360\",\"type\":\"Slider\"},{\"attributes\":{\"data_source\":{\"id\":\"1189\"},\"glyph\":{\"id\":\"1190\"},\"hover_glyph\":null,\"muted_glyph\":null,\"nonselection_glyph\":{\"id\":\"1191\"},\"view\":{\"id\":\"1193\"}},\"id\":\"1192\",\"type\":\"GlyphRenderer\"},{\"attributes\":{\"children\":[{\"id\":\"1353\"},{\"id\":\"1356\"},{\"id\":\"1357\"}],\"margin\":[0,0,0,0],\"name\":\"Column00362\"},\"id\":\"1352\",\"type\":\"Column\"},{\"attributes\":{\"children\":[{\"id\":\"1359\"},{\"id\":\"1360\"},{\"id\":\"1361\"}],\"margin\":[5,5,5,5],\"min_width\":300,\"name\":\"NGon00315\",\"width\":300},\"id\":\"1358\",\"type\":\"Column\"},{\"attributes\":{\"below\":[{\"id\":\"1167\"}],\"center\":[{\"id\":\"1170\"},{\"id\":\"1174\"}],\"left\":[{\"id\":\"1171\"}],\"renderers\":[{\"id\":\"1192\"}],\"title\":{\"id\":\"1240\"},\"toolbar\":{\"id\":\"1182\"},\"x_range\":{\"id\":\"1159\"},\"x_scale\":{\"id\":\"1163\"},\"y_range\":{\"id\":\"1161\"},\"y_scale\":{\"id\":\"1165\"}},\"id\":\"1158\",\"subtype\":\"Figure\",\"type\":\"Plot\"},{\"attributes\":{\"axis\":{\"id\":\"1171\"},\"dimension\":1,\"ticker\":null},\"id\":\"1174\",\"type\":\"Grid\"},{\"attributes\":{},\"id\":\"1243\",\"type\":\"AllLabels\"},{\"attributes\":{\"children\":[{\"id\":\"1354\"},{\"id\":\"1355\"}],\"margin\":[5,5,5,5],\"min_width\":300,\"name\":\"ShapeViewer\",\"width\":300},\"id\":\"1353\",\"type\":\"Column\"},{\"attributes\":{\"margin\":[5,10,5,10],\"name\":\"\",\"text\":\"<b>NGon00315</b>\"},\"id\":\"1359\",\"type\":\"Div\"},{\"attributes\":{\"children\":[{\"id\":\"1363\"},{\"id\":\"1365\"}],\"margin\":[0,0,0,0],\"name\":\"Column00377\"},\"id\":\"1362\",\"type\":\"Column\"},{\"attributes\":{\"css_classes\":[\"markdown\"],\"margin\":[5,5,5,5],\"name\":\"Markdown00360\",\"text\":\"&lt;h4&gt;Subobject parameters:&lt;/h4&gt;\"},\"id\":\"1356\",\"type\":\"panel.models.markup.HTML\"},{\"attributes\":{\"children\":[{\"id\":\"1352\"},{\"id\":\"1362\"}],\"margin\":[0,0,0,0],\"name\":\"Row00378\"},\"id\":\"1351\",\"type\":\"Row\"},{\"attributes\":{\"margin\":[5,10,5,10],\"name\":\"\",\"text\":\"<b>ShapeViewer</b>\"},\"id\":\"1354\",\"type\":\"Div\"},{\"attributes\":{\"end\":10,\"margin\":[5,10,5,10],\"start\":3,\"title\":\"N\",\"value\":3},\"id\":\"1361\",\"type\":\"Slider\"},{\"attributes\":{\"bottom_units\":\"screen\",\"fill_alpha\":0.5,\"fill_color\":\"lightgrey\",\"left_units\":\"screen\",\"level\":\"overlay\",\"line_alpha\":1.0,\"line_color\":\"black\",\"line_dash\":[4,4],\"line_width\":2,\"right_units\":\"screen\",\"syncable\":false,\"top_units\":\"screen\"},\"id\":\"1181\",\"type\":\"BoxAnnotation\"},{\"attributes\":{\"margin\":[5,10,5,10],\"options\":[[\"<NGon NGon00315>\",\"NGon00315\"],[\"<Circle Circle00316>\",\"Circle00316\"]],\"title\":\"Shape\",\"value\":\"<NGon NGon00315>\"},\"id\":\"1355\",\"type\":\"Select\"},{\"attributes\":{},\"id\":\"1178\",\"type\":\"SaveTool\"},{\"attributes\":{\"children\":[{\"id\":\"1364\"}],\"margin\":[0,0,0,0],\"name\":\"Row00367\"},\"id\":\"1363\",\"type\":\"Row\"},{\"attributes\":{\"css_classes\":[\"markdown\"],\"margin\":[5,5,5,5],\"name\":\"ParamMethod00363\",\"text\":\"&lt;h2&gt;NGon (radius=1.0)&lt;/h2&gt;\"},\"id\":\"1364\",\"type\":\"panel.models.markup.HTML\"},{\"attributes\":{},\"id\":\"1245\",\"type\":\"BasicTickFormatter\"},{\"attributes\":{},\"id\":\"1246\",\"type\":\"AllLabels\"},{\"attributes\":{\"data\":{\"x\":{\"__ndarray__\":\"AAAAAAAAAACrTFjoerbrP6hMWOh6tuu/B1wUMyamsbw=\",\"dtype\":\"float64\",\"order\":\"little\",\"shape\":[4]},\"y\":{\"__ndarray__\":\"AAAAAAAA8D/8///////fvwQAAAAAAOC/AAAAAAAA8D8=\",\"dtype\":\"float64\",\"order\":\"little\",\"shape\":[4]}},\"selected\":{\"id\":\"1249\"},\"selection_policy\":{\"id\":\"1248\"}},\"id\":\"1189\",\"type\":\"ColumnDataSource\"},{\"attributes\":{},\"id\":\"1249\",\"type\":\"Selection\"},{\"attributes\":{},\"id\":\"1240\",\"type\":\"Title\"},{\"attributes\":{\"client_comm_id\":\"b47b6b48bf864703a737901821aa092e\",\"comm_id\":\"680cada059814db09d747a4872fc6e5a\",\"plot_id\":\"1351\"},\"id\":\"1432\",\"type\":\"panel.models.comm_manager.CommManager\"},{\"attributes\":{\"overlay\":{\"id\":\"1181\"}},\"id\":\"1177\",\"type\":\"BoxZoomTool\"},{\"attributes\":{},\"id\":\"1172\",\"type\":\"BasicTicker\"},{\"attributes\":{\"start\":-1},\"id\":\"1159\",\"type\":\"Range1d\"},{\"attributes\":{},\"id\":\"1175\",\"type\":\"PanTool\"},{\"attributes\":{\"start\":-1},\"id\":\"1161\",\"type\":\"Range1d\"},{\"attributes\":{},\"id\":\"1176\",\"type\":\"WheelZoomTool\"},{\"attributes\":{\"line_color\":\"#1f77b4\",\"x\":{\"field\":\"x\"},\"y\":{\"field\":\"y\"}},\"id\":\"1190\",\"type\":\"Line\"},{\"attributes\":{},\"id\":\"1163\",\"type\":\"LinearScale\"},{\"attributes\":{},\"id\":\"1165\",\"type\":\"LinearScale\"},{\"attributes\":{},\"id\":\"1179\",\"type\":\"ResetTool\"},{\"attributes\":{\"formatter\":{\"id\":\"1242\"},\"major_label_policy\":{\"id\":\"1243\"},\"ticker\":{\"id\":\"1172\"}},\"id\":\"1171\",\"type\":\"LinearAxis\"},{\"attributes\":{\"active_multi\":null,\"tools\":[{\"id\":\"1175\"},{\"id\":\"1176\"},{\"id\":\"1177\"},{\"id\":\"1178\"},{\"id\":\"1179\"},{\"id\":\"1180\"}]},\"id\":\"1182\",\"type\":\"Toolbar\"},{\"attributes\":{\"axis\":{\"id\":\"1167\"},\"ticker\":null},\"id\":\"1170\",\"type\":\"Grid\"},{\"attributes\":{},\"id\":\"1180\",\"type\":\"HelpTool\"},{\"attributes\":{},\"id\":\"1168\",\"type\":\"BasicTicker\"},{\"attributes\":{},\"id\":\"1248\",\"type\":\"UnionRenderers\"},{\"attributes\":{\"source\":{\"id\":\"1189\"}},\"id\":\"1193\",\"type\":\"CDSView\"},{\"attributes\":{\"formatter\":{\"id\":\"1245\"},\"major_label_policy\":{\"id\":\"1246\"},\"ticker\":{\"id\":\"1168\"}},\"id\":\"1167\",\"type\":\"LinearAxis\"},{\"attributes\":{\"line_alpha\":0.1,\"line_color\":\"#1f77b4\",\"x\":{\"field\":\"x\"},\"y\":{\"field\":\"y\"}},\"id\":\"1191\",\"type\":\"Line\"},{\"attributes\":{\"children\":[{\"id\":\"1158\"}],\"margin\":[0,0,0,0],\"name\":\"Row00374\"},\"id\":\"1365\",\"type\":\"Row\"}],\"root_ids\":[\"1351\",\"1432\"]},\"title\":\"Bokeh Application\",\"version\":\"2.3.1\"}};\n",
       "    var render_items = [{\"docid\":\"ae83b393-3df8-442e-b716-f160411a790b\",\"root_ids\":[\"1351\"],\"roots\":{\"1351\":\"3b9963cb-5039-4970-a314-b65ce4302c37\"}}];\n",
       "    root.Bokeh.embed.embed_items_notebook(docs_json, render_items);\n",
       "  }\n",
       "  if (root.Bokeh !== undefined && root.Bokeh.Panel !== undefined) {\n",
       "    embed_document(root);\n",
       "  } else {\n",
       "    var attempts = 0;\n",
       "    var timer = setInterval(function(root) {\n",
       "      if (root.Bokeh !== undefined && root.Bokeh.Panel !== undefined) {\n",
       "        clearInterval(timer);\n",
       "        embed_document(root);\n",
       "      } else if (document.readyState == \"complete\") {\n",
       "        attempts++;\n",
       "        if (attempts > 100) {\n",
       "          clearInterval(timer);\n",
       "          console.log(\"Bokeh: ERROR: Unable to run BokehJS code because BokehJS library is missing\");\n",
       "        }\n",
       "      }\n",
       "    }, 10, root)\n",
       "  }\n",
       "})(window);</script>"
      ],
      "text/plain": [
       "Row\n",
       "    [0] Column\n",
       "        [0] Column(margin=5, name='ShapeViewer', width=300)\n",
       "            [0] StaticText(value='<b>ShapeViewer</b>')\n",
       "            [1] Select(name='Shape', options=OrderedDict([('NGon00315',...]), value=NGon)\n",
       "        [1] Markdown(str)\n",
       "        [2] Column\n",
       "            [0] Param(NGon, expand=True, expand_button=False, expand_layout=Column)\n",
       "    [1] Column\n",
       "        [0] ParamMethod(method)\n",
       "        [1] ParamMethod(method)"
      ]
     },
     "execution_count": 18,
     "metadata": {
      "application/vnd.holoviews_exec.v0+json": {
       "id": "1351"
      }
     },
     "output_type": "execute_result"
    }
   ],
   "source": [
    "viewer = ShapeViewer()\n",
    "\n",
    "expand_layout = pn.Column()\n",
    "\n",
    "pn.Row(\n",
    "    pn.Column(\n",
    "        pn.panel(viewer.param, expand_button=False, expand=True, expand_layout=expand_layout),\n",
    "        \"#### Subobject parameters:\",\n",
    "        expand_layout),\n",
    "    viewer.panel())"
   ]
  },
  {
   "cell_type": "markdown",
   "metadata": {},
   "source": [
    "## Syncing query parameters\n",
    "\n",
    "By default the current [query parameters](https://en.wikipedia.org/wiki/Query_string) in the URL (specified as a URL suffix such as `?color=blue`) are made available on `pn.state.location.query_params`. To make working with query parameters straightforward the `Location` object also provides a `sync` method which allows syncing query parameters with the parameters on a `Parameterized` object.\n",
    "\n",
    "We will start by defining a `Parameterized` class:"
   ]
  },
  {
   "cell_type": "code",
   "execution_count": 19,
   "metadata": {},
   "outputs": [],
   "source": [
    "class QueryExample(param.Parameterized):\n",
    "    \n",
    "    integer = param.Integer(default=None, bounds=(0, 10))\n",
    "    \n",
    "    string = param.String(default='A string')"
   ]
  },
  {
   "cell_type": "markdown",
   "metadata": {},
   "source": [
    "Now we will use the `pn.state.location` object to sync it with the URL query string (note that in a notebook environment `pn.state.location` is not initialized until the first plot has been displayed). The sync method takes the Parameterized object or instance to sync with as the first argument and a list or dictionary of the parameters as the second argument. If a dictionary is provided it should map from the Parameterized object's parameters to the query parameter name in the URL:"
   ]
  },
  {
   "cell_type": "code",
   "execution_count": 20,
   "metadata": {},
   "outputs": [],
   "source": [
    "pn.state.location.sync(QueryExample, {'integer': 'int', 'string': 'str'})"
   ]
  },
  {
   "cell_type": "markdown",
   "metadata": {},
   "source": [
    "Now the Parameterized object is bi-directionally linked to the URL query parameter, if we set a query parameter in Python it will update the URL bar and when we specify a URL with a query parameter that will be set on the Parameterized, e.g. let us set the 'integer' parameter and watch the URL in your browser update:"
   ]
  },
  {
   "cell_type": "code",
   "execution_count": 21,
   "metadata": {},
   "outputs": [],
   "source": [
    "QueryExample.integer = 5"
   ]
  },
  {
   "cell_type": "markdown",
   "metadata": {},
   "source": [
    "Note to unsync the Parameterized object you can simply call pn.state.location.unsync(QueryExample)."
   ]
  },
  {
   "cell_type": "markdown",
   "metadata": {},
   "source": [
    "In this user guide we have seen how to leverage Param to declare parameters, which Panel can then turn into a GUI with little additionl effort or code. We have also seen how to link parameters to views and to other parameters using the ``param.depends`` operator. This approach allows building complex and reactive panels. In the [pipelines user guide](Pipelines.ipynb) we can discover how to link multiple such classes into pipelines, making it possible to encapsulate complex workflows in clean self-contained classes."
   ]
  }
 ],
 "metadata": {
  "kernelspec": {
   "display_name": "Python 3",
   "language": "python",
   "name": "python3"
  },
  "language_info": {
   "codemirror_mode": {
    "name": "ipython",
    "version": 3
   },
   "file_extension": ".py",
   "mimetype": "text/x-python",
   "name": "python",
   "nbconvert_exporter": "python",
   "pygments_lexer": "ipython3",
   "version": "3.8.5"
  }
 },
 "nbformat": 4,
 "nbformat_minor": 4
}
