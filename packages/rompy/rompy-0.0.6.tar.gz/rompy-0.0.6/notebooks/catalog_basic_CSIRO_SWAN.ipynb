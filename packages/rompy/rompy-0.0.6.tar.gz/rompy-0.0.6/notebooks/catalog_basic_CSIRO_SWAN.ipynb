{
 "cells": [
  {
   "cell_type": "markdown",
   "id": "confident-plate",
   "metadata": {},
   "source": [
    "# Demonstrate access to individual simulations via the Intake catalog"
   ]
  },
  {
   "cell_type": "code",
   "execution_count": 1,
   "id": "difficult-recommendation",
   "metadata": {},
   "outputs": [
    {
     "data": {
      "text/plain": [
       "<xarray.core.options.set_options at 0x7fd303e83730>"
      ]
     },
     "execution_count": 1,
     "metadata": {},
     "output_type": "execute_result"
    }
   ],
   "source": [
    "import rompy\n",
    "import xarray as xr\n",
    "\n",
    "xr.set_options(display_style='text')"
   ]
  },
  {
   "cell_type": "code",
   "execution_count": 2,
   "id": "major-winner",
   "metadata": {},
   "outputs": [],
   "source": [
    "cat = rompy.cat"
   ]
  },
  {
   "cell_type": "code",
   "execution_count": 3,
   "id": "charitable-kitty",
   "metadata": {},
   "outputs": [
    {
     "data": {
      "text/plain": [
       "{'swan_perth_fc.map': name: map\n",
       " container: xarray\n",
       " plugin: ['netcdf']\n",
       " driver: ['netcdf']\n",
       " description: SWAN Maps output\n",
       " direct_access: forbid\n",
       " user_parameters: [{'name': 'fcdate', 'description': 'Forecast date', 'type': 'datetime', 'default': Timestamp('2021-02-03 00:00:00')}]\n",
       " metadata: \n",
       "   plots: \n",
       "     hs: \n",
       "       title: Significant wave height\n",
       "       kind: quadmesh\n",
       "       x: longitude\n",
       "       y: latitude\n",
       "       z: hs\n",
       "       groupby: time\n",
       "       cmap: rainbow\n",
       "       projection: PlateCarree\n",
       "       width: 600\n",
       "       height: 600\n",
       "       dynamic: True\n",
       "       rasterize: True\n",
       " args: \n",
       "   chunks: \n",
       "     time: 24\n",
       "   urlpath: {{ CATALOG_DIR.replace(\"fileServer\",\"dodsC\") }}/{{fcdate.strftime(\"%Y%m%d.000000\")}}/swan_out.nc,\n",
       " 'swan_perth_fc.table': name: table\n",
       " container: xarray\n",
       " plugin: ['netcdf']\n",
       " driver: ['netcdf']\n",
       " description: SWAN Table output\n",
       " direct_access: forbid\n",
       " user_parameters: [{'name': 'fcdate', 'description': 'Forecast date', 'type': 'datetime', 'default': Timestamp('2021-02-03 00:00:00')}]\n",
       " metadata: \n",
       "   plots: \n",
       "     hs: \n",
       "       title: Significant wave height\n",
       "       kind: line\n",
       "       x: time\n",
       "       y: hs\n",
       "       groupby: points\n",
       "       width: 600\n",
       "       height: 600\n",
       " args: \n",
       "   chunks: \n",
       "   urlpath: {{ CATALOG_DIR.replace(\"fileServer\",\"dodsC\") }}/{{fcdate.strftime(\"%Y%m%d.000000\")}}/tab_out.nc,\n",
       " 'swan_perth_fc.spectra': name: spectra\n",
       " container: xarray\n",
       " plugin: ['netcdf']\n",
       " driver: ['netcdf']\n",
       " description: SWAN Spectra output\n",
       " direct_access: forbid\n",
       " user_parameters: [{'name': 'fcdate', 'description': 'Forecast date', 'type': 'datetime', 'default': Timestamp('2021-02-03 00:00:00')}]\n",
       " metadata: \n",
       " args: \n",
       "   chunks: \n",
       "     points: 1\n",
       "   urlpath: {{ CATALOG_DIR.replace(\"fileServer\",\"dodsC\") }}/{{fcdate.strftime(\"%Y%m%d.000000\")}}/spec_out.nc,\n",
       " 'swan_perth_fc': name: swan_perth_fc\n",
       " container: catalog\n",
       " plugin: ['yaml_file_cat']\n",
       " driver: ['yaml_file_cat']\n",
       " description: \n",
       " direct_access: forbid\n",
       " user_parameters: []\n",
       " metadata: \n",
       " args: \n",
       "   path: {{ CATALOG_DIR }}/swan_perth_fc/intake.yaml,\n",
       " 'swan_mandurah_fc.map': name: map\n",
       " container: xarray\n",
       " plugin: ['netcdf']\n",
       " driver: ['netcdf']\n",
       " description: SWAN Maps output\n",
       " direct_access: forbid\n",
       " user_parameters: [{'name': 'fcdate', 'description': 'Forecast date', 'type': 'datetime', 'default': Timestamp('2021-02-03 00:00:00')}]\n",
       " metadata: \n",
       "   plots: \n",
       "     hs: \n",
       "       title: Significant wave height\n",
       "       kind: quadmesh\n",
       "       x: longitude\n",
       "       y: latitude\n",
       "       z: hs\n",
       "       groupby: time\n",
       "       cmap: rainbow\n",
       "       projection: PlateCarree\n",
       "       width: 600\n",
       "       height: 600\n",
       "       dynamic: True\n",
       "       rasterize: True\n",
       " args: \n",
       "   chunks: \n",
       "     time: 24\n",
       "     xc: 500\n",
       "     yc: 500\n",
       "   urlpath: {{ CATALOG_DIR.replace(\"fileServer\",\"dodsC\") }}/{{fcdate.strftime(\"%Y%m%d.000000\")}}/swan_out.nc,\n",
       " 'swan_mandurah_fc.table': name: table\n",
       " container: xarray\n",
       " plugin: ['netcdf']\n",
       " driver: ['netcdf']\n",
       " description: SWAN Table output\n",
       " direct_access: forbid\n",
       " user_parameters: [{'name': 'fcdate', 'description': 'Forecast date', 'type': 'datetime', 'default': Timestamp('2021-02-03 00:00:00')}]\n",
       " metadata: \n",
       "   plots: \n",
       "     hs: \n",
       "       title: Significant wave height\n",
       "       kind: line\n",
       "       x: time\n",
       "       y: hs\n",
       "       groupby: points\n",
       "       width: 600\n",
       "       height: 600\n",
       " args: \n",
       "   chunks: \n",
       "   urlpath: {{ CATALOG_DIR.replace(\"fileServer\",\"dodsC\") }}/{{fcdate.strftime(\"%Y%m%d.000000\")}}/tab_out.nc,\n",
       " 'swan_mandurah_fc.spectra': name: spectra\n",
       " container: xarray\n",
       " plugin: ['netcdf']\n",
       " driver: ['netcdf']\n",
       " description: SWAN Spectra output\n",
       " direct_access: forbid\n",
       " user_parameters: [{'name': 'fcdate', 'description': 'Forecast date', 'type': 'datetime', 'default': Timestamp('2021-02-03 00:00:00')}]\n",
       " metadata: \n",
       " args: \n",
       "   chunks: \n",
       "     points: 1\n",
       "     time: 24\n",
       "   urlpath: {{ CATALOG_DIR.replace(\"fileServer\",\"dodsC\") }}/{{fcdate.strftime(\"%Y%m%d.000000\")}}/spec_out.nc,\n",
       " 'swan_mandurah_fc': name: swan_mandurah_fc\n",
       " container: catalog\n",
       " plugin: ['yaml_file_cat']\n",
       " driver: ['yaml_file_cat']\n",
       " description: \n",
       " direct_access: forbid\n",
       " user_parameters: []\n",
       " metadata: \n",
       " args: \n",
       "   path: {{ CATALOG_DIR }}/swan_mandurah_fc/intake.yaml}"
      ]
     },
     "execution_count": 3,
     "metadata": {},
     "output_type": "execute_result"
    }
   ],
   "source": [
    "cat.csiro.swan.walk()"
   ]
  },
  {
   "cell_type": "code",
   "execution_count": 4,
   "id": "controlling-drain",
   "metadata": {},
   "outputs": [
    {
     "data": {
      "text/plain": [
       "[<matplotlib.lines.Line2D at 0x7fd27232c580>]"
      ]
     },
     "execution_count": 4,
     "metadata": {},
     "output_type": "execute_result"
    },
    {
     "data": {
      "image/png": "[encoded data removed]",
      "text/plain": [
       "<Figure size 432x288 with 1 Axes>"
      ]
     },
     "metadata": {
      "needs_background": "light"
     },
     "output_type": "display_data"
    }
   ],
   "source": [
    "ds=cat.csiro.swan.swan_perth_fc.spectra(fcdate='2021-07-08').to_dask()\n",
    "ds.hs.isel(points=100).plot()"
   ]
  },
  {
   "cell_type": "code",
   "execution_count": null,
   "id": "b8c70773-6fdd-4852-a245-ae7f68460978",
   "metadata": {},
   "outputs": [],
   "source": [
    "import geoviews as gv\n",
    "gv.extension('bokeh')"
   ]
  },
  {
   "cell_type": "code",
   "execution_count": null,
   "id": "acknowledged-atlas",
   "metadata": {},
   "outputs": [],
   "source": [
    "cat.csiro.swan.swan_perth_fc.map(fcdate='2021-07-08').hvplot.hs()"
   ]
  },
  {
   "cell_type": "code",
   "execution_count": 7,
   "id": "prostate-pearl",
   "metadata": {},
   "outputs": [],
   "source": [
    "import wavespectra as ws"
   ]
  },
  {
   "cell_type": "code",
   "execution_count": 8,
   "id": "diagnostic-circumstances",
   "metadata": {},
   "outputs": [
    {
     "data": {
      "text/html": [
       "<pre>&lt;xarray.Dataset&gt;\n",
       "Dimensions:  (dir: 36, freq: 32, site: 438, time: 121)\n",
       "Coordinates:\n",
       "  * time     (time) datetime64[ns] 2021-07-08 2021-07-08T01:00:00 ... 2021-07-13\n",
       "  * freq     (freq) float32 0.0464 0.05123 0.05657 0.06245 ... 0.8203 0.9057 1.0\n",
       "  * dir      (dir) float32 265.0 255.0 245.0 235.0 ... 305.0 295.0 285.0 275.0\n",
       "  * site     (site) int64 1 2 3 4 5 6 7 8 9 ... 431 432 433 434 435 436 437 438\n",
       "Data variables:\n",
       "    lon      (site) float32 dask.array&lt;chunksize=(1,), meta=np.ndarray&gt;\n",
       "    lat      (site) float32 dask.array&lt;chunksize=(1,), meta=np.ndarray&gt;\n",
       "    efth     (time, site, freq, dir) float32 dask.array&lt;chunksize=(121, 1, 32, 36), meta=np.ndarray&gt;\n",
       "    dpt      (time, site) float32 dask.array&lt;chunksize=(121, 1), meta=np.ndarray&gt;\n",
       "    wspd     (time, site) float32 dask.array&lt;chunksize=(121, 1), meta=np.ndarray&gt;\n",
       "    wdir     (time, site) float32 dask.array&lt;chunksize=(121, 1), meta=np.ndarray&gt;\n",
       "Attributes:\n",
       "    Conventions:                     CF-1.5\n",
       "    History:                         Created with agioncmd version 1.5\n",
       "    Directional_convention:          nautical\n",
       "    project:                         SWAN\n",
       "    model:                           41.31\n",
       "    run:                             \n",
       "    DODS_EXTRA.Unlimited_Dimension:  time</pre>"
      ],
      "text/plain": [
       "<xarray.Dataset>\n",
       "Dimensions:  (dir: 36, freq: 32, site: 438, time: 121)\n",
       "Coordinates:\n",
       "  * time     (time) datetime64[ns] 2021-07-08 2021-07-08T01:00:00 ... 2021-07-13\n",
       "  * freq     (freq) float32 0.0464 0.05123 0.05657 0.06245 ... 0.8203 0.9057 1.0\n",
       "  * dir      (dir) float32 265.0 255.0 245.0 235.0 ... 305.0 295.0 285.0 275.0\n",
       "  * site     (site) int64 1 2 3 4 5 6 7 8 9 ... 431 432 433 434 435 436 437 438\n",
       "Data variables:\n",
       "    lon      (site) float32 dask.array<chunksize=(1,), meta=np.ndarray>\n",
       "    lat      (site) float32 dask.array<chunksize=(1,), meta=np.ndarray>\n",
       "    efth     (time, site, freq, dir) float32 dask.array<chunksize=(121, 1, 32, 36), meta=np.ndarray>\n",
       "    dpt      (time, site) float32 dask.array<chunksize=(121, 1), meta=np.ndarray>\n",
       "    wspd     (time, site) float32 dask.array<chunksize=(121, 1), meta=np.ndarray>\n",
       "    wdir     (time, site) float32 dask.array<chunksize=(121, 1), meta=np.ndarray>\n",
       "Attributes:\n",
       "    Conventions:                     CF-1.5\n",
       "    History:                         Created with agioncmd version 1.5\n",
       "    Directional_convention:          nautical\n",
       "    project:                         SWAN\n",
       "    model:                           41.31\n",
       "    run:                             \n",
       "    DODS_EXTRA.Unlimited_Dimension:  time"
      ]
     },
     "execution_count": 8,
     "metadata": {},
     "output_type": "execute_result"
    }
   ],
   "source": [
    "ds_ws = ws.read_dataset(ds)\n",
    "ds_ws"
   ]
  },
  {
   "cell_type": "code",
   "execution_count": 9,
   "id": "downtown-barrier",
   "metadata": {},
   "outputs": [
    {
     "name": "stderr",
     "output_type": "stream",
     "text": [
      "/srv/conda/envs/notebook/lib/python3.8/site-packages/xarray/plot/utils.py:444: MatplotlibDeprecationWarning: Calling gca() with keyword arguments was deprecated in Matplotlib 3.4. Starting two minor releases later, gca() will take no keyword arguments. The gca() function should only be used to get the current axes, or if no axes exist, create new axes with default keyword arguments. To create a new axes with non-default arguments, use plt.axes() or plt.subplot().\n",
      "  ax = plt.gca(**kwargs)\n"
     ]
    },
    {
     "data": {
      "text/plain": [
       "<matplotlib.contour.QuadContourSet at 0x7fd2390d5190>"
      ]
     },
     "execution_count": 9,
     "metadata": {},
     "output_type": "execute_result"
    },
    {
     "data": {
      "image/png": "[encoded data removed]",
      "text/plain": [
       "<Figure size 432x288 with 2 Axes>"
      ]
     },
     "metadata": {
      "needs_background": "light"
     },
     "output_type": "display_data"
    }
   ],
   "source": [
    "ds_ws.isel(site=10,time=5).spec.plot(as_period=True,cmap='viridis')"
   ]
  },
  {
   "cell_type": "code",
   "execution_count": null,
   "id": "romance-judgment",
   "metadata": {},
   "outputs": [],
   "source": []
  },
  {
   "cell_type": "code",
   "execution_count": null,
   "id": "operating-indianapolis",
   "metadata": {},
   "outputs": [],
   "source": []
  }
 ],
 "metadata": {
  "kernelspec": {
   "display_name": "Python 3 (ipykernel)",
   "language": "python",
   "name": "python3"
  },
  "language_info": {
   "codemirror_mode": {
    "name": "ipython",
    "version": 3
   },
   "file_extension": ".py",
   "mimetype": "text/x-python",
   "name": "python",
   "nbconvert_exporter": "python",
   "pygments_lexer": "ipython3",
   "version": "3.8.10"
  }
 },
 "nbformat": 4,
 "nbformat_minor": 5
}
