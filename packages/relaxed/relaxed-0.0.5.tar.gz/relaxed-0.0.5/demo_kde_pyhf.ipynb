{
 "cells": [
  {
   "cell_type": "markdown",
   "source": [
    "# KDE demo, with histosys!\n",
    "\n",
    "> It works :)"
   ],
   "metadata": {}
  },
  {
   "cell_type": "markdown",
   "source": [],
   "metadata": {}
  },
  {
   "cell_type": "markdown",
   "source": [],
   "metadata": {}
  },
  {
   "cell_type": "markdown",
   "source": [
    "![](assets/kde_pyhf_animation.gif)"
   ],
   "metadata": {}
  },
  {
   "cell_type": "code",
   "execution_count": null,
   "source": [
    "!pip install neos matplotlib celluloid\n",
    "!pip install git+http://github.com/scikit-hep/pyhf.git@diffable_json"
   ],
   "outputs": [],
   "metadata": {}
  },
  {
   "cell_type": "code",
   "execution_count": null,
   "source": [
    "import time\n",
    "\n",
    "import jax\n",
    "import jax.experimental.optimizers as optimizers\n",
    "import jax.experimental.stax as stax\n",
    "import jax.random\n",
    "from jax.random import PRNGKey\n",
    "import numpy as np\n",
    "from functools import partial\n",
    "\n",
    "import pyhf\n",
    "pyhf.set_backend('jax')\n",
    "pyhf.default_backend = pyhf.tensor.jax_backend(precision='64b')\n",
    "\n",
    "from neos import data, makers\n",
    "from relaxed import infer\n",
    "\n",
    "rng = PRNGKey(22)"
   ],
   "outputs": [],
   "metadata": {}
  },
  {
   "cell_type": "code",
   "execution_count": null,
   "source": [
    "# regression net\n",
    "init_random_params, predict = stax.serial(\n",
    "    stax.Dense(1024),\n",
    "    stax.Relu,\n",
    "    stax.Dense(1024),\n",
    "    stax.Relu,\n",
    "    stax.Dense(1),\n",
    "    stax.Sigmoid,\n",
    ")"
   ],
   "outputs": [],
   "metadata": {}
  },
  {
   "cell_type": "markdown",
   "source": [
    "## Compose differentiable workflow"
   ],
   "metadata": {}
  },
  {
   "cell_type": "code",
   "execution_count": null,
   "source": [
    "dgen = data.generate_blobs(rng,blobs=4) \n",
    "\n",
    "# Specify our hyperparameters ahead of time for the kde histograms\n",
    "bins = np.linspace(0,1,4)\n",
    "bandwidth=0.27\n",
    "reflect_infinite_bins = False\n",
    "import jax.numpy as jnp\n",
    "bins = jnp.array([-9999, *bins, 9999])\n",
    "hmaker = makers.hists_from_nn(dgen, predict, hpar_dict = dict(bins=bins,bandwidth=bandwidth),method='kde', reflect_infinities=reflect_infinite_bins)"
   ],
   "outputs": [],
   "metadata": {}
  },
  {
   "cell_type": "code",
   "execution_count": null,
   "source": [
    "nnm = makers.histosys_model_from_hists(hmaker)\n",
    "get_cls = infer.make_hypotest(nnm, solver_kwargs=dict(pdf_transform=False),metrics = [\"CLs\", \"pull\"])\n",
    "\n",
    "# loss returns a list of metrics -- let's just index into one (CLs)\n",
    "def loss(params):\n",
    "    return get_cls(params, test_mu=1.0)[\"CLs\"]"
   ],
   "outputs": [],
   "metadata": {}
  },
  {
   "cell_type": "markdown",
   "source": [
    "### Randomly initialise nn weights and check that we can get the gradient of the loss wrt nn params"
   ],
   "metadata": {}
  },
  {
   "cell_type": "code",
   "execution_count": null,
   "source": [
    "#nnm(network)[0].config.suggested_init()\n",
    "#get_cls(network, test_mu=1.0)[\"pull\"][0]"
   ],
   "outputs": [],
   "metadata": {}
  },
  {
   "cell_type": "code",
   "execution_count": null,
   "source": [
    "_, network = init_random_params(jax.random.PRNGKey(2), (-1, 2))\n",
    "\n",
    "# gradient wrt nn weights\n",
    "#jax.value_and_grad(loss)(network)"
   ],
   "outputs": [],
   "metadata": {}
  },
  {
   "cell_type": "markdown",
   "source": [
    "### Define training loop!"
   ],
   "metadata": {}
  },
  {
   "cell_type": "code",
   "execution_count": null,
   "source": [
    "opt_init, opt_update, opt_params = optimizers.adam(1e-3)\n",
    "\n",
    "def train_network(N):\n",
    "    cls_vals = []\n",
    "    _, network = init_random_params(jax.random.PRNGKey(1), (-1, 2))\n",
    "    state = opt_init(network)\n",
    "    losses = []\n",
    "\n",
    "    # parameter update function\n",
    "    # @jax.jit\n",
    "    def update_and_value(i, opt_state, mu):\n",
    "        net = opt_params(opt_state)\n",
    "        value, grad = jax.value_and_grad(loss)(net)\n",
    "        return opt_update(i, grad, state), value, net\n",
    "\n",
    "    for i in range(N):\n",
    "        start_time = time.time()\n",
    "        state, value, network = update_and_value(i, state, 1.0)\n",
    "        epoch_time = time.time() - start_time\n",
    "        losses.append(value)\n",
    "        pull = get_cls(network, test_mu=1.0)[\"pull\"]\n",
    "        metrics = {\"loss\": losses, \"pull\": pull}\n",
    "\n",
    "\n",
    "        \n",
    "        yield network, metrics, epoch_time"
   ],
   "outputs": [],
   "metadata": {}
  },
  {
   "cell_type": "markdown",
   "source": [
    "### Plotting helper function for awesome animations :)"
   ],
   "metadata": {}
  },
  {
   "cell_type": "code",
   "execution_count": null,
   "source": [
    "def plot(axs, network, metrics, maxN):\n",
    "    ax = axs[\"Data space\"]\n",
    "    g = np.mgrid[-5:5:101j, -5:5:101j]\n",
    "    levels = bins[1:-1] # infinite\n",
    "    ax.contourf(\n",
    "        g[0],\n",
    "        g[1],\n",
    "        predict(network, np.moveaxis(g, 0, -1)).reshape(101, 101, 1)[:, :, 0],\n",
    "        levels=levels,\n",
    "        cmap=\"binary\",\n",
    "    )\n",
    "    ax.contour(\n",
    "        g[0],\n",
    "        g[1],\n",
    "        predict(network, np.moveaxis(g, 0, -1)).reshape(101, 101, 1)[:, :, 0],\n",
    "        colors=\"w\",\n",
    "        levels=levels,\n",
    "    )\n",
    "    sig, bkg_nom, bkg_up, bkg_down = dgen()\n",
    "\n",
    "    ax.scatter(sig[:, 0], sig[:, 1], alpha=0.3, c=\"C9\")\n",
    "    ax.scatter(bkg_up[:, 0], bkg_up[:, 1], alpha=0.1, c=\"C1\", marker=6)\n",
    "    ax.scatter(bkg_down[:, 0], bkg_down[:, 1], alpha=0.1, c=\"C1\", marker=7)\n",
    "    ax.scatter(bkg_nom[:, 0], bkg_nom[:, 1], alpha=0.3, c=\"C1\")\n",
    "\n",
    "    ax.set_xlim(-5, 5)\n",
    "    ax.set_ylim(-5, 5)\n",
    "    ax.set_xlabel(\"x\")\n",
    "    ax.set_ylabel(\"y\")\n",
    "\n",
    "    ax = axs[\"CLs per epoch\"]\n",
    "    # ax.axhline(0.05, c=\"slategray\", linestyle=\"--\")\n",
    "    ax.plot(metrics[\"loss\"], c=\"steelblue\", linewidth=2.0)\n",
    "    ax.set_yscale(\"log\")\n",
    "    ax.set_ylim(1e-4, 0.06)\n",
    "    ax.set_xlim(0, maxN)\n",
    "    ax.set_xlabel(\"epoch\")\n",
    "    ax.set_ylabel(r\"$CL_s$\")\n",
    "    \n",
    "    ax = axs[\"Histogram model\"]\n",
    "    s, b, bup, bdown = hmaker(network)\n",
    "\n",
    "    \n",
    "    noinf = bins[1:-1]\n",
    "    bin_width = 1 / (len(noinf) - 1)\n",
    "    centers = noinf[:-1] + np.diff(noinf) / 2.0\n",
    "    centers = jnp.array([noinf[0]-bin_width, *centers, noinf[-1]+bin_width])\n",
    "\n",
    "    ax.bar(centers, b, color=\"C1\", width=bin_width)\n",
    "    ax.bar(centers, s, bottom=b, color=\"C9\", width=bin_width)\n",
    "\n",
    "    bunc = np.asarray([[x, y] if x > y else [y, x] for x, y in zip(bup, bdown)])\n",
    "    plot_unc = []\n",
    "    for unc, be in zip(bunc, b):\n",
    "        if all(unc > be):\n",
    "            plot_unc.append([max(unc), be])\n",
    "        elif all(unc < be):\n",
    "            plot_unc.append([be, min(unc)])\n",
    "        else:\n",
    "            plot_unc.append(unc)\n",
    "\n",
    "    plot_unc = np.asarray(plot_unc)\n",
    "    b_up, b_down = plot_unc[:, 0], plot_unc[:, 1]\n",
    "\n",
    "    ax.bar(centers, bup - b, bottom=b, alpha=0.4, color=\"red\", width=bin_width, hatch=\"+\")\n",
    "    ax.bar(\n",
    "        centers, b - bdown, bottom=bdown, alpha=0.4, color=\"green\", width=bin_width, hatch=\"-\"\n",
    "    )\n",
    "\n",
    "    ax.set_ylim(0, 120)\n",
    "    ax.set_ylabel(\"frequency\")\n",
    "    ax.set_xlabel(\"nn output\")\n",
    "\n",
    "    ax = axs[\"Nuisance pull\"]\n",
    "\n",
    "    pulls = get_cls(network, test_mu=1.0)[\"pull\"]\n",
    "\n",
    "    ax.set_ylabel(r\"$(\\theta - \\hat{\\theta})\\,/ \\Delta \\theta$\", fontsize=18)\n",
    "\n",
    "    # draw the +/- 2.0 horizontal lines\n",
    "    ax.hlines([-2, 2], -0.5, len(pulls) - 0.5, colors=\"black\", linestyles=\"dotted\")\n",
    "    # draw the +/- 1.0 horizontal lines\n",
    "    ax.hlines([-1, 1], -0.5, len(pulls) - 0.5, colors=\"black\", linestyles=\"dashdot\")\n",
    "    # draw the +/- 2.0 sigma band\n",
    "    ax.fill_between([-0.5, len(pulls) - 0.5], [-2, -2], [2, 2], facecolor=\"yellow\")\n",
    "    # drawe the +/- 1.0 sigma band\n",
    "    ax.fill_between([-0.5, len(pulls) - 0.5], [-1, -1], [1, 1], facecolor=\"green\")\n",
    "    # draw a horizontal line at pull=0.0\n",
    "    ax.hlines([0], -0.5, len(pulls) - 0.5, colors=\"black\", linestyles=\"dashed\")\n",
    "\n",
    "    ax.scatter(range(len(pulls)), pulls, color=\"black\")"
   ],
   "outputs": [],
   "metadata": {}
  },
  {
   "cell_type": "markdown",
   "source": [
    "### Let's run it!!"
   ],
   "metadata": {}
  },
  {
   "cell_type": "code",
   "execution_count": null,
   "source": [
    "# slow\n",
    "import numpy as np\n",
    "from IPython.display import HTML\n",
    "\n",
    "from matplotlib import pyplot as plt\n",
    "\n",
    "plt.rcParams.update(\n",
    "    {\n",
    "        \"axes.labelsize\": 13,\n",
    "        \"axes.linewidth\": 1.2,\n",
    "        \"xtick.labelsize\": 13,\n",
    "        \"ytick.labelsize\": 13,\n",
    "        \"figure.figsize\": [13.0, 8.0],\n",
    "        \"font.size\": 13,\n",
    "        \"xtick.major.size\": 3,\n",
    "        \"ytick.major.size\": 3,\n",
    "        \"legend.fontsize\": 11,\n",
    "    }\n",
    ")\n",
    "\n",
    "plt.rc(\"figure\", dpi=120)\n",
    "\n",
    "fig, axs = plt.subplot_mosaic(\n",
    "    [[\"Data space\", \"Nuisance pull\"], [\"Histogram model\", \"CLs per epoch\"]]\n",
    ")\n",
    "\n",
    "for label, ax in axs.items():\n",
    "    ax.set_title(label, fontstyle=\"italic\")\n",
    "\n",
    "maxN = 50 # make me bigger for better results!\n",
    "\n",
    "animate = True  # animations fail tests...\n",
    "ax_cpy = axs\n",
    "if animate:\n",
    "    from celluloid import Camera\n",
    "\n",
    "    camera = Camera(fig)\n",
    "\n",
    "# Training\n",
    "for i, (network, metrics, epoch_time) in enumerate(train_network(maxN)):\n",
    "    print(f\"epoch {i}:\", f'pull={metrics[\"pull\"]}', f'CLs = {metrics[\"loss\"][-1]}, took {epoch_time}s')\n",
    "    if animate:\n",
    "        plot(axs, network, metrics, maxN=maxN)\n",
    "        plt.tight_layout()\n",
    "        camera.snap()\n",
    "        axs = ax_cpy\n",
    "        # if i % 10 == 0:\n",
    "        #     camera.animate().save(\"animation.gif\", writer=\"imagemagick\", fps=8)\n",
    "            # HTML(camera.animate().to_html5_video())\n",
    "    # break\n",
    "if animate:\n",
    "    camera.animate().save(\"animationinfesoft.gif\", writer=\"imagemagick\", fps=10)"
   ],
   "outputs": [],
   "metadata": {}
  },
  {
   "cell_type": "raw",
   "source": [],
   "metadata": {}
  },
  {
   "cell_type": "code",
   "execution_count": null,
   "source": [],
   "outputs": [],
   "metadata": {}
  },
  {
   "cell_type": "code",
   "execution_count": null,
   "source": [],
   "outputs": [],
   "metadata": {}
  },
  {
   "cell_type": "code",
   "execution_count": null,
   "source": [],
   "outputs": [],
   "metadata": {}
  }
 ],
 "metadata": {
  "interpreter": {
   "hash": "7f10549c50ba52f5c9e67d014ea88d7008bd0ef1a34b29bebbe024206c4351a6"
  },
  "kernelspec": {
   "name": "python3",
   "display_name": "Python 3.8.6 64-bit ('.venv': venv)"
  },
  "language_info": {
   "name": "python",
   "version": "3.8.6",
   "mimetype": "text/x-python",
   "codemirror_mode": {
    "name": "ipython",
    "version": 3
   },
   "pygments_lexer": "ipython3",
   "nbconvert_exporter": "python",
   "file_extension": ".py"
  }
 },
 "nbformat": 4,
 "nbformat_minor": 4
}
