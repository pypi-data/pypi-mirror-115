{
 "cells": [
  {
   "cell_type": "markdown",
   "metadata": {},
   "source": [
    "# Introduction"
   ]
  },
  {
   "cell_type": "code",
   "execution_count": 7,
   "metadata": {},
   "outputs": [
    {
     "name": "stdout",
     "output_type": "stream",
     "text": [
      "The autoreload extension is already loaded. To reload it, use:\n",
      "  %reload_ext autoreload\n"
     ]
    }
   ],
   "source": [
    "%load_ext autoreload\n",
    "\n",
    "%autoreload 1"
   ]
  },
  {
   "cell_type": "code",
   "execution_count": 8,
   "metadata": {},
   "outputs": [],
   "source": [
    "\n",
    "import worlds.test as test"
   ]
  },
  {
   "cell_type": "code",
   "execution_count": 9,
   "metadata": {},
   "outputs": [],
   "source": [
    "def check(solve):\n",
    "    maze = test.generate_maze()\n",
    "    bot = maze.bot()\n",
    "    bot.set_trace('red')\n",
    "    solve(bot)\n",
    "    maze.check()\n",
    "    return maze"
   ]
  },
  {
   "cell_type": "code",
   "execution_count": null,
   "metadata": {},
   "outputs": [],
   "source": [
    "def u_turn(bot):\n",
    "    bot.turn_left()\n",
    "    bot.turn_left()\n",
    "    \n",
    "def goto_start(bot):\n",
    "    bot.turn_left()\n",
    "    bot.move(bot.x - 1)\n",
    "    u_turn(bot)\n",
    "\n",
    "def goto_row(bot, y):\n",
    "    bot.turn_left()\n",
    "    bot.move(y)\n",
    "        \n",
    "def pick_all(bot):\n",
    "    while bot.object_here():\n",
    "        bot.take()\n",
    "\n",
    "def drop_all(bot):\n",
    "    steps = 0\n",
    "    while bot.carries_object():\n",
    "        bot.put()\n",
    "        bot.move()\n",
    "        steps +=1\n",
    "    return steps\n",
    "\n",
    "def find_next(bot):\n",
    "    while not bot.object_here():\n",
    "        bot.move()\n",
    "\n",
    "\n",
    "def solve(bot):\n",
    "    dictionary = {\n",
    "        'apple': 4,\n",
    "        'banana': 6,\n",
    "        'carrot': 9,\n",
    "        'daisy': 3,\n",
    "        'dandelion': 7,\n",
    "        'tulip': 8\n",
    "    }\n",
    "    \n",
    "    while not bot.at_goal():\n",
    "        obj = find_next(bot)\n",
    "        \n",
    "        if obj is not None:\n",
    "            pick_all(bot)\n",
    "            moves = dictionary[obj] - 1\n",
    "            goto_row(bot, moves)\n",
    "            goto_start(bot)\n",
    "            steps = drop_all(bot)\n",
    "            \n",
    "            u_turn(bot)\n",
    "            bot.move(steps)\n",
    "            bot.turn_left()\n",
    "            bot.move(moves)\n",
    "            bot.turn_left()\n",
    "        \n",
    "check(solve)"
   ]
  },
  {
   "cell_type": "code",
   "execution_count": null,
   "metadata": {},
   "outputs": [],
   "source": []
  }
 ],
 "metadata": {
  "kernelspec": {
   "display_name": "Python 3",
   "language": "python",
   "name": "python3"
  },
  "language_info": {
   "codemirror_mode": {
    "name": "ipython",
    "version": 3
   },
   "file_extension": ".py",
   "mimetype": "text/x-python",
   "name": "python",
   "nbconvert_exporter": "python",
   "pygments_lexer": "ipython3",
   "version": "3.8.8"
  }
 },
 "nbformat": 4,
 "nbformat_minor": 4
}
